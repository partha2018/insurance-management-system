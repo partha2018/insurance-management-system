{
 "cells": [
  {
   "cell_type": "markdown",
   "metadata": {
    "id": "FH-41yKxq92s"
   },
   "source": [
    "This notebook contains the code for data wrangling and Model building."
   ]
  },
  {
   "cell_type": "code",
   "execution_count": 1,
   "metadata": {
    "id": "KlgyBCGoGtBH"
   },
   "outputs": [],
   "source": [
    "#importing libararies\n",
    "import csv\n",
    "import pandas as pd\n",
    "from sklearn.model_selection import train_test_split\n",
    "from sklearn.compose import make_column_transformer\n",
    "from sklearn.preprocessing import StandardScaler\n",
    "#from category_encoders import TargetEncoder\n",
    "from sklearn.preprocessing import OneHotEncoder\n",
    "from sklearn.tree import DecisionTreeClassifier\n",
    "import sklearn\n",
    "from sklearn import tree\n",
    "import matplotlib.pyplot as plt\n",
    "import seaborn as sns\n",
    "import time\n",
    "from datetime import timedelta\n",
    "from scipy.special import boxcox1p\n",
    "from scipy import stats\n",
    "import numpy as np\n",
    "import warnings\n",
    "warnings.simplefilter(action='ignore', category=FutureWarning)\n",
    "import pandas as pd\n",
    "import requests\n",
    "from bs4 import BeautifulSoup\n",
    "import plotly.express as px"
   ]
  },
  {
   "cell_type": "code",
   "execution_count": 2,
   "metadata": {
    "colab": {
     "base_uri": "https://localhost:8080/"
    },
    "id": "Wb1TmnZ1DkeB",
    "outputId": "3d08ef12-7e7d-49ba-f4a5-9d63c5fab5da"
   },
   "outputs": [
    {
     "name": "stdout",
     "output_type": "stream",
     "text": [
      "Drive already mounted at /content/drive; to attempt to forcibly remount, call drive.mount(\"/content/drive\", force_remount=True).\n"
     ]
    }
   ],
   "source": [
    "from google.colab import drive\n",
    "drive.mount('/content/drive')"
   ]
  },
  {
   "cell_type": "code",
   "execution_count": 3,
   "metadata": {
    "colab": {
     "base_uri": "https://localhost:8080/"
    },
    "id": "HgQmkDvDHx-x",
    "outputId": "60bd7603-8d52-4eaf-8b0e-66ea562ecf47"
   },
   "outputs": [
    {
     "data": {
      "text/plain": [
       "(133089, 104)"
      ]
     },
     "execution_count": 3,
     "metadata": {},
     "output_type": "execute_result"
    }
   ],
   "source": [
    "#reading the final cleaned file from the previous notebook\n",
    "df = pd.read_csv('/content/drive/MyDrive/final_df.csv')\n",
    "df.shape"
   ]
  },
  {
   "cell_type": "code",
   "execution_count": 4,
   "metadata": {
    "colab": {
     "base_uri": "https://localhost:8080/",
     "height": 421
    },
    "id": "obj5-JDcH4Jp",
    "outputId": "9510448d-a941-460e-cc13-a5c7f456635b"
   },
   "outputs": [
    {
     "data": {
      "text/html": [
       "\n",
       "  <div id=\"df-9f670dc1-43c7-4a44-9b6b-db35c20f6e05\">\n",
       "    <div class=\"colab-df-container\">\n",
       "      <div>\n",
       "<style scoped>\n",
       "    .dataframe tbody tr th:only-of-type {\n",
       "        vertical-align: middle;\n",
       "    }\n",
       "\n",
       "    .dataframe tbody tr th {\n",
       "        vertical-align: top;\n",
       "    }\n",
       "\n",
       "    .dataframe thead th {\n",
       "        text-align: right;\n",
       "    }\n",
       "</style>\n",
       "<table border=\"1\" class=\"dataframe\">\n",
       "  <thead>\n",
       "    <tr style=\"text-align: right;\">\n",
       "      <th></th>\n",
       "      <th>msa</th>\n",
       "      <th>year</th>\n",
       "      <th>site</th>\n",
       "      <th>group</th>\n",
       "      <th>priv_count</th>\n",
       "      <th>priv_pay_mean</th>\n",
       "      <th>priv_pay_median</th>\n",
       "      <th>priv_pay_iqr</th>\n",
       "      <th>mcare_pay_mean</th>\n",
       "      <th>mcare_pay_median</th>\n",
       "      <th>...</th>\n",
       "      <th>ownership_PRIVATE (FOR PROFIT)_mode_y</th>\n",
       "      <th>ownership_PRIVATE (NOT FOR PROFIT)_mode_y</th>\n",
       "      <th>ownership_STATE_mode_y</th>\n",
       "      <th>ownership_TRIBAL_mode_y</th>\n",
       "      <th>urban_rural_URBAN_mode_y</th>\n",
       "      <th>teaching_YES_mode_y</th>\n",
       "      <th>hospital_count</th>\n",
       "      <th>avg_income_2020</th>\n",
       "      <th>population_estimate_2020</th>\n",
       "      <th>Life Expectancy</th>\n",
       "    </tr>\n",
       "  </thead>\n",
       "  <tbody>\n",
       "    <tr>\n",
       "      <th>0</th>\n",
       "      <td>10180</td>\n",
       "      <td>2018</td>\n",
       "      <td>Inpatient</td>\n",
       "      <td>breast reconstruction</td>\n",
       "      <td>NaN</td>\n",
       "      <td>NaN</td>\n",
       "      <td>NaN</td>\n",
       "      <td>NaN</td>\n",
       "      <td>NaN</td>\n",
       "      <td>NaN</td>\n",
       "      <td>...</td>\n",
       "      <td>0.0</td>\n",
       "      <td>0.0</td>\n",
       "      <td>0.0</td>\n",
       "      <td>0.0</td>\n",
       "      <td>1.0</td>\n",
       "      <td>0.0</td>\n",
       "      <td>8.0</td>\n",
       "      <td>47740.0</td>\n",
       "      <td>173185.0</td>\n",
       "      <td>77.864183</td>\n",
       "    </tr>\n",
       "    <tr>\n",
       "      <th>1</th>\n",
       "      <td>10420</td>\n",
       "      <td>2018</td>\n",
       "      <td>Inpatient</td>\n",
       "      <td>breast reconstruction</td>\n",
       "      <td>8.0</td>\n",
       "      <td>19937.08375</td>\n",
       "      <td>16147.330</td>\n",
       "      <td>5692.86</td>\n",
       "      <td>NaN</td>\n",
       "      <td>NaN</td>\n",
       "      <td>...</td>\n",
       "      <td>0.0</td>\n",
       "      <td>0.0</td>\n",
       "      <td>0.0</td>\n",
       "      <td>0.0</td>\n",
       "      <td>1.0</td>\n",
       "      <td>1.0</td>\n",
       "      <td>11.0</td>\n",
       "      <td>53252.0</td>\n",
       "      <td>701449.0</td>\n",
       "      <td>76.567472</td>\n",
       "    </tr>\n",
       "    <tr>\n",
       "      <th>2</th>\n",
       "      <td>10500</td>\n",
       "      <td>2018</td>\n",
       "      <td>Inpatient</td>\n",
       "      <td>breast reconstruction</td>\n",
       "      <td>NaN</td>\n",
       "      <td>NaN</td>\n",
       "      <td>NaN</td>\n",
       "      <td>NaN</td>\n",
       "      <td>NaN</td>\n",
       "      <td>NaN</td>\n",
       "      <td>...</td>\n",
       "      <td>0.5</td>\n",
       "      <td>0.0</td>\n",
       "      <td>0.0</td>\n",
       "      <td>0.0</td>\n",
       "      <td>1.0</td>\n",
       "      <td>0.0</td>\n",
       "      <td>4.0</td>\n",
       "      <td>45593.0</td>\n",
       "      <td>145206.0</td>\n",
       "      <td>76.615437</td>\n",
       "    </tr>\n",
       "    <tr>\n",
       "      <th>3</th>\n",
       "      <td>10540</td>\n",
       "      <td>2018</td>\n",
       "      <td>Inpatient</td>\n",
       "      <td>breast reconstruction</td>\n",
       "      <td>NaN</td>\n",
       "      <td>NaN</td>\n",
       "      <td>NaN</td>\n",
       "      <td>NaN</td>\n",
       "      <td>NaN</td>\n",
       "      <td>NaN</td>\n",
       "      <td>...</td>\n",
       "      <td>0.0</td>\n",
       "      <td>0.5</td>\n",
       "      <td>0.0</td>\n",
       "      <td>0.0</td>\n",
       "      <td>1.0</td>\n",
       "      <td>0.5</td>\n",
       "      <td>2.0</td>\n",
       "      <td>42653.0</td>\n",
       "      <td>131054.0</td>\n",
       "      <td>79.088550</td>\n",
       "    </tr>\n",
       "    <tr>\n",
       "      <th>4</th>\n",
       "      <td>10580</td>\n",
       "      <td>2018</td>\n",
       "      <td>Inpatient</td>\n",
       "      <td>breast reconstruction</td>\n",
       "      <td>4.0</td>\n",
       "      <td>14837.26000</td>\n",
       "      <td>10420.675</td>\n",
       "      <td>4474.06</td>\n",
       "      <td>NaN</td>\n",
       "      <td>NaN</td>\n",
       "      <td>...</td>\n",
       "      <td>0.0</td>\n",
       "      <td>1.0</td>\n",
       "      <td>0.0</td>\n",
       "      <td>0.0</td>\n",
       "      <td>1.0</td>\n",
       "      <td>0.0</td>\n",
       "      <td>17.0</td>\n",
       "      <td>58601.0</td>\n",
       "      <td>878550.0</td>\n",
       "      <td>80.327023</td>\n",
       "    </tr>\n",
       "  </tbody>\n",
       "</table>\n",
       "<p>5 rows × 104 columns</p>\n",
       "</div>\n",
       "      <button class=\"colab-df-convert\" onclick=\"convertToInteractive('df-9f670dc1-43c7-4a44-9b6b-db35c20f6e05')\"\n",
       "              title=\"Convert this dataframe to an interactive table.\"\n",
       "              style=\"display:none;\">\n",
       "        \n",
       "  <svg xmlns=\"http://www.w3.org/2000/svg\" height=\"24px\"viewBox=\"0 0 24 24\"\n",
       "       width=\"24px\">\n",
       "    <path d=\"M0 0h24v24H0V0z\" fill=\"none\"/>\n",
       "    <path d=\"M18.56 5.44l.94 2.06.94-2.06 2.06-.94-2.06-.94-.94-2.06-.94 2.06-2.06.94zm-11 1L8.5 8.5l.94-2.06 2.06-.94-2.06-.94L8.5 2.5l-.94 2.06-2.06.94zm10 10l.94 2.06.94-2.06 2.06-.94-2.06-.94-.94-2.06-.94 2.06-2.06.94z\"/><path d=\"M17.41 7.96l-1.37-1.37c-.4-.4-.92-.59-1.43-.59-.52 0-1.04.2-1.43.59L10.3 9.45l-7.72 7.72c-.78.78-.78 2.05 0 2.83L4 21.41c.39.39.9.59 1.41.59.51 0 1.02-.2 1.41-.59l7.78-7.78 2.81-2.81c.8-.78.8-2.07 0-2.86zM5.41 20L4 18.59l7.72-7.72 1.47 1.35L5.41 20z\"/>\n",
       "  </svg>\n",
       "      </button>\n",
       "      \n",
       "  <style>\n",
       "    .colab-df-container {\n",
       "      display:flex;\n",
       "      flex-wrap:wrap;\n",
       "      gap: 12px;\n",
       "    }\n",
       "\n",
       "    .colab-df-convert {\n",
       "      background-color: #E8F0FE;\n",
       "      border: none;\n",
       "      border-radius: 50%;\n",
       "      cursor: pointer;\n",
       "      display: none;\n",
       "      fill: #1967D2;\n",
       "      height: 32px;\n",
       "      padding: 0 0 0 0;\n",
       "      width: 32px;\n",
       "    }\n",
       "\n",
       "    .colab-df-convert:hover {\n",
       "      background-color: #E2EBFA;\n",
       "      box-shadow: 0px 1px 2px rgba(60, 64, 67, 0.3), 0px 1px 3px 1px rgba(60, 64, 67, 0.15);\n",
       "      fill: #174EA6;\n",
       "    }\n",
       "\n",
       "    [theme=dark] .colab-df-convert {\n",
       "      background-color: #3B4455;\n",
       "      fill: #D2E3FC;\n",
       "    }\n",
       "\n",
       "    [theme=dark] .colab-df-convert:hover {\n",
       "      background-color: #434B5C;\n",
       "      box-shadow: 0px 1px 3px 1px rgba(0, 0, 0, 0.15);\n",
       "      filter: drop-shadow(0px 1px 2px rgba(0, 0, 0, 0.3));\n",
       "      fill: #FFFFFF;\n",
       "    }\n",
       "  </style>\n",
       "\n",
       "      <script>\n",
       "        const buttonEl =\n",
       "          document.querySelector('#df-9f670dc1-43c7-4a44-9b6b-db35c20f6e05 button.colab-df-convert');\n",
       "        buttonEl.style.display =\n",
       "          google.colab.kernel.accessAllowed ? 'block' : 'none';\n",
       "\n",
       "        async function convertToInteractive(key) {\n",
       "          const element = document.querySelector('#df-9f670dc1-43c7-4a44-9b6b-db35c20f6e05');\n",
       "          const dataTable =\n",
       "            await google.colab.kernel.invokeFunction('convertToInteractive',\n",
       "                                                     [key], {});\n",
       "          if (!dataTable) return;\n",
       "\n",
       "          const docLinkHtml = 'Like what you see? Visit the ' +\n",
       "            '<a target=\"_blank\" href=https://colab.research.google.com/notebooks/data_table.ipynb>data table notebook</a>'\n",
       "            + ' to learn more about interactive tables.';\n",
       "          element.innerHTML = '';\n",
       "          dataTable['output_type'] = 'display_data';\n",
       "          await google.colab.output.renderOutput(dataTable, element);\n",
       "          const docLink = document.createElement('div');\n",
       "          docLink.innerHTML = docLinkHtml;\n",
       "          element.appendChild(docLink);\n",
       "        }\n",
       "      </script>\n",
       "    </div>\n",
       "  </div>\n",
       "  "
      ],
      "text/plain": [
       "     msa  year       site                  group  priv_count  priv_pay_mean  \\\n",
       "0  10180  2018  Inpatient  breast reconstruction         NaN            NaN   \n",
       "1  10420  2018  Inpatient  breast reconstruction         8.0    19937.08375   \n",
       "2  10500  2018  Inpatient  breast reconstruction         NaN            NaN   \n",
       "3  10540  2018  Inpatient  breast reconstruction         NaN            NaN   \n",
       "4  10580  2018  Inpatient  breast reconstruction         4.0    14837.26000   \n",
       "\n",
       "   priv_pay_median  priv_pay_iqr  mcare_pay_mean  mcare_pay_median  ...  \\\n",
       "0              NaN           NaN             NaN               NaN  ...   \n",
       "1        16147.330       5692.86             NaN               NaN  ...   \n",
       "2              NaN           NaN             NaN               NaN  ...   \n",
       "3              NaN           NaN             NaN               NaN  ...   \n",
       "4        10420.675       4474.06             NaN               NaN  ...   \n",
       "\n",
       "   ownership_PRIVATE (FOR PROFIT)_mode_y  \\\n",
       "0                                    0.0   \n",
       "1                                    0.0   \n",
       "2                                    0.5   \n",
       "3                                    0.0   \n",
       "4                                    0.0   \n",
       "\n",
       "  ownership_PRIVATE (NOT FOR PROFIT)_mode_y ownership_STATE_mode_y  \\\n",
       "0                                       0.0                    0.0   \n",
       "1                                       0.0                    0.0   \n",
       "2                                       0.0                    0.0   \n",
       "3                                       0.5                    0.0   \n",
       "4                                       1.0                    0.0   \n",
       "\n",
       "   ownership_TRIBAL_mode_y  urban_rural_URBAN_mode_y  teaching_YES_mode_y  \\\n",
       "0                      0.0                       1.0                  0.0   \n",
       "1                      0.0                       1.0                  1.0   \n",
       "2                      0.0                       1.0                  0.0   \n",
       "3                      0.0                       1.0                  0.5   \n",
       "4                      0.0                       1.0                  0.0   \n",
       "\n",
       "   hospital_count  avg_income_2020  population_estimate_2020  Life Expectancy  \n",
       "0             8.0          47740.0                  173185.0        77.864183  \n",
       "1            11.0          53252.0                  701449.0        76.567472  \n",
       "2             4.0          45593.0                  145206.0        76.615437  \n",
       "3             2.0          42653.0                  131054.0        79.088550  \n",
       "4            17.0          58601.0                  878550.0        80.327023  \n",
       "\n",
       "[5 rows x 104 columns]"
      ]
     },
     "execution_count": 4,
     "metadata": {},
     "output_type": "execute_result"
    }
   ],
   "source": [
    "df.head()"
   ]
  },
  {
   "cell_type": "code",
   "execution_count": 5,
   "metadata": {
    "colab": {
     "base_uri": "https://localhost:8080/",
     "height": 581
    },
    "id": "UQfSKLyCJrTQ",
    "outputId": "dfe67545-9558-4912-f049-2a69fe0f613a"
   },
   "outputs": [
    {
     "data": {
      "image/png": "[encoded data removed]",
      "text/plain": [
       "<Figure size 1800x720 with 1 Axes>"
      ]
     },
     "metadata": {
      "needs_background": "light"
     },
     "output_type": "display_data"
    }
   ],
   "source": [
    "#code to plot missing values\n",
    "m = []\n",
    "idx = []\n",
    "x = []\n",
    "\n",
    "for id, i in enumerate(df.columns):\n",
    "  percent = df[i].isnull().sum()/len(df)\n",
    "  if percent > 0.025:\n",
    "    idx.append(id)\n",
    "    m.append(percent)\n",
    "\n",
    "for i in idx:\n",
    "  x.append(list(df.columns)[i])\n",
    "\n",
    "plt.figure(figsize=(25,10))\n",
    "plt.bar(x, m, color ='green', width = 0.5)\n",
    "plt.xlabel(\"features\")\n",
    "plt.ylabel(\"Missing %\")\n",
    "plt.title(\"Plot of missing %\")\n",
    "plt.show()"
   ]
  },
  {
   "cell_type": "code",
   "execution_count": 6,
   "metadata": {
    "id": "E9pQCejlJZmj"
   },
   "outputs": [],
   "source": [
    "def plot_choropleth(df, i):\n",
    "  state_code = pd.read_csv('/content/drive/MyDrive/us-state-ansi-fips.csv')\n",
    "  df1 = df.groupby(by = 'FIPS State Code')[i].mean()\n",
    "  a = state_code.merge(df1.to_frame(), left_on = ' st', right_on= 'FIPS State Code')\n",
    "  a[' stusps'] = a[' stusps'].apply(lambda x: x.lstrip())\n",
    "\n",
    "  fig = px.choropleth(a,\n",
    "                    locations=' stusps',\n",
    "                    color=i,\n",
    "                    color_continuous_scale='spectral_r',\n",
    "                    hover_name='stname',\n",
    "                    locationmode='USA-states',\n",
    "                    scope='usa')\n",
    "\n",
    "  fig.show()"
   ]
  },
  {
   "cell_type": "code",
   "execution_count": 7,
   "metadata": {
    "id": "lfFPYqlIKHhh"
   },
   "outputs": [],
   "source": [
    "# plot_choropleth(df, 'avg_income_2020')"
   ]
  },
  {
   "cell_type": "code",
   "execution_count": 8,
   "metadata": {
    "id": "w0iwJgzoKQxT"
   },
   "outputs": [],
   "source": [
    "# plot_choropleth(df, 'Life Expectancy')"
   ]
  },
  {
   "cell_type": "code",
   "execution_count": 9,
   "metadata": {
    "id": "_bXMyA34KZDv"
   },
   "outputs": [],
   "source": [
    "# plot_choropleth(df, 'hospital_count')"
   ]
  },
  {
   "cell_type": "code",
   "execution_count": 10,
   "metadata": {
    "id": "txafqQjzM9Ze"
   },
   "outputs": [],
   "source": [
    "#imputing hte lat long value for MSA 42540 ( checked online)\n",
    "df.loc[df.msa == 42540, 'lat'] = 41.408970\n",
    "df.loc[df.msa == 42540, 'lon'] = -75.662415"
   ]
  },
  {
   "cell_type": "code",
   "execution_count": 11,
   "metadata": {
    "id": "dbwPWwowDjoG"
   },
   "outputs": [],
   "source": [
    "# Adding Lat/Long to into haversine distance\n",
    "\n",
    "from math import radians, cos, sin, asin, sqrt\n",
    "\n",
    "def single_pt_haversine(lat, lng, degrees=True):\n",
    "    \"\"\"\n",
    "    'Single-point' Haversine: Calculates the great circle distance\n",
    "    between a point on Earth and the (0, 0) lat-long coordinate\n",
    "    \"\"\"\n",
    "    r = 6371 # Earth's radius (km). Have r = 3956 if you want miles\n",
    "\n",
    "    # Convert decimal degrees to radians\n",
    "    if degrees:\n",
    "        lat, lng = map(radians, [lat, lng])\n",
    "\n",
    "    # 'Single-point' Haversine formula\n",
    "    a = sin(lat/2)**2 + cos(lat) * sin(lng/2)**2\n",
    "    d = 2 * r * asin(sqrt(a)) \n",
    "\n",
    "    return d\n",
    "\n",
    "df['harvesine_distance'] = [single_pt_haversine(x, y) for x, y in zip(df.lat, df.lon)]\n",
    "# Geohash.encode(df_valid.iloc[0, list(df_valid.columns).index('lat')], df_valid.iloc[0, list(df_valid.columns).index('lon')])"
   ]
  },
  {
   "cell_type": "code",
   "execution_count": 12,
   "metadata": {
    "colab": {
     "base_uri": "https://localhost:8080/",
     "height": 49
    },
    "id": "K8mAz3NPLrJe",
    "outputId": "8cf61854-744b-4249-c977-b7a97edd007e"
   },
   "outputs": [
    {
     "data": {
      "text/html": [
       "\n",
       "  <div id=\"df-f2fd5fad-b031-40bf-afd9-6fb8b0dd06a6\">\n",
       "    <div class=\"colab-df-container\">\n",
       "      <div>\n",
       "<style scoped>\n",
       "    .dataframe tbody tr th:only-of-type {\n",
       "        vertical-align: middle;\n",
       "    }\n",
       "\n",
       "    .dataframe tbody tr th {\n",
       "        vertical-align: top;\n",
       "    }\n",
       "\n",
       "    .dataframe thead th {\n",
       "        text-align: right;\n",
       "    }\n",
       "</style>\n",
       "<table border=\"1\" class=\"dataframe\">\n",
       "  <thead>\n",
       "    <tr style=\"text-align: right;\">\n",
       "      <th></th>\n",
       "      <th>msa</th>\n",
       "      <th>lat</th>\n",
       "      <th>lon</th>\n",
       "      <th>CBSA_NAME</th>\n",
       "      <th>FIPS State Code</th>\n",
       "    </tr>\n",
       "  </thead>\n",
       "  <tbody>\n",
       "  </tbody>\n",
       "</table>\n",
       "</div>\n",
       "      <button class=\"colab-df-convert\" onclick=\"convertToInteractive('df-f2fd5fad-b031-40bf-afd9-6fb8b0dd06a6')\"\n",
       "              title=\"Convert this dataframe to an interactive table.\"\n",
       "              style=\"display:none;\">\n",
       "        \n",
       "  <svg xmlns=\"http://www.w3.org/2000/svg\" height=\"24px\"viewBox=\"0 0 24 24\"\n",
       "       width=\"24px\">\n",
       "    <path d=\"M0 0h24v24H0V0z\" fill=\"none\"/>\n",
       "    <path d=\"M18.56 5.44l.94 2.06.94-2.06 2.06-.94-2.06-.94-.94-2.06-.94 2.06-2.06.94zm-11 1L8.5 8.5l.94-2.06 2.06-.94-2.06-.94L8.5 2.5l-.94 2.06-2.06.94zm10 10l.94 2.06.94-2.06 2.06-.94-2.06-.94-.94-2.06-.94 2.06-2.06.94z\"/><path d=\"M17.41 7.96l-1.37-1.37c-.4-.4-.92-.59-1.43-.59-.52 0-1.04.2-1.43.59L10.3 9.45l-7.72 7.72c-.78.78-.78 2.05 0 2.83L4 21.41c.39.39.9.59 1.41.59.51 0 1.02-.2 1.41-.59l7.78-7.78 2.81-2.81c.8-.78.8-2.07 0-2.86zM5.41 20L4 18.59l7.72-7.72 1.47 1.35L5.41 20z\"/>\n",
       "  </svg>\n",
       "      </button>\n",
       "      \n",
       "  <style>\n",
       "    .colab-df-container {\n",
       "      display:flex;\n",
       "      flex-wrap:wrap;\n",
       "      gap: 12px;\n",
       "    }\n",
       "\n",
       "    .colab-df-convert {\n",
       "      background-color: #E8F0FE;\n",
       "      border: none;\n",
       "      border-radius: 50%;\n",
       "      cursor: pointer;\n",
       "      display: none;\n",
       "      fill: #1967D2;\n",
       "      height: 32px;\n",
       "      padding: 0 0 0 0;\n",
       "      width: 32px;\n",
       "    }\n",
       "\n",
       "    .colab-df-convert:hover {\n",
       "      background-color: #E2EBFA;\n",
       "      box-shadow: 0px 1px 2px rgba(60, 64, 67, 0.3), 0px 1px 3px 1px rgba(60, 64, 67, 0.15);\n",
       "      fill: #174EA6;\n",
       "    }\n",
       "\n",
       "    [theme=dark] .colab-df-convert {\n",
       "      background-color: #3B4455;\n",
       "      fill: #D2E3FC;\n",
       "    }\n",
       "\n",
       "    [theme=dark] .colab-df-convert:hover {\n",
       "      background-color: #434B5C;\n",
       "      box-shadow: 0px 1px 3px 1px rgba(0, 0, 0, 0.15);\n",
       "      filter: drop-shadow(0px 1px 2px rgba(0, 0, 0, 0.3));\n",
       "      fill: #FFFFFF;\n",
       "    }\n",
       "  </style>\n",
       "\n",
       "      <script>\n",
       "        const buttonEl =\n",
       "          document.querySelector('#df-f2fd5fad-b031-40bf-afd9-6fb8b0dd06a6 button.colab-df-convert');\n",
       "        buttonEl.style.display =\n",
       "          google.colab.kernel.accessAllowed ? 'block' : 'none';\n",
       "\n",
       "        async function convertToInteractive(key) {\n",
       "          const element = document.querySelector('#df-f2fd5fad-b031-40bf-afd9-6fb8b0dd06a6');\n",
       "          const dataTable =\n",
       "            await google.colab.kernel.invokeFunction('convertToInteractive',\n",
       "                                                     [key], {});\n",
       "          if (!dataTable) return;\n",
       "\n",
       "          const docLinkHtml = 'Like what you see? Visit the ' +\n",
       "            '<a target=\"_blank\" href=https://colab.research.google.com/notebooks/data_table.ipynb>data table notebook</a>'\n",
       "            + ' to learn more about interactive tables.';\n",
       "          element.innerHTML = '';\n",
       "          dataTable['output_type'] = 'display_data';\n",
       "          await google.colab.output.renderOutput(dataTable, element);\n",
       "          const docLink = document.createElement('div');\n",
       "          docLink.innerHTML = docLinkHtml;\n",
       "          element.appendChild(docLink);\n",
       "        }\n",
       "      </script>\n",
       "    </div>\n",
       "  </div>\n",
       "  "
      ],
      "text/plain": [
       "Empty DataFrame\n",
       "Columns: [msa, lat, lon, CBSA_NAME, FIPS State Code]\n",
       "Index: []"
      ]
     },
     "execution_count": 12,
     "metadata": {},
     "output_type": "execute_result"
    }
   ],
   "source": [
    "# cehck for missing value of haversine distance\n",
    "df[pd.isna(df['harvesine_distance'])][['msa', 'lat', 'lon', 'CBSA_NAME', 'FIPS State Code']]"
   ]
  },
  {
   "cell_type": "code",
   "execution_count": 13,
   "metadata": {
    "id": "kK0wfygRVX2H"
   },
   "outputs": [],
   "source": [
    "# check for target missing and target >0\n",
    "df = df[ (df.priv_pay_mean >0) | (df['priv_pay_mean'].isna())]"
   ]
  },
  {
   "cell_type": "code",
   "execution_count": 14,
   "metadata": {
    "colab": {
     "base_uri": "https://localhost:8080/"
    },
    "id": "V_PBe8v4OUDo",
    "outputId": "861a3c2a-f211-4f30-c23a-942e2780c4b6"
   },
   "outputs": [
    {
     "data": {
      "text/plain": [
       "Outpatient    60982\n",
       "Inpatient     60972\n",
       "ASC           10984\n",
       "Name: site, dtype: int64"
      ]
     },
     "execution_count": 14,
     "metadata": {},
     "output_type": "execute_result"
    }
   ],
   "source": [
    "# getting categories for site\n",
    "df.site.value_counts()"
   ]
  },
  {
   "cell_type": "code",
   "execution_count": 15,
   "metadata": {
    "colab": {
     "base_uri": "https://localhost:8080/"
    },
    "id": "cI9oUMmXOUFp",
    "outputId": "7baa7cbc-4e6d-48cc-ee89-3112f2238f42"
   },
   "outputs": [
    {
     "name": "stderr",
     "output_type": "stream",
     "text": [
      "<ipython-input-15-9a53d6b92b58>:2: SettingWithCopyWarning: \n",
      "A value is trying to be set on a copy of a slice from a DataFrame.\n",
      "Try using .loc[row_indexer,col_indexer] = value instead\n",
      "\n",
      "See the caveats in the documentation: https://pandas.pydata.org/pandas-docs/stable/user_guide/indexing.html#returning-a-view-versus-a-copy\n",
      "  df['site_weight']  = 1\n"
     ]
    },
    {
     "data": {
      "text/plain": [
       "1    121954\n",
       "0     10984\n",
       "Name: site_weight, dtype: int64"
      ]
     },
     "execution_count": 15,
     "metadata": {},
     "output_type": "execute_result"
    }
   ],
   "source": [
    "#Since ASC has to be less than outpatient and Inpatient, Assigning  weight 0 to ASC and 1 to other groups.\n",
    "df['site_weight']  = 1\n",
    "df.loc[df['site'] == 'ASC', 'site_weight'] = 0\n",
    "df.site_weight.value_counts()"
   ]
  },
  {
   "cell_type": "code",
   "execution_count": 16,
   "metadata": {
    "colab": {
     "base_uri": "https://localhost:8080/"
    },
    "id": "9DX9qnSvF7IO",
    "outputId": "76340f10-01cf-4d9a-bbe4-8749616d1743"
   },
   "outputs": [
    {
     "data": {
      "text/plain": [
       "(19996, 4)"
      ]
     },
     "execution_count": 16,
     "metadata": {},
     "output_type": "execute_result"
    }
   ],
   "source": [
    "#Check for ASC payment > Inpatient payment\n",
    "df_inpatient = df[ (df['site'] == 'Inpatient') & (~df['priv_pay_mean'].isna())].groupby(['msa','group','year'])['priv_pay_mean'].min().reset_index()\n",
    "df_inpatient.shape"
   ]
  },
  {
   "cell_type": "code",
   "execution_count": 17,
   "metadata": {
    "colab": {
     "base_uri": "https://localhost:8080/",
     "height": 206
    },
    "id": "K1hTSWBvHCGo",
    "outputId": "cd26e450-cdc2-42d2-a189-6a357d901151"
   },
   "outputs": [
    {
     "data": {
      "text/html": [
       "\n",
       "  <div id=\"df-4fed6898-4fa0-43fb-8ec0-012ee759f4ec\">\n",
       "    <div class=\"colab-df-container\">\n",
       "      <div>\n",
       "<style scoped>\n",
       "    .dataframe tbody tr th:only-of-type {\n",
       "        vertical-align: middle;\n",
       "    }\n",
       "\n",
       "    .dataframe tbody tr th {\n",
       "        vertical-align: top;\n",
       "    }\n",
       "\n",
       "    .dataframe thead th {\n",
       "        text-align: right;\n",
       "    }\n",
       "</style>\n",
       "<table border=\"1\" class=\"dataframe\">\n",
       "  <thead>\n",
       "    <tr style=\"text-align: right;\">\n",
       "      <th></th>\n",
       "      <th>msa</th>\n",
       "      <th>group</th>\n",
       "      <th>year</th>\n",
       "      <th>min_inpatient_pay</th>\n",
       "    </tr>\n",
       "  </thead>\n",
       "  <tbody>\n",
       "    <tr>\n",
       "      <th>0</th>\n",
       "      <td>10180</td>\n",
       "      <td>ankle_fix</td>\n",
       "      <td>2018</td>\n",
       "      <td>50892.66000</td>\n",
       "    </tr>\n",
       "    <tr>\n",
       "      <th>1</th>\n",
       "      <td>10180</td>\n",
       "      <td>ant_cerv_fusion</td>\n",
       "      <td>2018</td>\n",
       "      <td>71236.01333</td>\n",
       "    </tr>\n",
       "    <tr>\n",
       "      <th>2</th>\n",
       "      <td>10180</td>\n",
       "      <td>ant_cerv_fusion</td>\n",
       "      <td>2019</td>\n",
       "      <td>62690.41000</td>\n",
       "    </tr>\n",
       "    <tr>\n",
       "      <th>3</th>\n",
       "      <td>10180</td>\n",
       "      <td>ant_cerv_fusion</td>\n",
       "      <td>2020</td>\n",
       "      <td>78303.19500</td>\n",
       "    </tr>\n",
       "    <tr>\n",
       "      <th>4</th>\n",
       "      <td>10180</td>\n",
       "      <td>ant_tls_fusion</td>\n",
       "      <td>2018</td>\n",
       "      <td>35398.22000</td>\n",
       "    </tr>\n",
       "  </tbody>\n",
       "</table>\n",
       "</div>\n",
       "      <button class=\"colab-df-convert\" onclick=\"convertToInteractive('df-4fed6898-4fa0-43fb-8ec0-012ee759f4ec')\"\n",
       "              title=\"Convert this dataframe to an interactive table.\"\n",
       "              style=\"display:none;\">\n",
       "        \n",
       "  <svg xmlns=\"http://www.w3.org/2000/svg\" height=\"24px\"viewBox=\"0 0 24 24\"\n",
       "       width=\"24px\">\n",
       "    <path d=\"M0 0h24v24H0V0z\" fill=\"none\"/>\n",
       "    <path d=\"M18.56 5.44l.94 2.06.94-2.06 2.06-.94-2.06-.94-.94-2.06-.94 2.06-2.06.94zm-11 1L8.5 8.5l.94-2.06 2.06-.94-2.06-.94L8.5 2.5l-.94 2.06-2.06.94zm10 10l.94 2.06.94-2.06 2.06-.94-2.06-.94-.94-2.06-.94 2.06-2.06.94z\"/><path d=\"M17.41 7.96l-1.37-1.37c-.4-.4-.92-.59-1.43-.59-.52 0-1.04.2-1.43.59L10.3 9.45l-7.72 7.72c-.78.78-.78 2.05 0 2.83L4 21.41c.39.39.9.59 1.41.59.51 0 1.02-.2 1.41-.59l7.78-7.78 2.81-2.81c.8-.78.8-2.07 0-2.86zM5.41 20L4 18.59l7.72-7.72 1.47 1.35L5.41 20z\"/>\n",
       "  </svg>\n",
       "      </button>\n",
       "      \n",
       "  <style>\n",
       "    .colab-df-container {\n",
       "      display:flex;\n",
       "      flex-wrap:wrap;\n",
       "      gap: 12px;\n",
       "    }\n",
       "\n",
       "    .colab-df-convert {\n",
       "      background-color: #E8F0FE;\n",
       "      border: none;\n",
       "      border-radius: 50%;\n",
       "      cursor: pointer;\n",
       "      display: none;\n",
       "      fill: #1967D2;\n",
       "      height: 32px;\n",
       "      padding: 0 0 0 0;\n",
       "      width: 32px;\n",
       "    }\n",
       "\n",
       "    .colab-df-convert:hover {\n",
       "      background-color: #E2EBFA;\n",
       "      box-shadow: 0px 1px 2px rgba(60, 64, 67, 0.3), 0px 1px 3px 1px rgba(60, 64, 67, 0.15);\n",
       "      fill: #174EA6;\n",
       "    }\n",
       "\n",
       "    [theme=dark] .colab-df-convert {\n",
       "      background-color: #3B4455;\n",
       "      fill: #D2E3FC;\n",
       "    }\n",
       "\n",
       "    [theme=dark] .colab-df-convert:hover {\n",
       "      background-color: #434B5C;\n",
       "      box-shadow: 0px 1px 3px 1px rgba(0, 0, 0, 0.15);\n",
       "      filter: drop-shadow(0px 1px 2px rgba(0, 0, 0, 0.3));\n",
       "      fill: #FFFFFF;\n",
       "    }\n",
       "  </style>\n",
       "\n",
       "      <script>\n",
       "        const buttonEl =\n",
       "          document.querySelector('#df-4fed6898-4fa0-43fb-8ec0-012ee759f4ec button.colab-df-convert');\n",
       "        buttonEl.style.display =\n",
       "          google.colab.kernel.accessAllowed ? 'block' : 'none';\n",
       "\n",
       "        async function convertToInteractive(key) {\n",
       "          const element = document.querySelector('#df-4fed6898-4fa0-43fb-8ec0-012ee759f4ec');\n",
       "          const dataTable =\n",
       "            await google.colab.kernel.invokeFunction('convertToInteractive',\n",
       "                                                     [key], {});\n",
       "          if (!dataTable) return;\n",
       "\n",
       "          const docLinkHtml = 'Like what you see? Visit the ' +\n",
       "            '<a target=\"_blank\" href=https://colab.research.google.com/notebooks/data_table.ipynb>data table notebook</a>'\n",
       "            + ' to learn more about interactive tables.';\n",
       "          element.innerHTML = '';\n",
       "          dataTable['output_type'] = 'display_data';\n",
       "          await google.colab.output.renderOutput(dataTable, element);\n",
       "          const docLink = document.createElement('div');\n",
       "          docLink.innerHTML = docLinkHtml;\n",
       "          element.appendChild(docLink);\n",
       "        }\n",
       "      </script>\n",
       "    </div>\n",
       "  </div>\n",
       "  "
      ],
      "text/plain": [
       "     msa            group  year  min_inpatient_pay\n",
       "0  10180        ankle_fix  2018        50892.66000\n",
       "1  10180  ant_cerv_fusion  2018        71236.01333\n",
       "2  10180  ant_cerv_fusion  2019        62690.41000\n",
       "3  10180  ant_cerv_fusion  2020        78303.19500\n",
       "4  10180   ant_tls_fusion  2018        35398.22000"
      ]
     },
     "execution_count": 17,
     "metadata": {},
     "output_type": "execute_result"
    }
   ],
   "source": [
    "df_inpatient.columns = ['msa', 'group', 'year', 'min_inpatient_pay']\n",
    "df_inpatient.head()"
   ]
  },
  {
   "cell_type": "code",
   "execution_count": 18,
   "metadata": {
    "colab": {
     "base_uri": "https://localhost:8080/"
    },
    "id": "uEiAZdAQHRQO",
    "outputId": "d3aaa0c7-861b-430d-ac54-7ac874586469"
   },
   "outputs": [
    {
     "data": {
      "text/plain": [
       "(215, 107)"
      ]
     },
     "execution_count": 18,
     "metadata": {},
     "output_type": "execute_result"
    }
   ],
   "source": [
    "df = pd.merge(df, df_inpatient, on = ['msa', 'group', 'year'], how='left')\n",
    "df[ (~df['priv_pay_mean'].isna()) & (df.priv_pay_mean > df.min_inpatient_pay) & (df.site == 'ASC')].shape\n",
    "## 215 rows have ASC > Inpatient"
   ]
  },
  {
   "cell_type": "code",
   "execution_count": 19,
   "metadata": {
    "colab": {
     "base_uri": "https://localhost:8080/"
    },
    "id": "whuy51GcIjUY",
    "outputId": "44271a83-3457-4578-a9f4-161e1536039d"
   },
   "outputs": [
    {
     "data": {
      "text/plain": [
       "(0, 107)"
      ]
     },
     "execution_count": 19,
     "metadata": {},
     "output_type": "execute_result"
    }
   ],
   "source": [
    "# final check for ASC > Inaptient in given datset\n",
    "df.loc[ (~df['priv_pay_mean'].isna()) & (df.priv_pay_mean > df.min_inpatient_pay) & (df.site == 'ASC'), 'priv_pay_mean'] = \\\n",
    "df.loc[ (~df['priv_pay_mean'].isna()) & (df.priv_pay_mean > df.min_inpatient_pay) & (df.site == 'ASC'), 'min_inpatient_pay']\n",
    "\n",
    "df[ (~df['priv_pay_mean'].isna()) & (df.priv_pay_mean > df.min_inpatient_pay) & (df.site == 'ASC')].shape"
   ]
  },
  {
   "cell_type": "code",
   "execution_count": 20,
   "metadata": {
    "colab": {
     "base_uri": "https://localhost:8080/",
     "height": 424
    },
    "id": "SJh2fl8rD3WG",
    "outputId": "2806a958-c52c-424d-eba2-a32975449a4c"
   },
   "outputs": [
    {
     "data": {
      "text/html": [
       "\n",
       "  <div id=\"df-6aa32a19-4e13-4d02-8c41-4d0e7fe37d57\">\n",
       "    <div class=\"colab-df-container\">\n",
       "      <div>\n",
       "<style scoped>\n",
       "    .dataframe tbody tr th:only-of-type {\n",
       "        vertical-align: middle;\n",
       "    }\n",
       "\n",
       "    .dataframe tbody tr th {\n",
       "        vertical-align: top;\n",
       "    }\n",
       "\n",
       "    .dataframe thead th {\n",
       "        text-align: right;\n",
       "    }\n",
       "</style>\n",
       "<table border=\"1\" class=\"dataframe\">\n",
       "  <thead>\n",
       "    <tr style=\"text-align: right;\">\n",
       "      <th></th>\n",
       "      <th>msa</th>\n",
       "      <th>group</th>\n",
       "      <th>year</th>\n",
       "      <th>priv_pay_mean</th>\n",
       "    </tr>\n",
       "  </thead>\n",
       "  <tbody>\n",
       "    <tr>\n",
       "      <th>0</th>\n",
       "      <td>10180</td>\n",
       "      <td>ankle_fix</td>\n",
       "      <td>2018</td>\n",
       "      <td>2800.593333</td>\n",
       "    </tr>\n",
       "    <tr>\n",
       "      <th>1</th>\n",
       "      <td>10180</td>\n",
       "      <td>ankle_fix</td>\n",
       "      <td>2019</td>\n",
       "      <td>0.000000</td>\n",
       "    </tr>\n",
       "    <tr>\n",
       "      <th>2</th>\n",
       "      <td>10180</td>\n",
       "      <td>ankle_fix</td>\n",
       "      <td>2020</td>\n",
       "      <td>0.000000</td>\n",
       "    </tr>\n",
       "    <tr>\n",
       "      <th>3</th>\n",
       "      <td>10180</td>\n",
       "      <td>ant_cerv_fusion</td>\n",
       "      <td>2018</td>\n",
       "      <td>11646.950000</td>\n",
       "    </tr>\n",
       "    <tr>\n",
       "      <th>4</th>\n",
       "      <td>10180</td>\n",
       "      <td>ant_cerv_fusion</td>\n",
       "      <td>2019</td>\n",
       "      <td>11715.940000</td>\n",
       "    </tr>\n",
       "    <tr>\n",
       "      <th>...</th>\n",
       "      <td>...</td>\n",
       "      <td>...</td>\n",
       "      <td>...</td>\n",
       "      <td>...</td>\n",
       "    </tr>\n",
       "    <tr>\n",
       "      <th>10979</th>\n",
       "      <td>49740</td>\n",
       "      <td>tha</td>\n",
       "      <td>2019</td>\n",
       "      <td>0.000000</td>\n",
       "    </tr>\n",
       "    <tr>\n",
       "      <th>10980</th>\n",
       "      <td>49740</td>\n",
       "      <td>tha</td>\n",
       "      <td>2020</td>\n",
       "      <td>25579.730000</td>\n",
       "    </tr>\n",
       "    <tr>\n",
       "      <th>10981</th>\n",
       "      <td>49740</td>\n",
       "      <td>tka</td>\n",
       "      <td>2018</td>\n",
       "      <td>0.000000</td>\n",
       "    </tr>\n",
       "    <tr>\n",
       "      <th>10982</th>\n",
       "      <td>49740</td>\n",
       "      <td>tka</td>\n",
       "      <td>2019</td>\n",
       "      <td>0.000000</td>\n",
       "    </tr>\n",
       "    <tr>\n",
       "      <th>10983</th>\n",
       "      <td>49740</td>\n",
       "      <td>tka</td>\n",
       "      <td>2020</td>\n",
       "      <td>20933.416670</td>\n",
       "    </tr>\n",
       "  </tbody>\n",
       "</table>\n",
       "<p>10984 rows × 4 columns</p>\n",
       "</div>\n",
       "      <button class=\"colab-df-convert\" onclick=\"convertToInteractive('df-6aa32a19-4e13-4d02-8c41-4d0e7fe37d57')\"\n",
       "              title=\"Convert this dataframe to an interactive table.\"\n",
       "              style=\"display:none;\">\n",
       "        \n",
       "  <svg xmlns=\"http://www.w3.org/2000/svg\" height=\"24px\"viewBox=\"0 0 24 24\"\n",
       "       width=\"24px\">\n",
       "    <path d=\"M0 0h24v24H0V0z\" fill=\"none\"/>\n",
       "    <path d=\"M18.56 5.44l.94 2.06.94-2.06 2.06-.94-2.06-.94-.94-2.06-.94 2.06-2.06.94zm-11 1L8.5 8.5l.94-2.06 2.06-.94-2.06-.94L8.5 2.5l-.94 2.06-2.06.94zm10 10l.94 2.06.94-2.06 2.06-.94-2.06-.94-.94-2.06-.94 2.06-2.06.94z\"/><path d=\"M17.41 7.96l-1.37-1.37c-.4-.4-.92-.59-1.43-.59-.52 0-1.04.2-1.43.59L10.3 9.45l-7.72 7.72c-.78.78-.78 2.05 0 2.83L4 21.41c.39.39.9.59 1.41.59.51 0 1.02-.2 1.41-.59l7.78-7.78 2.81-2.81c.8-.78.8-2.07 0-2.86zM5.41 20L4 18.59l7.72-7.72 1.47 1.35L5.41 20z\"/>\n",
       "  </svg>\n",
       "      </button>\n",
       "      \n",
       "  <style>\n",
       "    .colab-df-container {\n",
       "      display:flex;\n",
       "      flex-wrap:wrap;\n",
       "      gap: 12px;\n",
       "    }\n",
       "\n",
       "    .colab-df-convert {\n",
       "      background-color: #E8F0FE;\n",
       "      border: none;\n",
       "      border-radius: 50%;\n",
       "      cursor: pointer;\n",
       "      display: none;\n",
       "      fill: #1967D2;\n",
       "      height: 32px;\n",
       "      padding: 0 0 0 0;\n",
       "      width: 32px;\n",
       "    }\n",
       "\n",
       "    .colab-df-convert:hover {\n",
       "      background-color: #E2EBFA;\n",
       "      box-shadow: 0px 1px 2px rgba(60, 64, 67, 0.3), 0px 1px 3px 1px rgba(60, 64, 67, 0.15);\n",
       "      fill: #174EA6;\n",
       "    }\n",
       "\n",
       "    [theme=dark] .colab-df-convert {\n",
       "      background-color: #3B4455;\n",
       "      fill: #D2E3FC;\n",
       "    }\n",
       "\n",
       "    [theme=dark] .colab-df-convert:hover {\n",
       "      background-color: #434B5C;\n",
       "      box-shadow: 0px 1px 3px 1px rgba(0, 0, 0, 0.15);\n",
       "      filter: drop-shadow(0px 1px 2px rgba(0, 0, 0, 0.3));\n",
       "      fill: #FFFFFF;\n",
       "    }\n",
       "  </style>\n",
       "\n",
       "      <script>\n",
       "        const buttonEl =\n",
       "          document.querySelector('#df-6aa32a19-4e13-4d02-8c41-4d0e7fe37d57 button.colab-df-convert');\n",
       "        buttonEl.style.display =\n",
       "          google.colab.kernel.accessAllowed ? 'block' : 'none';\n",
       "\n",
       "        async function convertToInteractive(key) {\n",
       "          const element = document.querySelector('#df-6aa32a19-4e13-4d02-8c41-4d0e7fe37d57');\n",
       "          const dataTable =\n",
       "            await google.colab.kernel.invokeFunction('convertToInteractive',\n",
       "                                                     [key], {});\n",
       "          if (!dataTable) return;\n",
       "\n",
       "          const docLinkHtml = 'Like what you see? Visit the ' +\n",
       "            '<a target=\"_blank\" href=https://colab.research.google.com/notebooks/data_table.ipynb>data table notebook</a>'\n",
       "            + ' to learn more about interactive tables.';\n",
       "          element.innerHTML = '';\n",
       "          dataTable['output_type'] = 'display_data';\n",
       "          await google.colab.output.renderOutput(dataTable, element);\n",
       "          const docLink = document.createElement('div');\n",
       "          docLink.innerHTML = docLinkHtml;\n",
       "          element.appendChild(docLink);\n",
       "        }\n",
       "      </script>\n",
       "    </div>\n",
       "  </div>\n",
       "  "
      ],
      "text/plain": [
       "         msa            group  year  priv_pay_mean\n",
       "0      10180        ankle_fix  2018    2800.593333\n",
       "1      10180        ankle_fix  2019       0.000000\n",
       "2      10180        ankle_fix  2020       0.000000\n",
       "3      10180  ant_cerv_fusion  2018   11646.950000\n",
       "4      10180  ant_cerv_fusion  2019   11715.940000\n",
       "...      ...              ...   ...            ...\n",
       "10979  49740              tha  2019       0.000000\n",
       "10980  49740              tha  2020   25579.730000\n",
       "10981  49740              tka  2018       0.000000\n",
       "10982  49740              tka  2019       0.000000\n",
       "10983  49740              tka  2020   20933.416670\n",
       "\n",
       "[10984 rows x 4 columns]"
      ]
     },
     "execution_count": 20,
     "metadata": {},
     "output_type": "execute_result"
    }
   ],
   "source": [
    "df[df.site == 'ASC'].groupby(['msa', 'group', 'year']).agg({'priv_pay_mean':'sum'}).reset_index()"
   ]
  },
  {
   "cell_type": "markdown",
   "metadata": {
    "id": "p6Y8j5pJI7ug"
   },
   "source": [
    "#### Addiing procedure level cluster data"
   ]
  },
  {
   "cell_type": "code",
   "execution_count": 21,
   "metadata": {
    "colab": {
     "base_uri": "https://localhost:8080/"
    },
    "id": "xQjrwG-6JB-x",
    "outputId": "b4135b34-9fa7-4c23-c8b2-a0d8e9a112f4"
   },
   "outputs": [
    {
     "name": "stdout",
     "output_type": "stream",
     "text": [
      "(49, 7)\n",
      "49\n"
     ]
    }
   ],
   "source": [
    "df_cluster = pd.read_csv('/content/drive/MyDrive/discharge_physpec_categorised.csv')\n",
    "df_cluster = df_cluster[~((df_cluster.group == 'lung ablation') & (df_cluster.phy_spec == 'HOSPITALIST\\xa0(HOS)'))]\n",
    "df_cluster = df_cluster[['group', 'pat_cost', 'discharge_to_home_pct', 'phy_spec',\n",
    "       'IP_pct', 'discharge_category_dbscan', 'discharge_category_kmedoids']]\n",
    "df_cluster.drop_duplicates(inplace = True)\n",
    "df_cluster.reset_index(inplace = True, drop = True)\n",
    "print(df_cluster.shape)\n",
    "print(df_cluster.group.nunique())"
   ]
  },
  {
   "cell_type": "code",
   "execution_count": 22,
   "metadata": {
    "colab": {
     "base_uri": "https://localhost:8080/",
     "height": 206
    },
    "id": "s9KtFnBdcPh7",
    "outputId": "cdfe705a-5093-42cb-ed2c-4edf0d042039"
   },
   "outputs": [
    {
     "data": {
      "text/html": [
       "\n",
       "  <div id=\"df-184a3402-7bb7-4049-b8c5-5ad9149cb73c\">\n",
       "    <div class=\"colab-df-container\">\n",
       "      <div>\n",
       "<style scoped>\n",
       "    .dataframe tbody tr th:only-of-type {\n",
       "        vertical-align: middle;\n",
       "    }\n",
       "\n",
       "    .dataframe tbody tr th {\n",
       "        vertical-align: top;\n",
       "    }\n",
       "\n",
       "    .dataframe thead th {\n",
       "        text-align: right;\n",
       "    }\n",
       "</style>\n",
       "<table border=\"1\" class=\"dataframe\">\n",
       "  <thead>\n",
       "    <tr style=\"text-align: right;\">\n",
       "      <th></th>\n",
       "      <th>group</th>\n",
       "      <th>pat_cost</th>\n",
       "      <th>discharge_to_home_pct</th>\n",
       "      <th>phy_spec</th>\n",
       "      <th>IP_pct</th>\n",
       "      <th>discharge_category_dbscan</th>\n",
       "      <th>discharge_category_kmedoids</th>\n",
       "    </tr>\n",
       "  </thead>\n",
       "  <tbody>\n",
       "    <tr>\n",
       "      <th>0</th>\n",
       "      <td>ankle_fix</td>\n",
       "      <td>16741.5136</td>\n",
       "      <td>0.621714</td>\n",
       "      <td>ORTHOPEDIC SURGERY (ORS)</td>\n",
       "      <td>0.542798</td>\n",
       "      <td>0</td>\n",
       "      <td>0</td>\n",
       "    </tr>\n",
       "    <tr>\n",
       "      <th>1</th>\n",
       "      <td>ant_cerv_fusion</td>\n",
       "      <td>18848.1697</td>\n",
       "      <td>0.846973</td>\n",
       "      <td>NEUROLOGICAL SURGERY (NS)</td>\n",
       "      <td>0.575495</td>\n",
       "      <td>-1</td>\n",
       "      <td>3</td>\n",
       "    </tr>\n",
       "    <tr>\n",
       "      <th>2</th>\n",
       "      <td>ant_tls_fusion</td>\n",
       "      <td>49478.1242</td>\n",
       "      <td>0.596666</td>\n",
       "      <td>ORTHOPEDIC SURGERY (ORS)</td>\n",
       "      <td>0.983543</td>\n",
       "      <td>0</td>\n",
       "      <td>2</td>\n",
       "    </tr>\n",
       "    <tr>\n",
       "      <th>3</th>\n",
       "      <td>bariatric</td>\n",
       "      <td>14585.5550</td>\n",
       "      <td>0.945035</td>\n",
       "      <td>GENERAL SURGERY (GS)</td>\n",
       "      <td>0.911311</td>\n",
       "      <td>1</td>\n",
       "      <td>3</td>\n",
       "    </tr>\n",
       "    <tr>\n",
       "      <th>4</th>\n",
       "      <td>breast reconstruction</td>\n",
       "      <td>13690.8043</td>\n",
       "      <td>0.929970</td>\n",
       "      <td>PLASTIC SURGERY (PS)</td>\n",
       "      <td>0.246127</td>\n",
       "      <td>-1</td>\n",
       "      <td>0</td>\n",
       "    </tr>\n",
       "  </tbody>\n",
       "</table>\n",
       "</div>\n",
       "      <button class=\"colab-df-convert\" onclick=\"convertToInteractive('df-184a3402-7bb7-4049-b8c5-5ad9149cb73c')\"\n",
       "              title=\"Convert this dataframe to an interactive table.\"\n",
       "              style=\"display:none;\">\n",
       "        \n",
       "  <svg xmlns=\"http://www.w3.org/2000/svg\" height=\"24px\"viewBox=\"0 0 24 24\"\n",
       "       width=\"24px\">\n",
       "    <path d=\"M0 0h24v24H0V0z\" fill=\"none\"/>\n",
       "    <path d=\"M18.56 5.44l.94 2.06.94-2.06 2.06-.94-2.06-.94-.94-2.06-.94 2.06-2.06.94zm-11 1L8.5 8.5l.94-2.06 2.06-.94-2.06-.94L8.5 2.5l-.94 2.06-2.06.94zm10 10l.94 2.06.94-2.06 2.06-.94-2.06-.94-.94-2.06-.94 2.06-2.06.94z\"/><path d=\"M17.41 7.96l-1.37-1.37c-.4-.4-.92-.59-1.43-.59-.52 0-1.04.2-1.43.59L10.3 9.45l-7.72 7.72c-.78.78-.78 2.05 0 2.83L4 21.41c.39.39.9.59 1.41.59.51 0 1.02-.2 1.41-.59l7.78-7.78 2.81-2.81c.8-.78.8-2.07 0-2.86zM5.41 20L4 18.59l7.72-7.72 1.47 1.35L5.41 20z\"/>\n",
       "  </svg>\n",
       "      </button>\n",
       "      \n",
       "  <style>\n",
       "    .colab-df-container {\n",
       "      display:flex;\n",
       "      flex-wrap:wrap;\n",
       "      gap: 12px;\n",
       "    }\n",
       "\n",
       "    .colab-df-convert {\n",
       "      background-color: #E8F0FE;\n",
       "      border: none;\n",
       "      border-radius: 50%;\n",
       "      cursor: pointer;\n",
       "      display: none;\n",
       "      fill: #1967D2;\n",
       "      height: 32px;\n",
       "      padding: 0 0 0 0;\n",
       "      width: 32px;\n",
       "    }\n",
       "\n",
       "    .colab-df-convert:hover {\n",
       "      background-color: #E2EBFA;\n",
       "      box-shadow: 0px 1px 2px rgba(60, 64, 67, 0.3), 0px 1px 3px 1px rgba(60, 64, 67, 0.15);\n",
       "      fill: #174EA6;\n",
       "    }\n",
       "\n",
       "    [theme=dark] .colab-df-convert {\n",
       "      background-color: #3B4455;\n",
       "      fill: #D2E3FC;\n",
       "    }\n",
       "\n",
       "    [theme=dark] .colab-df-convert:hover {\n",
       "      background-color: #434B5C;\n",
       "      box-shadow: 0px 1px 3px 1px rgba(0, 0, 0, 0.15);\n",
       "      filter: drop-shadow(0px 1px 2px rgba(0, 0, 0, 0.3));\n",
       "      fill: #FFFFFF;\n",
       "    }\n",
       "  </style>\n",
       "\n",
       "      <script>\n",
       "        const buttonEl =\n",
       "          document.querySelector('#df-184a3402-7bb7-4049-b8c5-5ad9149cb73c button.colab-df-convert');\n",
       "        buttonEl.style.display =\n",
       "          google.colab.kernel.accessAllowed ? 'block' : 'none';\n",
       "\n",
       "        async function convertToInteractive(key) {\n",
       "          const element = document.querySelector('#df-184a3402-7bb7-4049-b8c5-5ad9149cb73c');\n",
       "          const dataTable =\n",
       "            await google.colab.kernel.invokeFunction('convertToInteractive',\n",
       "                                                     [key], {});\n",
       "          if (!dataTable) return;\n",
       "\n",
       "          const docLinkHtml = 'Like what you see? Visit the ' +\n",
       "            '<a target=\"_blank\" href=https://colab.research.google.com/notebooks/data_table.ipynb>data table notebook</a>'\n",
       "            + ' to learn more about interactive tables.';\n",
       "          element.innerHTML = '';\n",
       "          dataTable['output_type'] = 'display_data';\n",
       "          await google.colab.output.renderOutput(dataTable, element);\n",
       "          const docLink = document.createElement('div');\n",
       "          docLink.innerHTML = docLinkHtml;\n",
       "          element.appendChild(docLink);\n",
       "        }\n",
       "      </script>\n",
       "    </div>\n",
       "  </div>\n",
       "  "
      ],
      "text/plain": [
       "                   group    pat_cost  discharge_to_home_pct  \\\n",
       "0              ankle_fix  16741.5136               0.621714   \n",
       "1        ant_cerv_fusion  18848.1697               0.846973   \n",
       "2         ant_tls_fusion  49478.1242               0.596666   \n",
       "3              bariatric  14585.5550               0.945035   \n",
       "4  breast reconstruction  13690.8043               0.929970   \n",
       "\n",
       "                    phy_spec    IP_pct  discharge_category_dbscan  \\\n",
       "0   ORTHOPEDIC SURGERY (ORS)  0.542798                          0   \n",
       "1  NEUROLOGICAL SURGERY (NS)  0.575495                         -1   \n",
       "2   ORTHOPEDIC SURGERY (ORS)  0.983543                          0   \n",
       "3       GENERAL SURGERY (GS)  0.911311                          1   \n",
       "4       PLASTIC SURGERY (PS)  0.246127                         -1   \n",
       "\n",
       "   discharge_category_kmedoids  \n",
       "0                            0  \n",
       "1                            3  \n",
       "2                            2  \n",
       "3                            3  \n",
       "4                            0  "
      ]
     },
     "execution_count": 22,
     "metadata": {},
     "output_type": "execute_result"
    }
   ],
   "source": [
    "df_cluster.head()"
   ]
  },
  {
   "cell_type": "code",
   "execution_count": 23,
   "metadata": {
    "colab": {
     "base_uri": "https://localhost:8080/"
    },
    "id": "SpWa0JusJCAr",
    "outputId": "24767913-990f-4b5b-95b5-0b6115c50d3c"
   },
   "outputs": [
    {
     "name": "stdout",
     "output_type": "stream",
     "text": [
      "(132938, 107)\n",
      "51\n"
     ]
    }
   ],
   "source": [
    "print(df.shape)\n",
    "print(df.group.nunique())"
   ]
  },
  {
   "cell_type": "code",
   "execution_count": 24,
   "metadata": {
    "colab": {
     "base_uri": "https://localhost:8080/"
    },
    "id": "buC-7g_OJ_1P",
    "outputId": "8f811de5-fff4-4aa0-984f-babe08c75352"
   },
   "outputs": [
    {
     "name": "stdout",
     "output_type": "stream",
     "text": [
      "(129275, 113)\n",
      "49\n"
     ]
    }
   ],
   "source": [
    "print(pd.merge(df, df_cluster, on = 'group', how = 'inner').shape)\n",
    "print(pd.merge(df, df_cluster, on = 'group', how = 'inner')['group'].nunique())"
   ]
  },
  {
   "cell_type": "code",
   "execution_count": 25,
   "metadata": {
    "id": "s6HnEjEPKqXe"
   },
   "outputs": [],
   "source": [
    "# creating copy of the medical dataset and selecting the variables\n",
    "df_temp = df_cluster.copy()\n",
    "df_temp.columns = ['group_procedure', 'pat_cost', 'discharge_to_home_pct', 'phy_spec',\n",
    "       'IP_pct', 'discharge_category_dbscan', 'discharge_category_kmedoids']\n",
    "\n",
    "df_temp = df_temp[['group_procedure', 'pat_cost', 'discharge_to_home_pct', 'phy_spec',\n",
    "       'IP_pct', 'discharge_category_dbscan', 'discharge_category_kmedoids']]\n",
    "\n",
    "df_temp = df_temp[['group_procedure']]"
   ]
  },
  {
   "cell_type": "code",
   "execution_count": 26,
   "metadata": {
    "colab": {
     "base_uri": "https://localhost:8080/"
    },
    "id": "TID-d6z5RnsQ",
    "outputId": "b26b3bd6-ba91-41d0-81b0-c13d06ade617"
   },
   "outputs": [
    {
     "data": {
      "text/plain": [
       "(49, 1)"
      ]
     },
     "execution_count": 26,
     "metadata": {},
     "output_type": "execute_result"
    }
   ],
   "source": [
    "df_temp.drop_duplicates(inplace = True)\n",
    "df_temp.sort_values(by = 'group_procedure', inplace = True)\n",
    "df_temp.reset_index(inplace = True, drop = True)\n",
    "df_temp.shape"
   ]
  },
  {
   "cell_type": "code",
   "execution_count": 27,
   "metadata": {
    "colab": {
     "base_uri": "https://localhost:8080/"
    },
    "id": "GYlI4_5hLOLu",
    "outputId": "e20f55d9-7e55-4953-e9ff-4f1d08ef37b5"
   },
   "outputs": [
    {
     "data": {
      "text/plain": [
       "(51, 1)"
      ]
     },
     "execution_count": 27,
     "metadata": {},
     "output_type": "execute_result"
    }
   ],
   "source": [
    "df_temp2 = df.copy()\n",
    "df_temp2 = df_temp2[['group']]\n",
    "df_temp2.drop_duplicates(inplace = True)\n",
    "df_temp2.drop_duplicates(inplace = True)\n",
    "df_temp2.sort_values(by = 'group', inplace = True)\n",
    "df_temp2.reset_index(inplace = True, drop = True)\n",
    "df_temp2.shape"
   ]
  },
  {
   "cell_type": "code",
   "execution_count": 28,
   "metadata": {
    "colab": {
     "base_uri": "https://localhost:8080/"
    },
    "id": "hms_JRUMOz01",
    "outputId": "2dc17191-e5dc-40f6-9219-fe8cfc964079"
   },
   "outputs": [
    {
     "name": "stdout",
     "output_type": "stream",
     "text": [
      "(132938, 107)\n",
      "(129275, 113)\n"
     ]
    }
   ],
   "source": [
    "# left joining the procedure dataset with the main dataset\n",
    "print(df.shape)\n",
    "df = pd.merge(df, df_cluster, on = 'group', how = 'inner')\n",
    "print(df.shape)"
   ]
  },
  {
   "cell_type": "code",
   "execution_count": 29,
   "metadata": {
    "colab": {
     "base_uri": "https://localhost:8080/"
    },
    "id": "liCLEuxtDthn",
    "outputId": "2d6ec43e-c842-45f9-8f29-b834d7ea9f1b"
   },
   "outputs": [
    {
     "data": {
      "text/plain": [
       "(54183, 113)"
      ]
     },
     "execution_count": 29,
     "metadata": {},
     "output_type": "execute_result"
    }
   ],
   "source": [
    "df_valid = df[~df['priv_pay_mean'].isna()]\n",
    "df_valid.shape\n",
    "## Nearly 60% target is missing"
   ]
  },
  {
   "cell_type": "code",
   "execution_count": 30,
   "metadata": {
    "colab": {
     "base_uri": "https://localhost:8080/"
    },
    "id": "VAnzUHZ0DjwG",
    "outputId": "2c14bf8c-8b3b-4e53-cbfa-c1aef983764d"
   },
   "outputs": [
    {
     "data": {
      "text/plain": [
       "48"
      ]
     },
     "execution_count": 30,
     "metadata": {},
     "output_type": "execute_result"
    }
   ],
   "source": [
    "df_valid.group.nunique()\n",
    "# 3 groups and proccedure types missing. Cannot be predicted."
   ]
  },
  {
   "cell_type": "code",
   "execution_count": 31,
   "metadata": {
    "id": "XIbOWO0xIWxE"
   },
   "outputs": [],
   "source": [
    "def get_data_threshold(df, var, thres):\n",
    "  print('There are {} rows and {} unique groups using {} as theshold'.format( df[df[var] > thres].shape[0], \n",
    "                                                                             df[df[var] > thres].group.nunique(), thres ) )"
   ]
  },
  {
   "cell_type": "code",
   "execution_count": 32,
   "metadata": {
    "colab": {
     "base_uri": "https://localhost:8080/"
    },
    "id": "kbcejHjyJR-x",
    "outputId": "5e8e8fcc-5c7a-45ea-f538-959ec54f0273"
   },
   "outputs": [
    {
     "name": "stdout",
     "output_type": "stream",
     "text": [
      "There are 8087 rows and 41 unique groups using 20 as theshold\n",
      "There are 6841 rows and 39 unique groups using 25 as theshold\n",
      "There are 5921 rows and 39 unique groups using 30 as theshold\n",
      "There are 5234 rows and 39 unique groups using 35 as theshold\n",
      "There are 4680 rows and 38 unique groups using 40 as theshold\n",
      "There are 3843 rows and 36 unique groups using 50 as theshold\n",
      "There are 3295 rows and 31 unique groups using 60 as theshold\n"
     ]
    }
   ],
   "source": [
    "get_data_threshold(df_valid, 'priv_count', 20)\n",
    "get_data_threshold(df_valid, 'priv_count', 25)\n",
    "get_data_threshold(df_valid, 'priv_count', 30)\n",
    "get_data_threshold(df_valid, 'priv_count', 35)\n",
    "get_data_threshold(df_valid, 'priv_count', 40)\n",
    "get_data_threshold(df_valid, 'priv_count', 50)\n",
    "get_data_threshold(df_valid, 'priv_count', 60)"
   ]
  },
  {
   "cell_type": "code",
   "execution_count": 33,
   "metadata": {
    "id": "2Xg8Vvwevwhh"
   },
   "outputs": [],
   "source": [
    "rows, groups  = [], []\n",
    "var = 'priv_count'\n",
    "for i in range(1,101):\n",
    "  rows.append(df_valid[df_valid[var] > i].shape[0])\n",
    "  groups.append(df_valid[df_valid[var] > i].group.nunique())\n",
    "\n",
    "index  = np.arange(1,101,1)"
   ]
  },
  {
   "cell_type": "code",
   "execution_count": 34,
   "metadata": {
    "id": "ElosppsPxTXU"
   },
   "outputs": [],
   "source": [
    "df_thres = pd.DataFrame()\n",
    "\n",
    "df_thres['Threshold'] = index\n",
    "df_thres['Groups'] = groups\n",
    "df_thres['Rows'] = rows\n",
    "df_thres['All_Groups'] = df_valid.group.nunique()\n"
   ]
  },
  {
   "cell_type": "code",
   "execution_count": 35,
   "metadata": {
    "colab": {
     "base_uri": "https://localhost:8080/",
     "height": 314
    },
    "id": "SIwmC3nbxzo9",
    "outputId": "db084420-67d9-4a63-cea3-18aecb1e565e"
   },
   "outputs": [
    {
     "data": {
      "image/png": "[encoded data removed]",
      "text/plain": [
       "<Figure size 432x288 with 1 Axes>"
      ]
     },
     "metadata": {
      "needs_background": "light"
     },
     "output_type": "display_data"
    },
    {
     "data": {
      "text/plain": [
       "<Figure size 432x288 with 0 Axes>"
      ]
     },
     "metadata": {},
     "output_type": "display_data"
    }
   ],
   "source": [
    "sns.lineplot(data=df_thres, x=\"Threshold\", y=\"Groups\")\n",
    "plt.xlabel('Threshold for no. of observations')\n",
    "plt.ylabel('No. of Procedures')\n",
    "plt.title('No. of Procedures vs Minumum Count Cutoff', fontsize = 14)\n",
    "plt.grid('both', linestyle='dashed', alpha=0.1)\n",
    "plt.show() \n",
    "plt.savefig('Cutoff_1.png')"
   ]
  },
  {
   "cell_type": "code",
   "execution_count": 36,
   "metadata": {
    "colab": {
     "base_uri": "https://localhost:8080/",
     "height": 314
    },
    "id": "EjycGtevyfb0",
    "outputId": "2ce0e4fa-a416-4c4b-9687-c43548f7c540"
   },
   "outputs": [
    {
     "data": {
      "image/png": "[encoded data removed]",
      "text/plain": [
       "<Figure size 432x288 with 1 Axes>"
      ]
     },
     "metadata": {
      "needs_background": "light"
     },
     "output_type": "display_data"
    },
    {
     "data": {
      "text/plain": [
       "<Figure size 432x288 with 0 Axes>"
      ]
     },
     "metadata": {},
     "output_type": "display_data"
    }
   ],
   "source": [
    "sns.lineplot(data=df_thres, x=\"Threshold\", y=\"Rows\")\n",
    "plt.xlabel('Threshold for no. of observations')\n",
    "plt.ylabel('No. of Samples')\n",
    "plt.title('No. of Samples vs Minumum Count Cutoff', fontsize = 14)\n",
    "plt.grid('both', linestyle='dashed', alpha=0.2)\n",
    "plt.show() \n",
    "plt.savefig('Cutoff_2.png')"
   ]
  },
  {
   "cell_type": "code",
   "execution_count": 37,
   "metadata": {
    "colab": {
     "base_uri": "https://localhost:8080/"
    },
    "id": "ojWNLuRRGJfx",
    "outputId": "f20936aa-840d-4350-e7d5-5a837d98dd41"
   },
   "outputs": [
    {
     "name": "stderr",
     "output_type": "stream",
     "text": [
      "<ipython-input-37-0b494451592f>:2: UserWarning: Boolean Series key will be reindexed to match DataFrame index.\n",
      "  df_valid = df_valid[df['priv_count'] > 30]\n"
     ]
    },
    {
     "data": {
      "text/plain": [
       "(5921, 113)"
      ]
     },
     "execution_count": 37,
     "metadata": {},
     "output_type": "execute_result"
    }
   ],
   "source": [
    "#slicing the data at 30 theshold\n",
    "df_valid = df_valid[df['priv_count'] > 30]\n",
    "df_valid.shape"
   ]
  },
  {
   "cell_type": "code",
   "execution_count": 38,
   "metadata": {
    "colab": {
     "base_uri": "https://localhost:8080/",
     "height": 296
    },
    "id": "UtOpDgDdja6k",
    "outputId": "f7f23b13-ab29-4c61-c99c-22e92f8f4873"
   },
   "outputs": [
    {
     "data": {
      "image/png": "[encoded data removed]",
      "text/plain": [
       "<Figure size 432x288 with 1 Axes>"
      ]
     },
     "metadata": {
      "needs_background": "light"
     },
     "output_type": "display_data"
    }
   ],
   "source": [
    "plt.hist(df_valid.priv_pay_mean, bins=15, ec=\"black\", alpha=0.8)\n",
    "plt.xlabel('Overall Payout')\n",
    "plt.ylabel('Count')\n",
    "plt.title('Histogram of Overall Payout', fontsize = 14)\n",
    "plt.grid('both', linestyle='dashed', alpha=0.2)\n",
    "plt.show() "
   ]
  },
  {
   "cell_type": "code",
   "execution_count": 39,
   "metadata": {
    "colab": {
     "base_uri": "https://localhost:8080/",
     "height": 296
    },
    "id": "zdM5ZsFYja8i",
    "outputId": "93fd1789-b582-4fd4-b573-3c92e6bd1c3d"
   },
   "outputs": [
    {
     "data": {
      "image/png": "[encoded data removed]",
      "text/plain": [
       "<Figure size 432x288 with 1 Axes>"
      ]
     },
     "metadata": {
      "needs_background": "light"
     },
     "output_type": "display_data"
    }
   ],
   "source": [
    "df_valid['bc_priv_pay_mean'] = stats.boxcox(df_valid['priv_pay_mean'])[0]\n",
    "\n",
    "plt.hist(df_valid.bc_priv_pay_mean, bins=15, ec=\"black\", alpha=0.8)\n",
    "plt.xlabel('Overall Payout')\n",
    "plt.ylabel('Count')\n",
    "plt.title('Histogram of Overall Box Cox Transformed Payout', fontsize = 14)\n",
    "plt.grid('both', linestyle='dashed', alpha=0.2)\n",
    "plt.show() "
   ]
  },
  {
   "cell_type": "code",
   "execution_count": 40,
   "metadata": {
    "colab": {
     "base_uri": "https://localhost:8080/",
     "height": 296
    },
    "id": "1UTKiJD0ja-a",
    "outputId": "abaa43cd-6499-4871-acd2-e839cb33013c"
   },
   "outputs": [
    {
     "data": {
      "image/png": "[encoded data removed]",
      "text/plain": [
       "<Figure size 432x288 with 1 Axes>"
      ]
     },
     "metadata": {
      "needs_background": "light"
     },
     "output_type": "display_data"
    }
   ],
   "source": [
    "df_valid['log_priv_pay_mean'] = np.log(df_valid['priv_pay_mean'])\n",
    "\n",
    "plt.hist(df_valid.log_priv_pay_mean, bins=15, ec=\"black\", alpha=0.8)\n",
    "plt.xlabel('Overall Payout')\n",
    "plt.ylabel('Count')\n",
    "plt.title('Histogram of Log Transformed Payout', fontsize = 14)\n",
    "plt.grid('both', linestyle='dashed', alpha=0.2)\n",
    "plt.show() "
   ]
  },
  {
   "cell_type": "code",
   "execution_count": 43,
   "metadata": {
    "colab": {
     "base_uri": "https://localhost:8080/"
    },
    "id": "U_bIonIjU2DK",
    "outputId": "65a9db64-cc01-4378-d73b-1bf8967f0a71"
   },
   "outputs": [
    {
     "data": {
      "text/plain": [
       "22"
      ]
     },
     "execution_count": 43,
     "metadata": {},
     "output_type": "execute_result"
    }
   ],
   "source": [
    "# numeric features\n",
    "\n",
    "num_features = [\n",
    "'site_weight',\n",
    "'year',  \n",
    "'priv_count', \n",
    "'ownership_FEDERAL_median','ownership_HOSPITAL DISTRICT OR AUTHORITY_median','ownership_LOCAL_median', 'ownership_OTHER (SPECIFY)_median',\n",
    "'ownership_PHYSICIAN OWNERSHIP_median', 'ownership_PRIVATE (FOR PROFIT)_median', 'ownership_PRIVATE (NOT FOR PROFIT)_median', 'ownership_STATE_median',\n",
    "'ownership_TRIBAL_median', 'urban_rural_URBAN_median',\n",
    "'teaching_YES_median',\n",
    "'hospital_count', \n",
    "'avg_income_2020',\n",
    "'population_estimate_2020', \n",
    "'Life Expectancy', \n",
    "'harvesine_distance',\n",
    "'Covid_payment_median', \n",
    "'beds_grp_median','beds_grp_greater_500_median'\n",
    "]\n",
    "len(num_features)"
   ]
  },
  {
   "cell_type": "code",
   "execution_count": 44,
   "metadata": {
    "id": "tEeQKG7WU2Fb"
   },
   "outputs": [],
   "source": [
    "# ohehot encoding and terget encoding features\n",
    "ohe_features = ['site']\n",
    "tar_enc_features = ['group', 'msa']"
   ]
  },
  {
   "cell_type": "code",
   "execution_count": 45,
   "metadata": {
    "colab": {
     "base_uri": "https://localhost:8080/"
    },
    "id": "ebRYVBZkc5Ov",
    "outputId": "9d608667-adfa-4fc8-be59-78c4277b134e"
   },
   "outputs": [
    {
     "data": {
      "text/plain": [
       "25"
      ]
     },
     "execution_count": 45,
     "metadata": {},
     "output_type": "execute_result"
    }
   ],
   "source": [
    "all_features = num_features + ohe_features + tar_enc_features\n",
    "len(all_features)"
   ]
  },
  {
   "cell_type": "code",
   "execution_count": 46,
   "metadata": {
    "colab": {
     "base_uri": "https://localhost:8080/"
    },
    "id": "VTqyj7Mn-Xgz",
    "outputId": "f68e1b79-1053-4a26-894d-611a32b24664"
   },
   "outputs": [
    {
     "data": {
      "text/plain": [
       "(129275, 113)"
      ]
     },
     "execution_count": 46,
     "metadata": {},
     "output_type": "execute_result"
    }
   ],
   "source": [
    "df.shape"
   ]
  },
  {
   "cell_type": "markdown",
   "metadata": {
    "id": "8PSSZ4MXu61p"
   },
   "source": [
    "### Data Visualization"
   ]
  },
  {
   "cell_type": "code",
   "execution_count": 47,
   "metadata": {
    "colab": {
     "base_uri": "https://localhost:8080/",
     "height": 1000
    },
    "id": "vr5h6Zf5dq4Y",
    "outputId": "705e12c7-ef74-4772-8d79-f865b566700c"
   },
   "outputs": [
    {
     "data": {
      "image/png": "[encoded data removed]",
      "text/plain": [
       "<Figure size 1440x2160 with 24 Axes>"
      ]
     },
     "metadata": {
      "needs_background": "light"
     },
     "output_type": "display_data"
    }
   ],
   "source": [
    "### Your code here\n",
    "fig, ax = plt.subplots(8, 3, figsize = (20,30))\n",
    "\n",
    "for col, subplot in zip(num_features, ax.flatten()):\n",
    "    sns.scatterplot(x=col, y=df_valid['log_priv_pay_mean'], data = df_valid[num_features] , ax= subplot)\n",
    "plt.show(fig)"
   ]
  },
  {
   "cell_type": "code",
   "execution_count": 48,
   "metadata": {
    "colab": {
     "base_uri": "https://localhost:8080/",
     "height": 581
    },
    "id": "EdObC7WNK-u4",
    "outputId": "bcfa3683-6e03-42da-8127-96f83d623df6"
   },
   "outputs": [
    {
     "data": {
      "image/png": "[encoded data removed]",
      "text/plain": [
       "<Figure size 1800x720 with 1 Axes>"
      ]
     },
     "metadata": {
      "needs_background": "light"
     },
     "output_type": "display_data"
    }
   ],
   "source": [
    "#missing value graph for new features\n",
    "m = []\n",
    "idx = []\n",
    "x = []\n",
    "\n",
    "for id, i in enumerate(df_valid.columns):\n",
    "  percent = df_valid[i].isnull().sum()/len(df_valid)\n",
    "  if percent > 0.01:\n",
    "    idx.append(id)\n",
    "    m.append(percent)\n",
    "\n",
    "for i in idx:\n",
    "  x.append(list(df_valid.columns)[i])\n",
    "\n",
    "plt.figure(figsize=(25,10))\n",
    "plt.bar(x, m, color ='green', width = 0.5)\n",
    "plt.xlabel(\"features\")\n",
    "plt.ylabel(\"Missing %\")\n",
    "plt.title(\"Plot of missing %\")\n",
    "plt.show()"
   ]
  },
  {
   "cell_type": "code",
   "execution_count": 49,
   "metadata": {
    "colab": {
     "base_uri": "https://localhost:8080/",
     "height": 424
    },
    "id": "ulyK8yNojMzk",
    "outputId": "a59b0a8f-ed67-49ad-e17e-6d10c0cdfc7e"
   },
   "outputs": [
    {
     "data": {
      "text/html": [
       "\n",
       "  <div id=\"df-39c66fc8-8511-4bd4-8d56-143cd995d00c\">\n",
       "    <div class=\"colab-df-container\">\n",
       "      <div>\n",
       "<style scoped>\n",
       "    .dataframe tbody tr th:only-of-type {\n",
       "        vertical-align: middle;\n",
       "    }\n",
       "\n",
       "    .dataframe tbody tr th {\n",
       "        vertical-align: top;\n",
       "    }\n",
       "\n",
       "    .dataframe thead th {\n",
       "        text-align: right;\n",
       "    }\n",
       "</style>\n",
       "<table border=\"1\" class=\"dataframe\">\n",
       "  <thead>\n",
       "    <tr style=\"text-align: right;\">\n",
       "      <th></th>\n",
       "      <th>msa</th>\n",
       "      <th>population_estimate_2020</th>\n",
       "      <th>FIPS State Code</th>\n",
       "    </tr>\n",
       "  </thead>\n",
       "  <tbody>\n",
       "    <tr>\n",
       "      <th>89</th>\n",
       "      <td>19124</td>\n",
       "      <td>NaN</td>\n",
       "      <td>48</td>\n",
       "    </tr>\n",
       "    <tr>\n",
       "      <th>261</th>\n",
       "      <td>35614</td>\n",
       "      <td>NaN</td>\n",
       "      <td>34</td>\n",
       "    </tr>\n",
       "    <tr>\n",
       "      <th>496</th>\n",
       "      <td>19124</td>\n",
       "      <td>NaN</td>\n",
       "      <td>48</td>\n",
       "    </tr>\n",
       "    <tr>\n",
       "      <th>667</th>\n",
       "      <td>35614</td>\n",
       "      <td>NaN</td>\n",
       "      <td>34</td>\n",
       "    </tr>\n",
       "    <tr>\n",
       "      <th>902</th>\n",
       "      <td>19124</td>\n",
       "      <td>NaN</td>\n",
       "      <td>48</td>\n",
       "    </tr>\n",
       "    <tr>\n",
       "      <th>...</th>\n",
       "      <td>...</td>\n",
       "      <td>...</td>\n",
       "      <td>...</td>\n",
       "    </tr>\n",
       "    <tr>\n",
       "      <th>128595</th>\n",
       "      <td>23104</td>\n",
       "      <td>NaN</td>\n",
       "      <td>48</td>\n",
       "    </tr>\n",
       "    <tr>\n",
       "      <th>128843</th>\n",
       "      <td>47664</td>\n",
       "      <td>NaN</td>\n",
       "      <td>26</td>\n",
       "    </tr>\n",
       "    <tr>\n",
       "      <th>128957</th>\n",
       "      <td>19124</td>\n",
       "      <td>NaN</td>\n",
       "      <td>48</td>\n",
       "    </tr>\n",
       "    <tr>\n",
       "      <th>129129</th>\n",
       "      <td>35614</td>\n",
       "      <td>NaN</td>\n",
       "      <td>34</td>\n",
       "    </tr>\n",
       "    <tr>\n",
       "      <th>129250</th>\n",
       "      <td>47664</td>\n",
       "      <td>NaN</td>\n",
       "      <td>26</td>\n",
       "    </tr>\n",
       "  </tbody>\n",
       "</table>\n",
       "<p>1908 rows × 3 columns</p>\n",
       "</div>\n",
       "      <button class=\"colab-df-convert\" onclick=\"convertToInteractive('df-39c66fc8-8511-4bd4-8d56-143cd995d00c')\"\n",
       "              title=\"Convert this dataframe to an interactive table.\"\n",
       "              style=\"display:none;\">\n",
       "        \n",
       "  <svg xmlns=\"http://www.w3.org/2000/svg\" height=\"24px\"viewBox=\"0 0 24 24\"\n",
       "       width=\"24px\">\n",
       "    <path d=\"M0 0h24v24H0V0z\" fill=\"none\"/>\n",
       "    <path d=\"M18.56 5.44l.94 2.06.94-2.06 2.06-.94-2.06-.94-.94-2.06-.94 2.06-2.06.94zm-11 1L8.5 8.5l.94-2.06 2.06-.94-2.06-.94L8.5 2.5l-.94 2.06-2.06.94zm10 10l.94 2.06.94-2.06 2.06-.94-2.06-.94-.94-2.06-.94 2.06-2.06.94z\"/><path d=\"M17.41 7.96l-1.37-1.37c-.4-.4-.92-.59-1.43-.59-.52 0-1.04.2-1.43.59L10.3 9.45l-7.72 7.72c-.78.78-.78 2.05 0 2.83L4 21.41c.39.39.9.59 1.41.59.51 0 1.02-.2 1.41-.59l7.78-7.78 2.81-2.81c.8-.78.8-2.07 0-2.86zM5.41 20L4 18.59l7.72-7.72 1.47 1.35L5.41 20z\"/>\n",
       "  </svg>\n",
       "      </button>\n",
       "      \n",
       "  <style>\n",
       "    .colab-df-container {\n",
       "      display:flex;\n",
       "      flex-wrap:wrap;\n",
       "      gap: 12px;\n",
       "    }\n",
       "\n",
       "    .colab-df-convert {\n",
       "      background-color: #E8F0FE;\n",
       "      border: none;\n",
       "      border-radius: 50%;\n",
       "      cursor: pointer;\n",
       "      display: none;\n",
       "      fill: #1967D2;\n",
       "      height: 32px;\n",
       "      padding: 0 0 0 0;\n",
       "      width: 32px;\n",
       "    }\n",
       "\n",
       "    .colab-df-convert:hover {\n",
       "      background-color: #E2EBFA;\n",
       "      box-shadow: 0px 1px 2px rgba(60, 64, 67, 0.3), 0px 1px 3px 1px rgba(60, 64, 67, 0.15);\n",
       "      fill: #174EA6;\n",
       "    }\n",
       "\n",
       "    [theme=dark] .colab-df-convert {\n",
       "      background-color: #3B4455;\n",
       "      fill: #D2E3FC;\n",
       "    }\n",
       "\n",
       "    [theme=dark] .colab-df-convert:hover {\n",
       "      background-color: #434B5C;\n",
       "      box-shadow: 0px 1px 3px 1px rgba(0, 0, 0, 0.15);\n",
       "      filter: drop-shadow(0px 1px 2px rgba(0, 0, 0, 0.3));\n",
       "      fill: #FFFFFF;\n",
       "    }\n",
       "  </style>\n",
       "\n",
       "      <script>\n",
       "        const buttonEl =\n",
       "          document.querySelector('#df-39c66fc8-8511-4bd4-8d56-143cd995d00c button.colab-df-convert');\n",
       "        buttonEl.style.display =\n",
       "          google.colab.kernel.accessAllowed ? 'block' : 'none';\n",
       "\n",
       "        async function convertToInteractive(key) {\n",
       "          const element = document.querySelector('#df-39c66fc8-8511-4bd4-8d56-143cd995d00c');\n",
       "          const dataTable =\n",
       "            await google.colab.kernel.invokeFunction('convertToInteractive',\n",
       "                                                     [key], {});\n",
       "          if (!dataTable) return;\n",
       "\n",
       "          const docLinkHtml = 'Like what you see? Visit the ' +\n",
       "            '<a target=\"_blank\" href=https://colab.research.google.com/notebooks/data_table.ipynb>data table notebook</a>'\n",
       "            + ' to learn more about interactive tables.';\n",
       "          element.innerHTML = '';\n",
       "          dataTable['output_type'] = 'display_data';\n",
       "          await google.colab.output.renderOutput(dataTable, element);\n",
       "          const docLink = document.createElement('div');\n",
       "          docLink.innerHTML = docLinkHtml;\n",
       "          element.appendChild(docLink);\n",
       "        }\n",
       "      </script>\n",
       "    </div>\n",
       "  </div>\n",
       "  "
      ],
      "text/plain": [
       "          msa  population_estimate_2020  FIPS State Code\n",
       "89      19124                       NaN               48\n",
       "261     35614                       NaN               34\n",
       "496     19124                       NaN               48\n",
       "667     35614                       NaN               34\n",
       "902     19124                       NaN               48\n",
       "...       ...                       ...              ...\n",
       "128595  23104                       NaN               48\n",
       "128843  47664                       NaN               26\n",
       "128957  19124                       NaN               48\n",
       "129129  35614                       NaN               34\n",
       "129250  47664                       NaN               26\n",
       "\n",
       "[1908 rows x 3 columns]"
      ]
     },
     "execution_count": 49,
     "metadata": {},
     "output_type": "execute_result"
    }
   ],
   "source": [
    "df_valid[df_valid['population_estimate_2020'].isnull()][['msa', 'population_estimate_2020', 'FIPS State Code']]"
   ]
  },
  {
   "cell_type": "code",
   "execution_count": 50,
   "metadata": {
    "id": "3qu6GLKpywOB"
   },
   "outputs": [],
   "source": [
    "# removing null values in teaching_YES_mode_y variable\n",
    "df_valid = df_valid[~df_valid['teaching_YES_mode_y'].isnull()]"
   ]
  },
  {
   "cell_type": "code",
   "execution_count": 51,
   "metadata": {
    "colab": {
     "base_uri": "https://localhost:8080/"
    },
    "id": "38upf__GxXAk",
    "outputId": "4833f17f-b6c2-4319-d686-da1dc5dee9a3"
   },
   "outputs": [
    {
     "name": "stderr",
     "output_type": "stream",
     "text": [
      "<ipython-input-51-ba230b61d418>:2: SettingWithCopyWarning: \n",
      "A value is trying to be set on a copy of a slice from a DataFrame.\n",
      "Try using .loc[row_indexer,col_indexer] = value instead\n",
      "\n",
      "See the caveats in the documentation: https://pandas.pydata.org/pandas-docs/stable/user_guide/indexing.html#returning-a-view-versus-a-copy\n",
      "  df_valid['population_estimate_2020'] = df_valid['population_estimate_2020'].fillna(df_valid['avg_income_2020'].mean())\n",
      "<ipython-input-51-ba230b61d418>:3: SettingWithCopyWarning: \n",
      "A value is trying to be set on a copy of a slice from a DataFrame.\n",
      "Try using .loc[row_indexer,col_indexer] = value instead\n",
      "\n",
      "See the caveats in the documentation: https://pandas.pydata.org/pandas-docs/stable/user_guide/indexing.html#returning-a-view-versus-a-copy\n",
      "  df_valid['avg_income_2020'] = df_valid['avg_income_2020'].fillna(df_valid['avg_income_2020'].mean())\n"
     ]
    }
   ],
   "source": [
    "# imputing missing values in avg_income_2020 and avg_income_2020\n",
    "df_valid['population_estimate_2020'] = df_valid['population_estimate_2020'].fillna(df_valid['avg_income_2020'].mean())\n",
    "df_valid['avg_income_2020'] = df_valid['avg_income_2020'].fillna(df_valid['avg_income_2020'].mean())"
   ]
  },
  {
   "cell_type": "code",
   "execution_count": 53,
   "metadata": {
    "colab": {
     "base_uri": "https://localhost:8080/"
    },
    "id": "JgOSg-sTIQjY",
    "outputId": "ac660ce6-5e90-497e-8233-b028f448fe4d"
   },
   "outputs": [
    {
     "data": {
      "text/plain": [
       "(5885, 115)"
      ]
     },
     "execution_count": 53,
     "metadata": {},
     "output_type": "execute_result"
    }
   ],
   "source": [
    "#check for dataframe shape\n",
    "df_valid.shape"
   ]
  },
  {
   "cell_type": "markdown",
   "metadata": {
    "id": "p3WfFaeyvJmB"
   },
   "source": [
    "### Data Split"
   ]
  },
  {
   "cell_type": "code",
   "execution_count": 54,
   "metadata": {
    "colab": {
     "base_uri": "https://localhost:8080/"
    },
    "id": "a74xvt86vfcG",
    "outputId": "51eadae4-1b1b-4771-faaf-e01a897ac723"
   },
   "outputs": [
    {
     "name": "stdout",
     "output_type": "stream",
     "text": [
      "Looking in indexes: https://pypi.org/simple, https://us-python.pkg.dev/colab-wheels/public/simple/\n",
      "Requirement already satisfied: category_encoders in /usr/local/lib/python3.8/dist-packages (2.5.1.post0)\n",
      "Requirement already satisfied: numpy>=1.14.0 in /usr/local/lib/python3.8/dist-packages (from category_encoders) (1.21.6)\n",
      "Requirement already satisfied: scikit-learn>=0.20.0 in /usr/local/lib/python3.8/dist-packages (from category_encoders) (1.0.2)\n",
      "Requirement already satisfied: scipy>=1.0.0 in /usr/local/lib/python3.8/dist-packages (from category_encoders) (1.7.3)\n",
      "Requirement already satisfied: patsy>=0.5.1 in /usr/local/lib/python3.8/dist-packages (from category_encoders) (0.5.3)\n",
      "Requirement already satisfied: pandas>=1.0.5 in /usr/local/lib/python3.8/dist-packages (from category_encoders) (1.3.5)\n",
      "Requirement already satisfied: statsmodels>=0.9.0 in /usr/local/lib/python3.8/dist-packages (from category_encoders) (0.12.2)\n",
      "Requirement already satisfied: pytz>=2017.3 in /usr/local/lib/python3.8/dist-packages (from pandas>=1.0.5->category_encoders) (2022.6)\n",
      "Requirement already satisfied: python-dateutil>=2.7.3 in /usr/local/lib/python3.8/dist-packages (from pandas>=1.0.5->category_encoders) (2.8.2)\n",
      "Requirement already satisfied: six in /usr/local/lib/python3.8/dist-packages (from patsy>=0.5.1->category_encoders) (1.15.0)\n",
      "Requirement already satisfied: threadpoolctl>=2.0.0 in /usr/local/lib/python3.8/dist-packages (from scikit-learn>=0.20.0->category_encoders) (3.1.0)\n",
      "Requirement already satisfied: joblib>=0.11 in /usr/local/lib/python3.8/dist-packages (from scikit-learn>=0.20.0->category_encoders) (1.2.0)\n"
     ]
    }
   ],
   "source": [
    "import sklearn\n",
    "from sklearn.linear_model import LinearRegression\n",
    "from sklearn.pipeline import make_pipeline, FeatureUnion, Pipeline\n",
    "from sklearn.compose import make_column_transformer\n",
    "from sklearn.preprocessing import StandardScaler, OneHotEncoder\n",
    "from sklearn.model_selection import KFold, StratifiedKFold, cross_val_score, GridSearchCV, RandomizedSearchCV\n",
    "from sklearn.tree import DecisionTreeClassifier\n",
    "from sklearn.model_selection import train_test_split\n",
    "!pip install category_encoders\n",
    "from category_encoders import TargetEncoder\n",
    "import time\n",
    "from datetime import timedelta"
   ]
  },
  {
   "cell_type": "code",
   "execution_count": 56,
   "metadata": {
    "colab": {
     "base_uri": "https://localhost:8080/"
    },
    "id": "5N9f5JozeC2F",
    "outputId": "7bb61f90-ddc2-48d4-916e-57ed8182d9b6"
   },
   "outputs": [
    {
     "data": {
      "text/plain": [
       "site_weight                                        0\n",
       "year                                               0\n",
       "priv_count                                         0\n",
       "ownership_FEDERAL_median                           0\n",
       "ownership_HOSPITAL DISTRICT OR AUTHORITY_median    0\n",
       "ownership_LOCAL_median                             0\n",
       "ownership_OTHER (SPECIFY)_median                   0\n",
       "ownership_PHYSICIAN OWNERSHIP_median               0\n",
       "ownership_PRIVATE (FOR PROFIT)_median              0\n",
       "ownership_PRIVATE (NOT FOR PROFIT)_median          0\n",
       "ownership_STATE_median                             0\n",
       "ownership_TRIBAL_median                            0\n",
       "urban_rural_URBAN_median                           0\n",
       "teaching_YES_median                                0\n",
       "hospital_count                                     0\n",
       "avg_income_2020                                    0\n",
       "population_estimate_2020                           0\n",
       "Life Expectancy                                    0\n",
       "harvesine_distance                                 0\n",
       "Covid_payment_median                               0\n",
       "beds_grp_median                                    0\n",
       "beds_grp_greater_500_median                        0\n",
       "site                                               0\n",
       "group                                              0\n",
       "msa                                                0\n",
       "dtype: int64"
      ]
     },
     "execution_count": 56,
     "metadata": {},
     "output_type": "execute_result"
    }
   ],
   "source": [
    "# final check for missing values\n",
    "df_valid[all_features].isnull().sum()"
   ]
  },
  {
   "cell_type": "code",
   "execution_count": 57,
   "metadata": {
    "colab": {
     "base_uri": "https://localhost:8080/"
    },
    "id": "3iV1bvY8HY4R",
    "outputId": "86a14db5-1288-49d4-f709-4ce10874a1ba"
   },
   "outputs": [
    {
     "data": {
      "text/plain": [
       "(81, 5)"
      ]
     },
     "execution_count": 57,
     "metadata": {},
     "output_type": "execute_result"
    }
   ],
   "source": [
    "df_asc = df_valid.groupby(['msa', 'group', 'year']).agg({'priv_pay_mean':'sum'}).reset_index()\n",
    "df_asc.shape\n",
    "\n",
    "df_asc = df_valid[df_valid.site == 'ASC'].groupby(['msa', 'group', 'year']).agg({'priv_pay_mean':'sum'}).reset_index()\n",
    "df_asc.shape\n",
    "\n",
    "df_in = df_valid[df_valid.site == 'Inpatient'].groupby(['msa', 'group', 'year']).agg({'priv_pay_mean':'sum'}).reset_index()\n",
    "df_in.shape\n",
    "\n",
    "pd.merge(df_asc, df_in, on = ['msa', 'group', 'year'] , how = 'inner').shape"
   ]
  },
  {
   "cell_type": "code",
   "execution_count": 58,
   "metadata": {
    "colab": {
     "base_uri": "https://localhost:8080/"
    },
    "id": "JVU35dLaFDU1",
    "outputId": "89027930-d9ee-42f8-afd7-805c65767099"
   },
   "outputs": [
    {
     "data": {
      "text/plain": [
       "(612, 4)"
      ]
     },
     "execution_count": 58,
     "metadata": {},
     "output_type": "execute_result"
    }
   ],
   "source": [
    "df_asc = df_valid[df_valid.site == 'ASC'].groupby(['msa', 'group', 'year']).agg({'priv_pay_mean':'sum'}).reset_index()\n",
    "df_asc.shape"
   ]
  },
  {
   "cell_type": "code",
   "execution_count": 59,
   "metadata": {
    "colab": {
     "base_uri": "https://localhost:8080/"
    },
    "id": "S4cpJERFFDWk",
    "outputId": "f1abe22a-eaa6-459b-cd73-524763b0a67d"
   },
   "outputs": [
    {
     "data": {
      "text/plain": [
       "(1438, 4)"
      ]
     },
     "execution_count": 59,
     "metadata": {},
     "output_type": "execute_result"
    }
   ],
   "source": [
    "df_in = df_valid[df_valid.site == 'Inpatient'].groupby(['msa', 'group', 'year']).agg({'priv_pay_mean':'sum'}).reset_index()\n",
    "df_in.shape"
   ]
  },
  {
   "cell_type": "code",
   "execution_count": 60,
   "metadata": {
    "colab": {
     "base_uri": "https://localhost:8080/"
    },
    "id": "1oUSiNXSFDZQ",
    "outputId": "e9a54a6a-531d-490d-9ff8-f597b9856e2c"
   },
   "outputs": [
    {
     "data": {
      "text/plain": [
       "(81, 5)"
      ]
     },
     "execution_count": 60,
     "metadata": {},
     "output_type": "execute_result"
    }
   ],
   "source": [
    "pd.merge(df_asc, df_in, on = ['msa', 'group', 'year'] , how = 'inner').shape"
   ]
  },
  {
   "cell_type": "code",
   "execution_count": 61,
   "metadata": {
    "id": "4lgB6v-8l0Tf"
   },
   "outputs": [],
   "source": [
    "# seperating target variable into new dataframe\n",
    "df_valid_X = df_valid[all_features]\n",
    "df_valid_y = df_valid['log_priv_pay_mean']"
   ]
  },
  {
   "cell_type": "code",
   "execution_count": 62,
   "metadata": {
    "id": "lNfuaRqxmER5"
   },
   "outputs": [],
   "source": [
    "# Train, Validation and Test split\n",
    "df_valid_X_dev, df_valid_X_test, df_valid_y_dev, df_valid_y_test = train_test_split(df_valid_X, df_valid_y, test_size=0.05, random_state=0)\n",
    "df_valid_X_train, df_valid_X_val, df_valid_y_train, df_valid_y_val = train_test_split(df_valid_X_dev, df_valid_y_dev, test_size=0.07, random_state=0)"
   ]
  },
  {
   "cell_type": "code",
   "execution_count": 63,
   "metadata": {
    "colab": {
     "base_uri": "https://localhost:8080/"
    },
    "id": "g1khatD6mETm",
    "outputId": "48751472-a433-470e-83ce-644e329a609e"
   },
   "outputs": [
    {
     "name": "stdout",
     "output_type": "stream",
     "text": [
      "(5885, 115)\n",
      "(5198, 25)\n",
      "(392, 25)\n",
      "(295, 25)\n"
     ]
    }
   ],
   "source": [
    "print(df_valid.shape)\n",
    "print(df_valid_X_train.shape)\n",
    "print(df_valid_X_val.shape)\n",
    "print(df_valid_X_test.shape)"
   ]
  },
  {
   "cell_type": "markdown",
   "metadata": {
    "id": "O33LRqodvOCk"
   },
   "source": [
    "## Model Building"
   ]
  },
  {
   "cell_type": "markdown",
   "metadata": {
    "id": "u6eoV4i5yW9Z"
   },
   "source": [
    "### Linear Regression"
   ]
  },
  {
   "cell_type": "code",
   "execution_count": 66,
   "metadata": {
    "id": "MNZ0j0o8mpE8"
   },
   "outputs": [],
   "source": [
    "# #code here\n",
    "preprocess = make_column_transformer((StandardScaler(), num_features),\n",
    "                                      (OneHotEncoder(handle_unknown = \"ignore\"), ohe_features),\n",
    "                                      (TargetEncoder(handle_unknown = \"ignore\"), tar_enc_features),\n",
    "                                      remainder = 'passthrough'\n",
    "                                     )\n",
    "\n",
    "pipe_lr_pure = make_pipeline(preprocess, LinearRegression())\n",
    "pipe_fit_lr_pure = pipe_lr_pure.fit(df_valid_X_train, df_valid_y_train)"
   ]
  },
  {
   "cell_type": "code",
   "execution_count": 67,
   "metadata": {
    "colab": {
     "base_uri": "https://localhost:8080/"
    },
    "id": "t6vX7RWJyUGm",
    "outputId": "5c2f8f6c-4aab-438f-ab63-9a9e57f81ca3"
   },
   "outputs": [
    {
     "data": {
      "text/plain": [
       "0.7942131011898708"
      ]
     },
     "execution_count": 67,
     "metadata": {},
     "output_type": "execute_result"
    }
   ],
   "source": [
    "pipe_fit_lr_pure.score(df_valid_X_val, df_valid_y_val)"
   ]
  },
  {
   "cell_type": "code",
   "execution_count": 68,
   "metadata": {
    "colab": {
     "base_uri": "https://localhost:8080/"
    },
    "id": "pm243nq8H-rN",
    "outputId": "68a8613e-2185-4df2-e078-01a98dcd8e0f"
   },
   "outputs": [
    {
     "data": {
      "text/plain": [
       "0.736177961594517"
      ]
     },
     "execution_count": 68,
     "metadata": {},
     "output_type": "execute_result"
    }
   ],
   "source": [
    "pipe_fit_lr_pure.score(df_valid_X_test, df_valid_y_test)"
   ]
  },
  {
   "cell_type": "code",
   "execution_count": 70,
   "metadata": {
    "id": "U8_X71zIIb41"
   },
   "outputs": [],
   "source": [
    "# custom function to calculte MAPE\n",
    "def mape(pred, actual):\n",
    "  mape = 0\n",
    "  for (p, a) in zip(pred, actual):\n",
    "     mape += abs(p-a)/a\n",
    "  return mape/len(pred) "
   ]
  },
  {
   "cell_type": "code",
   "execution_count": 71,
   "metadata": {
    "colab": {
     "base_uri": "https://localhost:8080/"
    },
    "id": "YjtEL6esIb7P",
    "outputId": "85f5cbf2-9153-459f-9d31-30d802ce96cc"
   },
   "outputs": [
    {
     "data": {
      "text/plain": [
       "0.2755212753717375"
      ]
     },
     "execution_count": 71,
     "metadata": {},
     "output_type": "execute_result"
    }
   ],
   "source": [
    "# MAPE of val dataset\n",
    "mape(np.exp(pipe_fit_lr_pure.predict(df_valid_X_val)), np.exp(df_valid_y_val))"
   ]
  },
  {
   "cell_type": "code",
   "execution_count": 72,
   "metadata": {
    "colab": {
     "base_uri": "https://localhost:8080/"
    },
    "id": "9ZWMYOgMIb-R",
    "outputId": "5fbea4d3-3066-4091-da46-8a4855e5ce93"
   },
   "outputs": [
    {
     "data": {
      "text/plain": [
       "0.2907541316791375"
      ]
     },
     "execution_count": 72,
     "metadata": {},
     "output_type": "execute_result"
    }
   ],
   "source": [
    "# MAPE of Test dataset\n",
    "mape(np.exp(pipe_fit_lr_pure.predict(df_valid_X_test)), np.exp(df_valid_y_test))"
   ]
  },
  {
   "cell_type": "code",
   "execution_count": 73,
   "metadata": {
    "colab": {
     "base_uri": "https://localhost:8080/"
    },
    "id": "0PDpXfhuSDWK",
    "outputId": "7cfee734-d9e5-4856-c51b-1630031c5e98"
   },
   "outputs": [
    {
     "data": {
      "text/plain": [
       "array([ 1.45035657e-01,  3.63652207e-02,  1.41722120e-02,  2.49800181e-16,\n",
       "       -1.65446532e-02,  6.79130659e-03, -1.20960938e-02, -2.77555756e-17,\n",
       "        2.77984789e-02,  1.89619759e-02, -5.93332285e-04, -5.37764278e-17,\n",
       "        0.00000000e+00, -9.78750199e-03, -2.22545837e-03,  1.48633680e-02,\n",
       "        1.04407149e-02,  1.16447904e-01,  1.77182478e-02, -2.96485821e-03,\n",
       "       -3.60912603e-02,  7.02889398e-03, -4.41796843e-02,  1.62552517e-01,\n",
       "       -1.18372832e-01,  8.32167665e-01,  3.75128457e-07])"
      ]
     },
     "execution_count": 73,
     "metadata": {},
     "output_type": "execute_result"
    }
   ],
   "source": [
    "pipe_fit_lr_pure.named_steps['linearregression'].coef_"
   ]
  },
  {
   "cell_type": "code",
   "execution_count": 74,
   "metadata": {
    "id": "6iNHVsIyQAlB"
   },
   "outputs": [],
   "source": [
    "ohe_feature_names = preprocess.named_transformers_[\"onehotencoder\"].get_feature_names().tolist()\n",
    "te_feature_names = preprocess.named_transformers_[\"targetencoder\"].get_feature_names()\n",
    "feature_names = num_features + ohe_feature_names + te_feature_names "
   ]
  },
  {
   "cell_type": "code",
   "execution_count": 75,
   "metadata": {
    "colab": {
     "base_uri": "https://localhost:8080/",
     "height": 781
    },
    "id": "A4XtsIkGt7X7",
    "outputId": "f46d1c49-4cc7-442b-e37e-4646cf2176df"
   },
   "outputs": [
    {
     "data": {
      "image/png": "[encoded data removed]",
      "text/plain": [
       "<Figure size 864x576 with 1 Axes>"
      ]
     },
     "metadata": {
      "needs_background": "light"
     },
     "output_type": "display_data"
    }
   ],
   "source": [
    "### Your code here\n",
    "plt.figure(figsize=(12,8))\n",
    "ax = sns.barplot(x = feature_names, y = pipe_fit_lr_pure.named_steps['linearregression'].coef_, alpha=0.7)\n",
    "ax.tick_params(axis='x', rotation=90)\n",
    "ax.set_xlabel(\"variables\", fontsize = 12)\n",
    "plt.title(\"Coefficients of the Linear Regression Model\", fontsize=14)\n",
    "#plt.plot(X_test[:,[1]].reshape(20,), ridge_yhat, color = 'red')\n",
    "#sns.set_style('ticks')\n",
    "plt.show(fig)"
   ]
  },
  {
   "cell_type": "markdown",
   "metadata": {
    "id": "r5oVOVlpM2P8"
   },
   "source": [
    "### Decision Tree"
   ]
  },
  {
   "cell_type": "code",
   "execution_count": 76,
   "metadata": {
    "id": "Nni5-uGuNCoN"
   },
   "outputs": [],
   "source": [
    "from sklearn.tree import DecisionTreeRegressor"
   ]
  },
  {
   "cell_type": "code",
   "execution_count": 77,
   "metadata": {
    "id": "8rZDLxIbM33Y"
   },
   "outputs": [],
   "source": [
    "preprocess = make_column_transformer((StandardScaler(), num_features),\n",
    "                                      (OneHotEncoder(handle_unknown = \"ignore\"), ohe_features),\n",
    "                                      (TargetEncoder(handle_unknown = \"ignore\"), tar_enc_features),\n",
    "                                      remainder = 'passthrough'\n",
    "                                     )\n",
    "\n",
    "pipe_dt_pure = make_pipeline(preprocess, DecisionTreeRegressor())\n",
    "pipe_fit_dt_pure = pipe_dt_pure.fit(df_valid_X_train, df_valid_y_train)"
   ]
  },
  {
   "cell_type": "code",
   "execution_count": 78,
   "metadata": {
    "colab": {
     "base_uri": "https://localhost:8080/"
    },
    "id": "0R_F0ZTjNPZ1",
    "outputId": "3d0fb0f5-86af-4a95-e4ef-25af501de978"
   },
   "outputs": [
    {
     "data": {
      "text/plain": [
       "0.8312781427026517"
      ]
     },
     "execution_count": 78,
     "metadata": {},
     "output_type": "execute_result"
    }
   ],
   "source": [
    "pipe_fit_dt_pure.score(df_valid_X_val, df_valid_y_val)"
   ]
  },
  {
   "cell_type": "code",
   "execution_count": 79,
   "metadata": {
    "colab": {
     "base_uri": "https://localhost:8080/"
    },
    "id": "oPq04zVvNT_0",
    "outputId": "644279d5-92df-4486-b82f-9cf1a1eabc19"
   },
   "outputs": [
    {
     "data": {
      "text/plain": [
       "0.868699502291507"
      ]
     },
     "execution_count": 79,
     "metadata": {},
     "output_type": "execute_result"
    }
   ],
   "source": [
    "pipe_fit_dt_pure.score(df_valid_X_test, df_valid_y_test)"
   ]
  },
  {
   "cell_type": "code",
   "execution_count": 85,
   "metadata": {
    "colab": {
     "base_uri": "https://localhost:8080/"
    },
    "id": "LvO2naCINWNN",
    "outputId": "dba9ae3b-e75a-48b4-9f8d-8b6e0d6ab1be"
   },
   "outputs": [
    {
     "data": {
      "text/plain": [
       "0.24382303030141933"
      ]
     },
     "execution_count": 85,
     "metadata": {},
     "output_type": "execute_result"
    }
   ],
   "source": [
    "# MAPE of Val dataset\n",
    "mape(np.exp(pipe_fit_dt_pure.predict(df_valid_X_val)), np.exp(df_valid_y_val))"
   ]
  },
  {
   "cell_type": "code",
   "execution_count": 86,
   "metadata": {
    "colab": {
     "base_uri": "https://localhost:8080/"
    },
    "id": "TXj8eK9fNiZm",
    "outputId": "47ce63e1-13bb-43d3-a9c8-c752dc404a94"
   },
   "outputs": [
    {
     "data": {
      "text/plain": [
       "0.1956106683936638"
      ]
     },
     "execution_count": 86,
     "metadata": {},
     "output_type": "execute_result"
    }
   ],
   "source": [
    "# MAPE of Test dataset\n",
    "mape(np.exp(pipe_fit_dt_pure.predict(df_valid_X_test)), np.exp(df_valid_y_test))"
   ]
  },
  {
   "cell_type": "code",
   "execution_count": 84,
   "metadata": {
    "colab": {
     "base_uri": "https://localhost:8080/",
     "height": 436
    },
    "id": "FYHr-CEpNzm5",
    "outputId": "e8b95f3c-21b4-42c1-e135-cc9a91217774"
   },
   "outputs": [
    {
     "data": {
      "text/plain": [
       "Text(0, 0.5, 'Feature Importance')"
      ]
     },
     "execution_count": 84,
     "metadata": {},
     "output_type": "execute_result"
    },
    {
     "data": {
      "image/png": "[encoded data removed]",
      "text/plain": [
       "<Figure size 432x288 with 1 Axes>"
      ]
     },
     "metadata": {
      "needs_background": "light"
     },
     "output_type": "display_data"
    }
   ],
   "source": [
    "ohe_feature_names = preprocess.named_transformers_[\"onehotencoder\"].get_feature_names().tolist()\n",
    "te_feature_names = preprocess.named_transformers_[\"targetencoder\"].get_feature_names()\n",
    "feature_names = num_features + ohe_feature_names + te_feature_names \n",
    "\n",
    "feat_imps = zip(feature_names, pipe_fit_dt_pure.named_steps['decisiontreeregressor'].feature_importances_)\n",
    "feats, imps = zip(*(sorted(list(filter( lambda x : x[1]!=0 , feat_imps)), key = lambda x : x[1] , reverse=True)))\n",
    "ax = sns.barplot( list(feats)[:10], list(imps)[:10])\n",
    "ax.tick_params(axis='x', rotation = 90)\n",
    "plt.title(\"Top 10 Important Features\", fontsize=14)\n",
    "plt.xlabel(\"Variables\")\n",
    "plt.ylabel(\"Feature Importance\")"
   ]
  },
  {
   "cell_type": "markdown",
   "metadata": {
    "id": "qIfWkQXWzv-g"
   },
   "source": [
    "#### Elasticnet Regression with CV"
   ]
  },
  {
   "cell_type": "code",
   "execution_count": 87,
   "metadata": {
    "id": "RbUVwIwR0zeh"
   },
   "outputs": [],
   "source": [
    "# Dev and Test Split \n",
    "df_valid_X_dev, df_valid_X_test, df_valid_y_dev, df_valid_y_test = train_test_split(df_valid_X, df_valid_y, test_size=0.20, random_state=80)"
   ]
  },
  {
   "cell_type": "code",
   "execution_count": 88,
   "metadata": {
    "colab": {
     "base_uri": "https://localhost:8080/"
    },
    "id": "KNX7AlP0z3RX",
    "outputId": "a7f2939b-ee4c-494e-b0d8-86e823725901"
   },
   "outputs": [
    {
     "data": {
      "text/plain": [
       "{'alpha': array([0.01      , 0.06210526, 0.11421053, 0.16631579, 0.21842105,\n",
       "        0.27052632, 0.32263158, 0.37473684, 0.42684211, 0.47894737,\n",
       "        0.53105263, 0.58315789, 0.63526316, 0.68736842, 0.73947368,\n",
       "        0.79157895, 0.84368421, 0.89578947, 0.94789474, 1.        ]),\n",
       " 'l1_ratio': array([0.01      , 0.06210526, 0.11421053, 0.16631579, 0.21842105,\n",
       "        0.27052632, 0.32263158, 0.37473684, 0.42684211, 0.47894737,\n",
       "        0.53105263, 0.58315789, 0.63526316, 0.68736842, 0.73947368,\n",
       "        0.79157895, 0.84368421, 0.89578947, 0.94789474, 1.        ])}"
      ]
     },
     "execution_count": 88,
     "metadata": {},
     "output_type": "execute_result"
    }
   ],
   "source": [
    "param_grid = {\n",
    "              'alpha': np.linspace(0.01, 1, 20),\n",
    "              'l1_ratio':np.linspace(0.01, 1, 20)\n",
    "              }\n",
    "param_grid"
   ]
  },
  {
   "cell_type": "code",
   "execution_count": 89,
   "metadata": {
    "id": "sSUdZZUSETj_"
   },
   "outputs": [],
   "source": [
    "from sklearn.linear_model import ElasticNet\n",
    "from sklearn.ensemble import RandomForestRegressor\n",
    "from sklearn.ensemble import GradientBoostingRegressor\n",
    "from xgboost import XGBRegressor"
   ]
  },
  {
   "cell_type": "code",
   "execution_count": 90,
   "metadata": {
    "colab": {
     "base_uri": "https://localhost:8080/"
    },
    "id": "t4Qnja2xz3TV",
    "outputId": "d0839b3f-be43-4f6b-dbe6-8df00a3a861e"
   },
   "outputs": [
    {
     "name": "stdout",
     "output_type": "stream",
     "text": [
      "Best Score: 0.772610\n",
      "Best alpha: {'alpha': 0.01, 'l1_ratio': 0.16631578947368422}\n",
      "Performance on Test Dataset is: 0.748613\n"
     ]
    }
   ],
   "source": [
    "from sklearn.linear_model import ElasticNet\n",
    "\n",
    "pipe_lr = make_pipeline(preprocess,\n",
    "                    GridSearchCV(ElasticNet(random_state=80),\n",
    "                                param_grid = param_grid, cv = 10)\n",
    "                    )\n",
    "\n",
    "pipe_fit_lr = pipe_lr.fit(df_valid_X_dev, df_valid_y_dev)\n",
    "grid_search_results_lr = pipe_lr.named_steps[\"gridsearchcv\"]\n",
    "\n",
    "print(f\"Best Score: {grid_search_results_lr.best_score_ :3f}\")\n",
    "print(f\"Best alpha: {grid_search_results_lr.best_params_ }\")\n",
    "print(f\"Performance on Test Dataset is: {pipe_lr.score(df_valid_X_test, df_valid_y_test) :3f}\")\n",
    "best_tree = grid_search_results_lr.best_estimator_\n"
   ]
  },
  {
   "cell_type": "code",
   "execution_count": 91,
   "metadata": {
    "colab": {
     "base_uri": "https://localhost:8080/"
    },
    "id": "Fghpi-Wxz3Vc",
    "outputId": "98d423d7-dc5d-42be-aabe-03a20d559488"
   },
   "outputs": [
    {
     "data": {
      "text/plain": [
       "0.281544176736016"
      ]
     },
     "execution_count": 91,
     "metadata": {},
     "output_type": "execute_result"
    }
   ],
   "source": [
    "# MAPE of val dataset\n",
    "mape(np.exp(pipe_fit_lr.predict(df_valid_X_dev)), np.exp(df_valid_y_dev))"
   ]
  },
  {
   "cell_type": "code",
   "execution_count": 93,
   "metadata": {
    "colab": {
     "base_uri": "https://localhost:8080/"
    },
    "id": "TL9jAqtv2jYJ",
    "outputId": "d97dfcbd-19b9-4f45-9053-946cd3779a6c"
   },
   "outputs": [
    {
     "data": {
      "text/plain": [
       "0.2894109458146199"
      ]
     },
     "execution_count": 93,
     "metadata": {},
     "output_type": "execute_result"
    }
   ],
   "source": [
    "# MAPE of Test dataset\n",
    "mape(np.exp(pipe_fit_lr.predict(df_valid_X_test)), np.exp(df_valid_y_test))"
   ]
  },
  {
   "cell_type": "markdown",
   "metadata": {
    "id": "F9L6VLSDp8ec"
   },
   "source": [
    "#### Decision Tree with CV"
   ]
  },
  {
   "cell_type": "code",
   "execution_count": 94,
   "metadata": {
    "colab": {
     "base_uri": "https://localhost:8080/"
    },
    "id": "TmmMjuydqKua",
    "outputId": "1278f915-3586-414f-9e7c-32fc284f92bf"
   },
   "outputs": [
    {
     "data": {
      "text/plain": [
       "{'max_depth': array([6, 7, 8, 9]),\n",
       " 'max_features': ['auto', 'sqrt', 'log2'],\n",
       " 'ccp_alpha': array([0.        , 0.00157895, 0.00315789, 0.00473684, 0.00631579,\n",
       "        0.00789474, 0.00947368, 0.01105263, 0.01263158, 0.01421053,\n",
       "        0.01578947, 0.01736842, 0.01894737, 0.02052632, 0.02210526,\n",
       "        0.02368421, 0.02526316, 0.02684211, 0.02842105, 0.03      ])}"
      ]
     },
     "execution_count": 94,
     "metadata": {},
     "output_type": "execute_result"
    }
   ],
   "source": [
    "param_grid = {\n",
    "              'max_depth': np.arange(6,10,1),\n",
    "              'max_features':['auto', 'sqrt', 'log2'],\n",
    "              \"ccp_alpha\": np.linspace(0., 0.03, 20)\n",
    "              }\n",
    "param_grid"
   ]
  },
  {
   "cell_type": "code",
   "execution_count": null,
   "metadata": {
    "colab": {
     "base_uri": "https://localhost:8080/"
    },
    "id": "sK4F0sKxqByp",
    "outputId": "0a519e17-965d-4f3d-a7fd-1d14cdb1150c"
   },
   "outputs": [
    {
     "name": "stdout",
     "output_type": "stream",
     "text": [
      "Best Score: 0.835401\n",
      "Best alpha: {'ccp_alpha': 0.0, 'max_depth': 9, 'max_features': 'auto'}\n",
      "Performance on Test Dataset is: 0.817986\n"
     ]
    }
   ],
   "source": [
    "pipe_dt = make_pipeline(preprocess,\n",
    "                    GridSearchCV(DecisionTreeRegressor(random_state=80),\n",
    "                                param_grid = param_grid,\n",
    "                                return_train_score = True, cv = 10)\n",
    "                    )\n",
    "pipe_fit_dt = pipe_dt.fit(df_valid_X_dev, df_valid_y_dev)\n",
    "grid_search_results_dt = pipe_dt.named_steps[\"gridsearchcv\"]\n",
    "\n",
    "print(f\"Best Score: {grid_search_results_dt.best_score_ :3f}\")\n",
    "print(f\"Best alpha: {grid_search_results_dt.best_params_ }\")\n",
    "print(f\"Performance on Test Dataset is: {pipe_dt.score(df_valid_X_test, df_valid_y_test) :3f}\")\n",
    "best_tree = grid_search_results_dt.best_estimator_"
   ]
  },
  {
   "cell_type": "code",
   "execution_count": null,
   "metadata": {
    "colab": {
     "base_uri": "https://localhost:8080/"
    },
    "id": "2rWVufZjqB0c",
    "outputId": "bc3fff12-dbe9-4238-dc5d-f4c421ca67b5"
   },
   "outputs": [
    {
     "data": {
      "text/plain": [
       "0.18779478057657792"
      ]
     },
     "execution_count": 86,
     "metadata": {},
     "output_type": "execute_result"
    }
   ],
   "source": [
    "# MAPE of val dataset\n",
    "mape(np.exp(pipe_fit_dt.predict(df_valid_X_dev)), np.exp(df_valid_y_dev))"
   ]
  },
  {
   "cell_type": "code",
   "execution_count": null,
   "metadata": {
    "colab": {
     "base_uri": "https://localhost:8080/"
    },
    "id": "GcMwyffgqB2c",
    "outputId": "4b85569d-cd23-496f-879c-6bdb9941ca6c"
   },
   "outputs": [
    {
     "data": {
      "text/plain": [
       "0.24057386560180574"
      ]
     },
     "execution_count": 87,
     "metadata": {},
     "output_type": "execute_result"
    }
   ],
   "source": [
    "# MAPE of Test dataset\n",
    "mape(np.exp(pipe_fit_dt.predict(df_valid_X_test)), np.exp(df_valid_y_test))"
   ]
  },
  {
   "cell_type": "markdown",
   "metadata": {
    "id": "t9KR60WsgwlH"
   },
   "source": [
    "#### Random Forest"
   ]
  },
  {
   "cell_type": "code",
   "execution_count": null,
   "metadata": {
    "colab": {
     "base_uri": "https://localhost:8080/"
    },
    "id": "D1IsOfU4gvIU",
    "outputId": "a35edcca-ea80-4a61-a739-d2bd36091bdd"
   },
   "outputs": [
    {
     "data": {
      "text/plain": [
       "{'bootstrap': [True],\n",
       " 'max_features': ['auto', 'log2'],\n",
       " 'n_estimators': array([200, 300, 400]),\n",
       " 'max_depth': [6, 7, 8]}"
      ]
     },
     "execution_count": 88,
     "metadata": {},
     "output_type": "execute_result"
    }
   ],
   "source": [
    "from sklearn.ensemble import RandomForestRegressor\n",
    "\n",
    "param_grid = {'bootstrap': [True], \n",
    "              'max_features': ['auto', 'log2'],\n",
    "              'n_estimators': np.arange(200, 401, 100),\n",
    "              'max_depth': [6,7,8]\n",
    "              }\n",
    "param_grid"
   ]
  },
  {
   "cell_type": "code",
   "execution_count": null,
   "metadata": {
    "colab": {
     "base_uri": "https://localhost:8080/"
    },
    "id": "Klt7XcrwieoA",
    "outputId": "2ccade97-5a40-4c12-f200-540c4786d72d"
   },
   "outputs": [
    {
     "name": "stdout",
     "output_type": "stream",
     "text": [
      "Time taken for Model Selection of Random Forest is : 0:03:08.542835\n",
      "Best Score: 0.856311\n",
      "Best Parameters: {'bootstrap': True, 'max_depth': 8, 'max_features': 'auto', 'n_estimators': 200}\n",
      "Performance on Test Dataset is: 0.853223\n"
     ]
    }
   ],
   "source": [
    "pipe_rf = make_pipeline(preprocess,\n",
    "                    GridSearchCV(RandomForestRegressor(random_state=80, warm_start = True),\n",
    "                                     param_grid = param_grid\n",
    "                                     )\n",
    "                    )\n",
    "start_time_rf = time.monotonic()\n",
    "pipe_fit_rf = pipe_rf.fit(df_valid_X_dev, df_valid_y_dev)\n",
    "end_time_rf = time.monotonic()\n",
    "\n",
    "print(f\"Time taken for Model Selection of Random Forest is : {timedelta(seconds=end_time_rf - start_time_rf)}\")\n",
    "\n",
    "grid_search_results_rf = pipe_fit_rf.named_steps[\"gridsearchcv\"]\n",
    "print(f\"Best Score: {grid_search_results_rf.best_score_ :3f}\")\n",
    "print(f\"Best Parameters: {grid_search_results_rf.best_params_ }\")\n",
    "print(f\"Performance on Test Dataset is: {pipe_rf.score(df_valid_X_test, df_valid_y_test) :3f}\")"
   ]
  },
  {
   "cell_type": "code",
   "execution_count": null,
   "metadata": {
    "colab": {
     "base_uri": "https://localhost:8080/"
    },
    "id": "ZPNU-gUJiZON",
    "outputId": "c468115d-0b5e-4139-ccc8-cef298527154"
   },
   "outputs": [
    {
     "data": {
      "text/plain": [
       "0.19303114398801488"
      ]
     },
     "execution_count": 90,
     "metadata": {},
     "output_type": "execute_result"
    }
   ],
   "source": [
    "# MAPE of val dataset\n",
    "mape(np.exp(pipe_fit_rf.predict(df_valid_X_dev)), np.exp(df_valid_y_dev))"
   ]
  },
  {
   "cell_type": "code",
   "execution_count": null,
   "metadata": {
    "colab": {
     "base_uri": "https://localhost:8080/"
    },
    "id": "8ip2QpqYkkED",
    "outputId": "73dec57f-38bb-4f5b-a308-944fa6de066d"
   },
   "outputs": [
    {
     "data": {
      "text/plain": [
       "0.21725484943812676"
      ]
     },
     "execution_count": 91,
     "metadata": {},
     "output_type": "execute_result"
    }
   ],
   "source": [
    "# MAPE of Test dataset\n",
    "mape(np.exp(pipe_fit_rf.predict(df_valid_X_test)), np.exp(df_valid_y_test))"
   ]
  },
  {
   "cell_type": "markdown",
   "metadata": {
    "id": "2wiMFijdk284"
   },
   "source": [
    "####GBM"
   ]
  },
  {
   "cell_type": "code",
   "execution_count": null,
   "metadata": {
    "id": "zmvpWv1ak16X"
   },
   "outputs": [],
   "source": [
    "from sklearn.ensemble import GradientBoostingRegressor\n",
    "\n",
    "param_grid = {\n",
    "              'n_estimators': np.arange(100, 250, 50),\n",
    "              'max_depth': [6,7,8],\n",
    "              'learning_rate' : [.01, .1, .2]\n",
    "              }"
   ]
  },
  {
   "cell_type": "code",
   "execution_count": null,
   "metadata": {
    "colab": {
     "base_uri": "https://localhost:8080/"
    },
    "id": "sQD-dQ1IlMs8",
    "outputId": "fc363770-786b-47d9-ea04-f833155e73ea"
   },
   "outputs": [
    {
     "name": "stdout",
     "output_type": "stream",
     "text": [
      "Time taken for Model Selection of Gradient Boosting Classifier is : 0:02:49.637310\n"
     ]
    }
   ],
   "source": [
    "\n",
    "pipe_gbm = make_pipeline(preprocess,\n",
    "                    RandomizedSearchCV( GradientBoostingRegressor (random_state=80, warm_start = True),\n",
    "                                     param_distributions = param_grid, n_jobs = -1, cv = 10\n",
    "                                     )\n",
    "                    )\n",
    "\n",
    "start_time_gbm = time.monotonic()\n",
    "pipe_fit_gbm = pipe_gbm.fit(df_valid_X_dev, df_valid_y_dev)\n",
    "end_time_gbm = time.monotonic()\n",
    "\n",
    "print(f\"Time taken for Model Selection of Gradient Boosting Classifier is : {timedelta(seconds=end_time_gbm - start_time_gbm)}\") "
   ]
  },
  {
   "cell_type": "code",
   "execution_count": null,
   "metadata": {
    "colab": {
     "base_uri": "https://localhost:8080/"
    },
    "id": "_o5UMD8NlMvB",
    "outputId": "38db7e33-f76d-4db3-f07f-49518baf31f1"
   },
   "outputs": [
    {
     "name": "stdout",
     "output_type": "stream",
     "text": [
      "Best Score: 0.930564\n",
      "Best Parameters: {'n_estimators': 150, 'max_depth': 7, 'learning_rate': 0.1}\n",
      "Performance on Test Dataset is: 0.919373\n"
     ]
    }
   ],
   "source": [
    "rand_search_results_gbm = pipe_fit_gbm.named_steps[\"randomizedsearchcv\"]\n",
    "print(f\"Best Score: {rand_search_results_gbm.best_score_ :3f}\")\n",
    "print(f\"Best Parameters: {rand_search_results_gbm.best_params_ }\")\n",
    "print(f\"Performance on Test Dataset is: {pipe_gbm.score(df_valid_X_test, df_valid_y_test) :3f}\")"
   ]
  },
  {
   "cell_type": "code",
   "execution_count": null,
   "metadata": {
    "colab": {
     "base_uri": "https://localhost:8080/"
    },
    "id": "BihyEIy-lMxR",
    "outputId": "dda0e587-3b34-4725-f392-4988933e66ec"
   },
   "outputs": [
    {
     "data": {
      "text/plain": [
       "0.07070787827197648"
      ]
     },
     "execution_count": 95,
     "metadata": {},
     "output_type": "execute_result"
    }
   ],
   "source": [
    "# MAPE of val dataset\n",
    "mape(np.exp(pipe_fit_gbm.predict(df_valid_X_dev)), np.exp(df_valid_y_dev))"
   ]
  },
  {
   "cell_type": "code",
   "execution_count": null,
   "metadata": {
    "colab": {
     "base_uri": "https://localhost:8080/"
    },
    "id": "12xH1Bj2k2La",
    "outputId": "fa347121-20e4-454f-d6f0-9bf163e32b6a"
   },
   "outputs": [
    {
     "data": {
      "text/plain": [
       "0.15305085660860962"
      ]
     },
     "execution_count": 96,
     "metadata": {},
     "output_type": "execute_result"
    }
   ],
   "source": [
    "# MAPE of Test dataset\n",
    "mape(np.exp(pipe_fit_gbm.predict(df_valid_X_test)), np.exp(df_valid_y_test))"
   ]
  },
  {
   "cell_type": "markdown",
   "metadata": {
    "id": "Mpwvr0AvKmaV"
   },
   "source": [
    "#### XGBoost"
   ]
  },
  {
   "cell_type": "code",
   "execution_count": null,
   "metadata": {
    "id": "GzwSGrc8Klxw"
   },
   "outputs": [],
   "source": [
    "from xgboost import XGBRegressor\n",
    "param_grid = {\n",
    "              'n_estimators': np.arange(100, 451, 50),\n",
    "              'max_depth': [5, 7, 8],\n",
    "              'learning_rate' : [.01, .1, .2]\n",
    "              }"
   ]
  },
  {
   "cell_type": "code",
   "execution_count": null,
   "metadata": {
    "colab": {
     "base_uri": "https://localhost:8080/"
    },
    "id": "t_xxGGQAML8l",
    "outputId": "ca59cfb7-b6d6-4c96-925f-32844c9f9efb"
   },
   "outputs": [
    {
     "name": "stdout",
     "output_type": "stream",
     "text": [
      "[20:05:42] WARNING: /workspace/src/objective/regression_obj.cu:152: reg:linear is now deprecated in favor of reg:squarederror.\n"
     ]
    }
   ],
   "source": [
    "pipe_xgb = make_pipeline(preprocess,\n",
    "                    RandomizedSearchCV( XGBRegressor (random_state=80, warm_start = True),\n",
    "                                     param_distributions = param_grid, cv = 10, n_jobs = -1\n",
    "                                     )\n",
    "                    )\n",
    "start_time_xgb = time.monotonic()\n",
    "pipe_fit_xgb = pipe_xgb.fit(df_valid_X_dev, df_valid_y_dev)\n",
    "end_time_xgb = time.monotonic()"
   ]
  },
  {
   "cell_type": "code",
   "execution_count": null,
   "metadata": {
    "colab": {
     "base_uri": "https://localhost:8080/"
    },
    "id": "epU0-DmfMXyA",
    "outputId": "88c761aa-888c-4692-d80b-ee324cd9cd61"
   },
   "outputs": [
    {
     "name": "stdout",
     "output_type": "stream",
     "text": [
      "Best Score: 0.932951\n",
      "Best Parameters: {'n_estimators': 300, 'max_depth': 8, 'learning_rate': 0.1}\n",
      "Performance on Test Dataset is: 0.935966\n"
     ]
    }
   ],
   "source": [
    "random_search_results_xgb = pipe_fit_xgb.named_steps[\"randomizedsearchcv\"]\n",
    "\n",
    "print(f\"Best Score: {random_search_results_xgb.best_score_ :3f}\")\n",
    "print(f\"Best Parameters: {random_search_results_xgb.best_params_ }\")\n",
    "print(f\"Performance on Test Dataset is: {pipe_xgb.score(df_valid_X_test, df_valid_y_test) :3f}\")"
   ]
  },
  {
   "cell_type": "code",
   "execution_count": null,
   "metadata": {
    "colab": {
     "base_uri": "https://localhost:8080/"
    },
    "id": "ZDE6Q0DTMX2z",
    "outputId": "a39fa364-e582-47ba-861a-a01a8051b7d5"
   },
   "outputs": [
    {
     "data": {
      "text/plain": [
       "0.038472991553268436"
      ]
     },
     "execution_count": 78,
     "metadata": {},
     "output_type": "execute_result"
    }
   ],
   "source": [
    "# MAPE of val dataset\n",
    "mape(np.exp(pipe_xgb.predict(df_valid_X_dev)), np.exp(df_valid_y_dev))"
   ]
  },
  {
   "cell_type": "code",
   "execution_count": null,
   "metadata": {
    "colab": {
     "base_uri": "https://localhost:8080/"
    },
    "id": "7mH0-wAHMhkw",
    "outputId": "35e4f6ab-63bb-49f0-88b6-560d69ac589a"
   },
   "outputs": [
    {
     "data": {
      "text/plain": [
       "0.13567143894105219"
      ]
     },
     "execution_count": 79,
     "metadata": {},
     "output_type": "execute_result"
    }
   ],
   "source": [
    "# MAPE of Test dataset\n",
    "mape(np.exp(pipe_xgb.predict(df_valid_X_test)), np.exp(df_valid_y_test))"
   ]
  },
  {
   "cell_type": "markdown",
   "metadata": {
    "id": "_GLUCHJ-RUs_"
   },
   "source": [
    "### Iterations and Testing\n"
   ]
  },
  {
   "cell_type": "code",
   "execution_count": null,
   "metadata": {
    "id": "wk1XZqicRbWR"
   },
   "outputs": [],
   "source": [
    "num_features = [\n",
    "'site_weight',\n",
    "'year',  \n",
    "'priv_count', \n",
    "#'mcare_pay_median',\n",
    "'ownership_FEDERAL_median','ownership_HOSPITAL DISTRICT OR AUTHORITY_median','ownership_LOCAL_median', 'ownership_OTHER (SPECIFY)_median',\n",
    "'ownership_PHYSICIAN OWNERSHIP_median', 'ownership_PRIVATE (FOR PROFIT)_median', 'ownership_PRIVATE (NOT FOR PROFIT)_median', 'ownership_STATE_median',\n",
    "'ownership_TRIBAL_median', 'urban_rural_URBAN_median',\n",
    "'teaching_YES_median',\n",
    "'hospital_count', \n",
    "'avg_income_2020',\n",
    "'population_estimate_2020', \n",
    "'Life Expectancy', \n",
    "'harvesine_distance',\n",
    "'Covid_payment_median', \n",
    "'beds_grp_median','beds_grp_greater_500_median'\n",
    "]\n",
    "\n",
    "ohe_features = ['site']\n",
    "tar_enc_features = ['group', 'msa']"
   ]
  },
  {
   "cell_type": "code",
   "execution_count": null,
   "metadata": {
    "id": "mPPDn__8RbYV"
   },
   "outputs": [],
   "source": [
    "preprocess = make_column_transformer((StandardScaler(), num_features),\n",
    "                                      (OneHotEncoder(handle_unknown = \"ignore\"), ohe_features),\n",
    "                                      (TargetEncoder(handle_unknown = \"ignore\"), tar_enc_features),\n",
    "                                      remainder = 'passthrough'\n",
    "                                     )"
   ]
  },
  {
   "cell_type": "code",
   "execution_count": null,
   "metadata": {
    "id": "-wDWc11QWtRz"
   },
   "outputs": [],
   "source": [
    "def get_mean(lst):\n",
    "    return sum(lst) / len(lst)"
   ]
  },
  {
   "cell_type": "markdown",
   "metadata": {
    "id": "w5bhAN5sy9xt"
   },
   "source": [
    "### Iteration with CV"
   ]
  },
  {
   "cell_type": "code",
   "execution_count": null,
   "metadata": {
    "id": "KK5tE7aWzFbj"
   },
   "outputs": [],
   "source": [
    "lr_dev_r2, lr_test_r2, lr_dev_mape, lr_test_mape = [],[],[], []\n",
    "\n",
    "dt_dev_r2, dt_test_r2, dt_dev_mape, dt_test_mape = [],[],[], []\n",
    "\n",
    "rf_dev_r2, rf_test_r2, rf_dev_mape, rf_test_mape = [],[],[], []\n",
    "\n",
    "gbm_dev_r2, gbm_test_r2, gbm_dev_mape, gbm_test_mape = [],[],[], []\n",
    "\n",
    "xgb_dev_r2, xgb_test_r2, xgb_dev_mape, xgb_test_mape = [],[],[], []\n"
   ]
  },
  {
   "cell_type": "code",
   "execution_count": null,
   "metadata": {
    "colab": {
     "base_uri": "https://localhost:8080/"
    },
    "id": "UbNMiNJMzAPA",
    "outputId": "246ce502-68bc-4287-c027-75065c5c57eb"
   },
   "outputs": [
    {
     "name": "stdout",
     "output_type": "stream",
     "text": [
      "[02:03:39] WARNING: /workspace/src/objective/regression_obj.cu:152: reg:linear is now deprecated in favor of reg:squarederror.\n",
      "Finished 1 iteration\n",
      "[02:04:33] WARNING: /workspace/src/objective/regression_obj.cu:152: reg:linear is now deprecated in favor of reg:squarederror.\n",
      "Finished 2 iteration\n",
      "[02:05:44] WARNING: /workspace/src/objective/regression_obj.cu:152: reg:linear is now deprecated in favor of reg:squarederror.\n",
      "Finished 3 iteration\n",
      "[02:06:37] WARNING: /workspace/src/objective/regression_obj.cu:152: reg:linear is now deprecated in favor of reg:squarederror.\n",
      "Finished 4 iteration\n",
      "[02:07:31] WARNING: /workspace/src/objective/regression_obj.cu:152: reg:linear is now deprecated in favor of reg:squarederror.\n",
      "Finished 5 iteration\n",
      "[02:08:25] WARNING: /workspace/src/objective/regression_obj.cu:152: reg:linear is now deprecated in favor of reg:squarederror.\n",
      "Finished 6 iteration\n",
      "[02:09:18] WARNING: /workspace/src/objective/regression_obj.cu:152: reg:linear is now deprecated in favor of reg:squarederror.\n"
     ]
    }
   ],
   "source": [
    "iters = 9\n",
    "\n",
    "for i in range(1, iters + 1):\n",
    "  df_valid_X_dev, df_valid_X_test, df_valid_y_dev, df_valid_y_test = train_test_split(df_valid_X, df_valid_y, test_size= 0.35, random_state= i)\n",
    " \n",
    "  ####### ElasticNet with CV\n",
    "\n",
    "  param_grid = {\n",
    "              'alpha': [0.01],\n",
    "              'l1_ratio': [0.21842105263157896]\n",
    "              }\n",
    "\n",
    "\n",
    "  pipe_lr = make_pipeline(preprocess,\n",
    "                    GridSearchCV(ElasticNet(random_state=80, alpha=0.01, l1_ratio = 0.21842105263157896),\n",
    "                                 param_grid = param_grid , cv = 10)\n",
    "                    )\n",
    "  \n",
    "  pipe_fit_lr = pipe_lr.fit(df_valid_X_dev, df_valid_y_dev)\n",
    "  grid_search_results_lr = pipe_lr.named_steps[\"gridsearchcv\"]\n",
    "\n",
    "  lr_dev_r2.append(pipe_fit_lr.score(df_valid_X_dev, df_valid_y_dev))\n",
    "  lr_test_r2.append(pipe_fit_lr.score(df_valid_X_test, df_valid_y_test))\n",
    "\n",
    "  lr_dev_mape.append(mape(np.exp(pipe_fit_lr.predict(df_valid_X_dev)), np.exp(df_valid_y_dev)))\n",
    "  lr_test_mape.append(mape(np.exp(pipe_fit_lr.predict(df_valid_X_test)), np.exp(df_valid_y_test)))\n",
    "\n",
    "  ######## Decision tree with CV\n",
    "\n",
    "  param_grid = {\n",
    "              'max_depth': [8],\n",
    "              'max_features':['auto'],\n",
    "              \"ccp_alpha\": [0]\n",
    "  }\n",
    "  pipe_dt = make_pipeline(preprocess,\n",
    "                    GridSearchCV(DecisionTreeRegressor(random_state=80),\n",
    "                                param_grid = param_grid,\n",
    "                                return_train_score = True, cv = 10)\n",
    "                    )\n",
    "  pipe_fit_dt = pipe_dt.fit(df_valid_X_dev, df_valid_y_dev)\n",
    "  grid_search_results_dt = pipe_dt.named_steps[\"gridsearchcv\"]\n",
    "\n",
    "  dt_dev_r2.append(pipe_fit_dt.score(df_valid_X_dev, df_valid_y_dev))\n",
    "  dt_test_r2.append(pipe_fit_dt.score(df_valid_X_test, df_valid_y_test))\n",
    "\n",
    "  dt_dev_mape.append(mape(np.exp(pipe_fit_dt.predict(df_valid_X_dev)), np.exp(df_valid_y_dev)))\n",
    "  dt_test_mape.append(mape(np.exp(pipe_fit_dt.predict(df_valid_X_test)), np.exp(df_valid_y_test)))\n",
    "\n",
    "\n",
    "  ######## Random Forest tree with CV\n",
    "\n",
    "  param_grid = {'bootstrap': [True], \n",
    "              'max_features': ['auto'],\n",
    "              'n_estimators': [200],\n",
    "              'max_depth': [8]\n",
    "              }\n",
    "\n",
    "  pipe_rf = make_pipeline(preprocess,\n",
    "                    GridSearchCV(RandomForestRegressor(random_state=80, warm_start = True),\n",
    "                                     param_grid = param_grid\n",
    "                                     )\n",
    "                    )\n",
    "  pipe_fit_rf = pipe_rf.fit(df_valid_X_dev, df_valid_y_dev)\n",
    "  grid_search_results_rf = pipe_fit_rf.named_steps[\"gridsearchcv\"]\n",
    "\n",
    "\n",
    "  rf_dev_r2.append(pipe_fit_rf.score(df_valid_X_dev, df_valid_y_dev))\n",
    "  rf_test_r2.append(pipe_fit_rf.score(df_valid_X_test, df_valid_y_test))\n",
    "\n",
    "  rf_dev_mape.append(mape(np.exp(pipe_fit_rf.predict(df_valid_X_dev)), np.exp(df_valid_y_dev)))\n",
    "  rf_test_mape.append(mape(np.exp(pipe_fit_rf.predict(df_valid_X_test)), np.exp(df_valid_y_test)))\n",
    "\n",
    "\n",
    "  ######## gbm tree with CV\n",
    "\n",
    "  param_grid = {\n",
    "              'n_estimators': [200],\n",
    "              'max_depth': [7],\n",
    "              'learning_rate' : [.01]\n",
    "              }\n",
    "\n",
    "  pipe_gbm = make_pipeline(preprocess,\n",
    "                    GridSearchCV( GradientBoostingRegressor (random_state=80, warm_start = True),\n",
    "                                     param_grid = param_grid, n_jobs = -1, cv = 10\n",
    "                                     )\n",
    "                    )\n",
    "  \n",
    "  pipe_fit_gbm = pipe_gbm.fit(df_valid_X_dev, df_valid_y_dev)\n",
    "  rand_search_results_gbm = pipe_fit_gbm.named_steps[\"gridsearchcv\"]\n",
    "\n",
    "\n",
    "  gbm_dev_r2.append(pipe_fit_gbm.score(df_valid_X_dev, df_valid_y_dev))\n",
    "  gbm_test_r2.append(pipe_fit_gbm.score(df_valid_X_test, df_valid_y_test))\n",
    "\n",
    "  gbm_dev_mape.append(mape(np.exp(pipe_fit_gbm.predict(df_valid_X_dev)), np.exp(df_valid_y_dev)))\n",
    "  gbm_test_mape.append(mape(np.exp(pipe_fit_gbm.predict(df_valid_X_test)), np.exp(df_valid_y_test)))\n",
    "\n",
    "\n",
    "  ###### XGB\n",
    "  from xgboost import XGBRegressor\n",
    "  param_grid = {\n",
    "              'n_estimators': [300],\n",
    "              'max_depth': [8],\n",
    "              'learning_rate' : [.1]\n",
    "              }\n",
    "\n",
    "  pipe_xgb = make_pipeline(preprocess,\n",
    "                    GridSearchCV( XGBRegressor (random_state=80, warm_start = True),\n",
    "                                     param_grid = param_grid, cv = 10, n_jobs = -1\n",
    "                                     )\n",
    "                    )\n",
    "  \n",
    "  pipe_fit_xgb = pipe_xgb.fit(df_valid_X_dev, df_valid_y_dev)\n",
    "  rand_search_results_xgb = pipe_fit_xgb.named_steps[\"gridsearchcv\"]\n",
    "\n",
    "  xgb_dev_r2.append(pipe_xgb.score(df_valid_X_dev, df_valid_y_dev))\n",
    "  xgb_test_r2.append(pipe_xgb.score(df_valid_X_test, df_valid_y_test))\n",
    "\n",
    "  xgb_dev_mape.append(mape(np.exp(pipe_xgb.predict(df_valid_X_dev)), np.exp(df_valid_y_dev)))\n",
    "  xgb_test_mape.append(mape(np.exp(pipe_xgb.predict(df_valid_X_test)), np.exp(df_valid_y_test)))\n",
    "\n",
    "  print('Finished {} iteration'.format(i))\n",
    "\n",
    "\n"
   ]
  },
  {
   "cell_type": "code",
   "execution_count": null,
   "metadata": {
    "colab": {
     "base_uri": "https://localhost:8080/"
    },
    "id": "sscG_eeTBCXC",
    "outputId": "37d43c3c-6858-46f0-c5d8-971a7ac6a718"
   },
   "outputs": [
    {
     "name": "stdout",
     "output_type": "stream",
     "text": [
      "Logistic Regression: R2 on Dev Dataset after 9 iterations is 0.7679981073424892 - \n",
      "Logistic Regression: R2 on Val Dataset after 9 iterations is 0.7643689028407583 - \n",
      "Logistic Regression: MAPE on Dev Dataset after 9 iterations is 0.2830946200097279 - \n",
      "Logistic Regression: MAPE on Val Dataset after 9 iterations is 0.28880812863404354 - \n"
     ]
    }
   ],
   "source": [
    "print('Logistic Regression: R2 on Dev Dataset after {} iterations is {} - '.format(iters,get_mean(lr_dev_r2)))\n",
    "print('Logistic Regression: R2 on Val Dataset after {} iterations is {} - '.format(iters,get_mean(lr_test_r2)))\n",
    "print('Logistic Regression: MAPE on Dev Dataset after {} iterations is {} - '.format(iters,get_mean(lr_dev_mape)))\n",
    "print('Logistic Regression: MAPE on Val Dataset after {} iterations is {} - '.format(iters,get_mean(lr_test_mape)))"
   ]
  },
  {
   "cell_type": "code",
   "execution_count": null,
   "metadata": {
    "colab": {
     "base_uri": "https://localhost:8080/"
    },
    "id": "jFha9FsIBCY6",
    "outputId": "8b451772-9d2c-4c47-9ed5-f580036b5dfc"
   },
   "outputs": [
    {
     "name": "stdout",
     "output_type": "stream",
     "text": [
      "Decision Tree: R2 on Dev Dataset after 9 iterations is 0.862288056491621 - \n",
      "Decision Tree: R2 on Val Dataset after 9 iterations is 0.8206366251867282 - \n",
      "Decision Tree: MAPE on Dev Dataset after 9 iterations is 0.20675316043062353 - \n",
      "Decision Tree: MAPE on Val Dataset after 9 iterations is 0.24434960247283596 - \n"
     ]
    }
   ],
   "source": [
    "print('Decision Tree: R2 on Dev Dataset after {} iterations is {} - '.format(iters,get_mean(dt_dev_r2)))\n",
    "print('Decision Tree: R2 on Val Dataset after {} iterations is {} - '.format(iters,get_mean(dt_test_r2)))\n",
    "print('Decision Tree: MAPE on Dev Dataset after {} iterations is {} - '.format(iters,get_mean(dt_dev_mape)))\n",
    "print('Decision Tree: MAPE on Val Dataset after {} iterations is {} - '.format(iters,get_mean(dt_test_mape)))"
   ]
  },
  {
   "cell_type": "code",
   "execution_count": null,
   "metadata": {
    "colab": {
     "base_uri": "https://localhost:8080/"
    },
    "id": "PsmZgOLRBCaz",
    "outputId": "3e9950ac-abf3-4abe-c206-270a275b3d7a"
   },
   "outputs": [
    {
     "name": "stdout",
     "output_type": "stream",
     "text": [
      "Random Forest: R2 on Dev Dataset after 9 iterations is 0.8846562977411344 - \n",
      "Random Forest: R2 on Val Dataset after 9 iterations is 0.8513127696917284 - \n",
      "Random Forest: MAPE on Dev Dataset after 9 iterations is 0.1914960893033147 - \n",
      "Random Forest: MAPE on Val Dataset after 9 iterations is 0.22262105710774321 - \n"
     ]
    }
   ],
   "source": [
    "print('Random Forest: R2 on Dev Dataset after {} iterations is {} - '.format(iters,get_mean(rf_dev_r2)))\n",
    "print('Random Forest: R2 on Val Dataset after {} iterations is {} - '.format(iters,get_mean(rf_test_r2)))\n",
    "print('Random Forest: MAPE on Dev Dataset after {} iterations is {} - '.format(iters,get_mean(rf_dev_mape)))\n",
    "print('Random Forest: MAPE on Val Dataset after {} iterations is {} - '.format(iters,get_mean(rf_test_mape)))"
   ]
  },
  {
   "cell_type": "code",
   "execution_count": null,
   "metadata": {
    "colab": {
     "base_uri": "https://localhost:8080/"
    },
    "id": "iXyjPRyNBCdC",
    "outputId": "909323be-f6e0-4702-ee1a-9a4b9bd2353a"
   },
   "outputs": [
    {
     "name": "stdout",
     "output_type": "stream",
     "text": [
      "Gradient Boosting: R2 on Dev Dataset after 9 iterations is 0.8892032973568686 - \n",
      "Gradient Boosting: R2 on Val Dataset after 9 iterations is 0.8516208565342502 - \n",
      "Gradient Boosting: MAPE on Dev Dataset after 9 iterations is 0.19561634935645217 - \n",
      "Gradient Boosting: MAPE on Val Dataset after 9 iterations is 0.2279591321482996 - \n"
     ]
    }
   ],
   "source": [
    "print('Gradient Boosting: R2 on Dev Dataset after {} iterations is {} - '.format(iters,get_mean(gbm_dev_r2)))\n",
    "print('Gradient Boosting: R2 on Val Dataset after {} iterations is {} - '.format(iters,get_mean(gbm_test_r2)))\n",
    "print('Gradient Boosting: MAPE on Dev Dataset after {} iterations is {} - '.format(iters,get_mean(gbm_dev_mape)))\n",
    "print('Gradient Boosting: MAPE on Val Dataset after {} iterations is {} - '.format(iters,get_mean(gbm_test_mape)))"
   ]
  },
  {
   "cell_type": "code",
   "execution_count": null,
   "metadata": {
    "colab": {
     "base_uri": "https://localhost:8080/"
    },
    "id": "dLBa-Y6QU1Yn",
    "outputId": "c78ff65e-21b2-4b2e-9c4c-f353e9a22247"
   },
   "outputs": [
    {
     "name": "stdout",
     "output_type": "stream",
     "text": [
      "XGBoost: R2 on Dev Dataset after 9 iterations is 0.9962940483276359 - \n",
      "XGBoost: R2 on Val Dataset after 9 iterations is 0.925822677490757 - \n",
      "XGBoost: MAPE on Dev Dataset after 9 iterations is 0.03147558380864904 - \n",
      "XGBoost: MAPE on Val Dataset after 9 iterations is 0.14764724432625562 - \n"
     ]
    }
   ],
   "source": [
    "print('XGBoost: R2 on Dev Dataset after {} iterations is {} - '.format(iters,get_mean(xgb_dev_r2)))\n",
    "print('XGBoost: R2 on Val Dataset after {} iterations is {} - '.format(iters,get_mean(xgb_test_r2)))\n",
    "print('XGBoost: MAPE on Dev Dataset after {} iterations is {} - '.format(iters,get_mean(xgb_dev_mape)))\n",
    "print('XGBoost: MAPE on Val Dataset after {} iterations is {} - '.format(iters,get_mean(xgb_test_mape)))"
   ]
  },
  {
   "cell_type": "markdown",
   "metadata": {
    "id": "RN1GnEEBubAS"
   },
   "source": [
    "### Procedure wise MAPE"
   ]
  },
  {
   "cell_type": "code",
   "execution_count": null,
   "metadata": {
    "id": "pGD5p9_c36PS"
   },
   "outputs": [],
   "source": [
    "# making predictions on dataset for all models\n",
    "df_valid_out = df_valid.copy()\n",
    "\n",
    "df_valid_out['gbm_pred'] = pipe_fit_gbm.predict(df_valid_out[all_features])\n",
    "df_valid_out['rf_pred'] = pipe_fit_rf.predict(df_valid_out[all_features])\n",
    "df_valid_out['lr_pred'] = pipe_fit_lr.predict(df_valid_out[all_features])\n",
    "df_valid_out['dt_pred'] = pipe_fit_dt.predict(df_valid_out[all_features])\n",
    "df_valid_out['xgb_pred'] = pipe_fit_xgb.predict(df_valid_out[all_features])"
   ]
  },
  {
   "cell_type": "code",
   "execution_count": 95,
   "metadata": {
    "id": "xi2Td1aKZ_s4"
   },
   "outputs": [],
   "source": [
    "def get_category_mape(df, var, pred, actual):\n",
    "\n",
    "  out = {}\n",
    "\n",
    "  for grp in df[var].unique():\n",
    "    temp = df[df[var] == grp]\n",
    "    out[grp] = mape(np.exp(temp[pred]), np.exp(temp[actual]))\n",
    "\n",
    "  return out"
   ]
  },
  {
   "cell_type": "code",
   "execution_count": null,
   "metadata": {
    "colab": {
     "base_uri": "https://localhost:8080/"
    },
    "id": "mRcVjjQibaeS",
    "outputId": "cd3004d3-f37d-4ced-f07a-f8f3e20e5cda"
   },
   "outputs": [
    {
     "data": {
      "text/plain": [
       "{'breast reconstruction': 0.10020468079620345,\n",
       " 'mastectomy': 0.10381099852886932,\n",
       " 'navigation': 0.10205795343514185,\n",
       " 'ant_cerv_fusion': 0.10826932476979777,\n",
       " 'ant_tls_fusion': 0.03956770584211823,\n",
       " 'post_cerv_fusion': 0.06568114535548597,\n",
       " 'post_tls_fusion': 0.056258886534729206,\n",
       " 'rtc_slap_bank': 0.08545973383853817,\n",
       " 'tsa': 0.05247917251153709,\n",
       " 'clavicle fixation': 0.13266030889148872,\n",
       " 'proximal humerus': 0.12721854539329486,\n",
       " 'radius/ulna internal fixation': 0.09618624634685412,\n",
       " 'tha': 0.059571724422707736,\n",
       " 'hip_fracture_fixation': 0.03474049107024881,\n",
       " 'tka': 0.07031253154240316,\n",
       " 'prox_tibia_fixation': 0.03854900286533893,\n",
       " 'ankle_fix': 0.12183260134435975,\n",
       " 'bunionectomy': 0.0901920175962828,\n",
       " 'pnn': 0.235809840048189,\n",
       " 'fess': 0.09284571034013314,\n",
       " 'septoplasty': 0.08790614324930186,\n",
       " 'bsp': 0.14459742645117632,\n",
       " 'thoracic': 0.09539446657828937,\n",
       " 'bariatric': 0.07640075264895685,\n",
       " 'colorect': 0.09959860787454083,\n",
       " 'lap appendectomy': 0.07588108997735318,\n",
       " 'hepat': 0.1373432760915112,\n",
       " 'hernia': 0.1047991209922853,\n",
       " 'hysterect': 0.0818152960687303,\n",
       " 'cardiac ablation': 0.06814031559813576,\n",
       " 'cardiac ablation_additional_discrete': 0.07926781981326363,\n",
       " 'cardiac ablation_linear_focal': 0.08924723572339548,\n",
       " 'cardiac_ablaton_ice': 0.07585664766965053,\n",
       " 'cardiac_ablaton_anesthesia': 0.06990638419551067,\n",
       " 'tpa': 0.08965494055957206,\n",
       " 'orthovisc_monovisc': 0.2050341706655942,\n",
       " 'robotic_assisted_surgery': 0.12108551225285387,\n",
       " 'pka': 0.109929493390718,\n",
       " 'prostatectomy': 0.0927182243485988}"
      ]
     },
     "execution_count": 121,
     "metadata": {},
     "output_type": "execute_result"
    }
   ],
   "source": [
    "get_category_mape(df_valid_out, 'group', 'gbm_pred','log_priv_pay_mean' )"
   ]
  },
  {
   "cell_type": "code",
   "execution_count": null,
   "metadata": {
    "colab": {
     "base_uri": "https://localhost:8080/"
    },
    "id": "CkLRDYtlcCl1",
    "outputId": "491264dc-4441-4617-e60f-402f87b63c46"
   },
   "outputs": [
    {
     "data": {
      "text/plain": [
       "{'breast reconstruction': 0.051199359395824935,\n",
       " 'mastectomy': 0.06091437024354399,\n",
       " 'navigation': 0.08605302392446075,\n",
       " 'ant_cerv_fusion': 0.059201509405197784,\n",
       " 'ant_tls_fusion': 0.03423980015588772,\n",
       " 'post_cerv_fusion': 0.03193412270163444,\n",
       " 'post_tls_fusion': 0.032052996536568665,\n",
       " 'rtc_slap_bank': 0.0549408976210462,\n",
       " 'tsa': 0.039138129922705316,\n",
       " 'clavicle fixation': 0.07402572221448715,\n",
       " 'proximal humerus': 0.05836463694934719,\n",
       " 'radius/ulna internal fixation': 0.05295542245262274,\n",
       " 'tha': 0.03524365673275834,\n",
       " 'hip_fracture_fixation': 0.016863588067144133,\n",
       " 'tka': 0.043593758512871394,\n",
       " 'prox_tibia_fixation': 0.03161380323935492,\n",
       " 'ankle_fix': 0.07746041104824768,\n",
       " 'bunionectomy': 0.052941327152832056,\n",
       " 'pnn': 0.09283461602126072,\n",
       " 'fess': 0.05341444090936663,\n",
       " 'septoplasty': 0.056401972723952656,\n",
       " 'bsp': 0.0942529134507291,\n",
       " 'thoracic': 0.027641253065739644,\n",
       " 'bariatric': 0.040462642087517854,\n",
       " 'colorect': 0.06573863006973983,\n",
       " 'lap appendectomy': 0.044672313202403856,\n",
       " 'hepat': 0.10566723861422299,\n",
       " 'hernia': 0.06603293961357955,\n",
       " 'hysterect': 0.04862099926912373,\n",
       " 'cardiac ablation': 0.04617866038448618,\n",
       " 'cardiac ablation_additional_discrete': 0.03873370645799745,\n",
       " 'cardiac ablation_linear_focal': 0.04981190319459002,\n",
       " 'cardiac_ablaton_ice': 0.04315608287230139,\n",
       " 'cardiac_ablaton_anesthesia': 0.04398381006980103,\n",
       " 'tpa': 0.05271603539897995,\n",
       " 'orthovisc_monovisc': 0.19869077147616876,\n",
       " 'robotic_assisted_surgery': 0.08444789567519587,\n",
       " 'pka': 0.043910894108724834,\n",
       " 'prostatectomy': 0.05693042481134498}"
      ]
     },
     "execution_count": 122,
     "metadata": {},
     "output_type": "execute_result"
    }
   ],
   "source": [
    "get_category_mape(df_valid_out, 'group', 'xgb_pred','log_priv_pay_mean' )"
   ]
  },
  {
   "cell_type": "code",
   "execution_count": null,
   "metadata": {
    "id": "ifF6llkEulNH"
   },
   "outputs": [],
   "source": [
    "df_valid_out_test = df_valid_X_test.copy()\n",
    "# df_valid_out_test['gbm_pred'] = pipe_fit_gbm.predict(df_valid_out_test[all_features])\n",
    "# df_valid_out['rf_pred'] = pipe_fit_rf.predict(df_valid_out[all_features])\n",
    "df_valid_out_test['lr_pred'] = pipe_fit_lr.predict(df_valid_out_test[all_features])\n",
    "# df_valid_out_test['dt_pred'] = pipe_fit_dt.predict(df_valid_out_test[all_features])\n",
    "# df_valid_out_test['xgb_pred'] = pipe_fit_xgb.predict(df_valid_out_test[all_features])"
   ]
  },
  {
   "cell_type": "code",
   "execution_count": null,
   "metadata": {
    "colab": {
     "base_uri": "https://localhost:8080/"
    },
    "id": "H54I1te6u3Jz",
    "outputId": "a65342b4-4403-4c35-ad7d-0cb88665928e"
   },
   "outputs": [
    {
     "data": {
      "text/plain": [
       "(1177, 26)"
      ]
     },
     "execution_count": 125,
     "metadata": {},
     "output_type": "execute_result"
    }
   ],
   "source": [
    "df_valid_X_test.shape"
   ]
  },
  {
   "cell_type": "code",
   "execution_count": null,
   "metadata": {
    "colab": {
     "base_uri": "https://localhost:8080/"
    },
    "id": "0q1ll4PmGTYV",
    "outputId": "f5d685c5-ded5-43c2-85e4-523f9ed723ad"
   },
   "outputs": [
    {
     "data": {
      "text/plain": [
       "(1177,)"
      ]
     },
     "execution_count": 126,
     "metadata": {},
     "output_type": "execute_result"
    }
   ],
   "source": [
    "df_valid_y_test.shape"
   ]
  },
  {
   "cell_type": "code",
   "execution_count": null,
   "metadata": {
    "colab": {
     "base_uri": "https://localhost:8080/"
    },
    "id": "Tr9anRu5GVcG",
    "outputId": "140bf164-e471-42d7-fccc-1a6ccbdf05a7"
   },
   "outputs": [
    {
     "data": {
      "text/plain": [
       "(1177, 30)"
      ]
     },
     "execution_count": 127,
     "metadata": {},
     "output_type": "execute_result"
    }
   ],
   "source": [
    "df_valid_out_test.shape"
   ]
  },
  {
   "cell_type": "code",
   "execution_count": null,
   "metadata": {
    "id": "TDvPRlfVGD-S"
   },
   "outputs": [],
   "source": [
    "df_valid_out_test = pd.concat([df_valid_out_test, df_valid_y_test], axis=1)"
   ]
  },
  {
   "cell_type": "code",
   "execution_count": null,
   "metadata": {
    "colab": {
     "base_uri": "https://localhost:8080/"
    },
    "id": "5hb_xX0bH8u6",
    "outputId": "edb96edd-0d92-4ef6-ffbe-e5a7dee3c843"
   },
   "outputs": [
    {
     "data": {
      "text/plain": [
       "Index(['site_weight', 'year', 'priv_count', 'ownership_FEDERAL_median',\n",
       "       'ownership_HOSPITAL DISTRICT OR AUTHORITY_median',\n",
       "       'ownership_LOCAL_median', 'ownership_OTHER (SPECIFY)_median',\n",
       "       'ownership_PHYSICIAN OWNERSHIP_median',\n",
       "       'ownership_PRIVATE (FOR PROFIT)_median',\n",
       "       'ownership_PRIVATE (NOT FOR PROFIT)_median', 'ownership_STATE_median',\n",
       "       'ownership_TRIBAL_median', 'urban_rural_URBAN_median',\n",
       "       'teaching_YES_median', 'hospital_count', 'avg_income_2020',\n",
       "       'population_estimate_2020', 'Life Expectancy', 'harvesine_distance',\n",
       "       'Covid_payment_median', 'beds_grp_median',\n",
       "       'beds_grp_greater_500_median', 'site', 'discharge_category_kmedoids',\n",
       "       'group', 'msa', 'gbm_pred', 'lr_pred', 'dt_pred', 'xgb_pred',\n",
       "       'log_priv_pay_mean'],\n",
       "      dtype='object')"
      ]
     },
     "execution_count": 138,
     "metadata": {},
     "output_type": "execute_result"
    }
   ],
   "source": [
    "df_valid_out_test.columns"
   ]
  },
  {
   "cell_type": "code",
   "execution_count": null,
   "metadata": {
    "colab": {
     "base_uri": "https://localhost:8080/"
    },
    "id": "nXV_8PtfIKQR",
    "outputId": "522d3e9a-b5b1-437a-fd42-1a10e8c91bca"
   },
   "outputs": [
    {
     "data": {
      "text/plain": [
       "count    1177.000000\n",
       "mean        9.690274\n",
       "std         0.725415\n",
       "min         5.883134\n",
       "25%         9.175719\n",
       "50%         9.637743\n",
       "75%        10.209741\n",
       "max        11.678468\n",
       "Name: log_priv_pay_mean, dtype: float64"
      ]
     },
     "execution_count": 143,
     "metadata": {},
     "output_type": "execute_result"
    }
   ],
   "source": [
    "df_valid_out_test['log_priv_pay_mean'].describe()"
   ]
  },
  {
   "cell_type": "code",
   "execution_count": null,
   "metadata": {
    "colab": {
     "base_uri": "https://localhost:8080/"
    },
    "id": "KztnzATGIZB3",
    "outputId": "8598d01a-f5aa-4370-b6e2-560341386ea3"
   },
   "outputs": [
    {
     "data": {
      "text/plain": [
       "count    1177.000000\n",
       "mean        9.686194\n",
       "std         0.711229\n",
       "min         6.209718\n",
       "25%         9.172946\n",
       "50%         9.622657\n",
       "75%        10.163033\n",
       "max        11.662906\n",
       "Name: gbm_pred, dtype: float64"
      ]
     },
     "execution_count": 144,
     "metadata": {},
     "output_type": "execute_result"
    }
   ],
   "source": [
    "df_valid_out_test['gbm_pred'].describe()"
   ]
  },
  {
   "cell_type": "code",
   "execution_count": null,
   "metadata": {
    "colab": {
     "base_uri": "https://localhost:8080/"
    },
    "id": "AQVjeLZLFw7N",
    "outputId": "83994ca1-087c-43f8-9919-66e48487ac99"
   },
   "outputs": [
    {
     "data": {
      "text/plain": [
       "{'septoplasty': 0.13698068307445743,\n",
       " 'tha': 0.08779827116187525,\n",
       " 'cardiac ablation': 0.14760064668642894,\n",
       " 'tka': 0.13029757384985147,\n",
       " 'hysterect': 0.1282113950020997,\n",
       " 'prostatectomy': 0.13948904068728324,\n",
       " 'clavicle fixation': 0.20313429453629647,\n",
       " 'lap appendectomy': 0.09204868938054234,\n",
       " 'ankle_fix': 0.19788156530310827,\n",
       " 'bariatric': 0.09699635569700774,\n",
       " 'bunionectomy': 0.13254058158885926,\n",
       " 'fess': 0.15562783117802928,\n",
       " 'cardiac_ablaton_anesthesia': 0.10893059340373626,\n",
       " 'colorect': 0.1585193171224841,\n",
       " 'ant_cerv_fusion': 0.1685264628879159,\n",
       " 'orthovisc_monovisc': 0.6366135933477092,\n",
       " 'breast reconstruction': 0.12685461276554166,\n",
       " 'mastectomy': 0.1504463389436781,\n",
       " 'rtc_slap_bank': 0.18051944084247873,\n",
       " 'hepat': 0.29936675299581467,\n",
       " 'post_tls_fusion': 0.11894312514547388,\n",
       " 'radius/ulna internal fixation': 0.11830794526076216,\n",
       " 'ant_tls_fusion': 0.09078354784984242,\n",
       " 'hernia': 0.20878737262282812,\n",
       " 'robotic_assisted_surgery': 0.2166136284608211,\n",
       " 'cardiac_ablaton_ice': 0.11452773865866704,\n",
       " 'bsp': 0.21179499231072924,\n",
       " 'tsa': 0.11502565525691155,\n",
       " 'navigation': 0.20575775959084594,\n",
       " 'proximal humerus': 0.019619516274624462,\n",
       " 'cardiac ablation_additional_discrete': 0.08869022501739182,\n",
       " 'cardiac ablation_linear_focal': 0.12376724371842449,\n",
       " 'pka': 0.11292716568951536,\n",
       " 'post_cerv_fusion': 0.05699090777732673,\n",
       " 'tpa': 0.27330439623089325,\n",
       " 'hip_fracture_fixation': 0.035208034266049994,\n",
       " 'prox_tibia_fixation': 0.045334167592230946}"
      ]
     },
     "execution_count": 149,
     "metadata": {},
     "output_type": "execute_result"
    }
   ],
   "source": [
    "out = {}\n",
    "\n",
    "for grp in df_valid_out_test['group'].unique():\n",
    "    temp = df_valid_out_test[df_valid_out_test['group'] == grp]\n",
    "    out[grp] = mape(np.exp(temp['xgb_pred']), np.exp(temp['log_priv_pay_mean']))\n",
    "    # print(temp.shape)\n",
    "\n",
    "out"
   ]
  },
  {
   "cell_type": "code",
   "execution_count": null,
   "metadata": {
    "id": "NF4TbcPyHArT"
   },
   "outputs": [],
   "source": []
  }
 ],
 "metadata": {
  "colab": {
   "provenance": []
  },
  "gpuClass": "standard",
  "kernelspec": {
   "display_name": "Python 3 (ipykernel)",
   "language": "python",
   "name": "python3"
  },
  "language_info": {
   "codemirror_mode": {
    "name": "ipython",
    "version": 3
   },
   "file_extension": ".py",
   "mimetype": "text/x-python",
   "name": "python",
   "nbconvert_exporter": "python",
   "pygments_lexer": "ipython3",
   "version": "3.10.4"
  }
 },
 "nbformat": 4,
 "nbformat_minor": 1
}
