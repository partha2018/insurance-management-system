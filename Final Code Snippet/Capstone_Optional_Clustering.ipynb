{
 "cells": [
  {
   "cell_type": "code",
   "execution_count": 1,
   "metadata": {
    "colab": {
     "base_uri": "https://localhost:8080/"
    },
    "id": "poK4qua61cgP",
    "outputId": "71e9175f-f5fc-400b-b67e-06769689109c"
   },
   "outputs": [
    {
     "name": "stdout",
     "output_type": "stream",
     "text": [
      "Collecting scikit-learn-extra\n",
      "  Downloading scikit_learn_extra-0.2.0-cp37-cp37m-macosx_10_9_x86_64.whl (383 kB)\n",
      "\u001b[2K     \u001b[38;2;114;156;31m━━━━━━━━━━━━━━━━━━━━━━━━━━━━━━━━━━━━━━━\u001b[0m \u001b[32m383.5/383.5 kB\u001b[0m \u001b[31m9.3 MB/s\u001b[0m eta \u001b[36m0:00:00\u001b[0mm eta \u001b[36m0:00:01\u001b[0m\n",
      "\u001b[?25hRequirement already satisfied: numpy>=1.13.3 in /Users/maheshjindal/opt/anaconda3/lib/python3.7/site-packages (from scikit-learn-extra) (1.18.1)\n",
      "Requirement already satisfied: scikit-learn>=0.23.0 in /Users/maheshjindal/opt/anaconda3/lib/python3.7/site-packages (from scikit-learn-extra) (1.0.2)\n",
      "Requirement already satisfied: scipy>=0.19.1 in /Users/maheshjindal/opt/anaconda3/lib/python3.7/site-packages (from scikit-learn-extra) (1.4.1)\n",
      "Requirement already satisfied: threadpoolctl>=2.0.0 in /Users/maheshjindal/opt/anaconda3/lib/python3.7/site-packages (from scikit-learn>=0.23.0->scikit-learn-extra) (3.1.0)\n",
      "Requirement already satisfied: joblib>=0.11 in /Users/maheshjindal/opt/anaconda3/lib/python3.7/site-packages (from scikit-learn>=0.23.0->scikit-learn-extra) (0.14.1)\n",
      "Installing collected packages: scikit-learn-extra\n",
      "Successfully installed scikit-learn-extra-0.2.0\n",
      "\u001b[33mWARNING: There was an error checking the latest version of pip.\u001b[0m\u001b[33m\n",
      "\u001b[0mCollecting gower\n",
      "  Downloading gower-0.1.2-py3-none-any.whl (5.2 kB)\n",
      "Requirement already satisfied: scipy in /Users/maheshjindal/opt/anaconda3/lib/python3.7/site-packages (from gower) (1.4.1)\n",
      "Requirement already satisfied: numpy in /Users/maheshjindal/opt/anaconda3/lib/python3.7/site-packages (from gower) (1.18.1)\n",
      "Installing collected packages: gower\n",
      "Successfully installed gower-0.1.2\n",
      "\u001b[33mWARNING: There was an error checking the latest version of pip.\u001b[0m\u001b[33m\n",
      "\u001b[0m"
     ]
    }
   ],
   "source": [
    "# Import required libraries\n",
    "import numpy as np\n",
    "import pandas as pd\n",
    "import matplotlib.pyplot as plt\n",
    "import seaborn as sns\n",
    "\n",
    "\n",
    "!pip install scikit-learn-extra\n",
    "!pip install gower\n",
    "\n",
    "import gower"
   ]
  },
  {
   "cell_type": "code",
   "execution_count": 2,
   "metadata": {
    "id": "jaLHjJ_41nOO"
   },
   "outputs": [],
   "source": [
    "# Reading the raw data\n",
    "cost_discharge_df = pd.read_excel(\"../data/raw/cost_discharge_physpec_ippct.xlsx\")"
   ]
  },
  {
   "cell_type": "code",
   "execution_count": 3,
   "metadata": {
    "colab": {
     "base_uri": "https://localhost:8080/",
     "height": 206
    },
    "id": "pXP3IuVG2BLY",
    "outputId": "fe649b5c-1f61-4428-bdbb-08a5d6911759"
   },
   "outputs": [
    {
     "data": {
      "text/html": [
       "<div>\n",
       "<style scoped>\n",
       "    .dataframe tbody tr th:only-of-type {\n",
       "        vertical-align: middle;\n",
       "    }\n",
       "\n",
       "    .dataframe tbody tr th {\n",
       "        vertical-align: top;\n",
       "    }\n",
       "\n",
       "    .dataframe thead th {\n",
       "        text-align: right;\n",
       "    }\n",
       "</style>\n",
       "<table border=\"1\" class=\"dataframe\">\n",
       "  <thead>\n",
       "    <tr style=\"text-align: right;\">\n",
       "      <th></th>\n",
       "      <th>group</th>\n",
       "      <th>pat_cost</th>\n",
       "      <th>discharge_to_home_pct</th>\n",
       "      <th>phy_spec</th>\n",
       "      <th>IP_pct</th>\n",
       "    </tr>\n",
       "  </thead>\n",
       "  <tbody>\n",
       "    <tr>\n",
       "      <th>0</th>\n",
       "      <td>ankle_fix</td>\n",
       "      <td>16741.5136</td>\n",
       "      <td>0.621714</td>\n",
       "      <td>ORTHOPEDIC SURGERY (ORS)</td>\n",
       "      <td>0.542798</td>\n",
       "    </tr>\n",
       "    <tr>\n",
       "      <th>1</th>\n",
       "      <td>ant_cerv_fusion</td>\n",
       "      <td>18848.1697</td>\n",
       "      <td>0.846973</td>\n",
       "      <td>NEUROLOGICAL SURGERY (NS)</td>\n",
       "      <td>0.575495</td>\n",
       "    </tr>\n",
       "    <tr>\n",
       "      <th>2</th>\n",
       "      <td>ant_tls_fusion</td>\n",
       "      <td>49478.1242</td>\n",
       "      <td>0.596666</td>\n",
       "      <td>ORTHOPEDIC SURGERY (ORS)</td>\n",
       "      <td>0.983543</td>\n",
       "    </tr>\n",
       "    <tr>\n",
       "      <th>3</th>\n",
       "      <td>bariatric</td>\n",
       "      <td>14585.5550</td>\n",
       "      <td>0.945035</td>\n",
       "      <td>GENERAL SURGERY (GS)</td>\n",
       "      <td>0.911311</td>\n",
       "    </tr>\n",
       "    <tr>\n",
       "      <th>4</th>\n",
       "      <td>breast reconstruction</td>\n",
       "      <td>13690.8043</td>\n",
       "      <td>0.929970</td>\n",
       "      <td>PLASTIC SURGERY (PS)</td>\n",
       "      <td>0.246127</td>\n",
       "    </tr>\n",
       "  </tbody>\n",
       "</table>\n",
       "</div>"
      ],
      "text/plain": [
       "                   group    pat_cost  discharge_to_home_pct  \\\n",
       "0              ankle_fix  16741.5136               0.621714   \n",
       "1        ant_cerv_fusion  18848.1697               0.846973   \n",
       "2         ant_tls_fusion  49478.1242               0.596666   \n",
       "3              bariatric  14585.5550               0.945035   \n",
       "4  breast reconstruction  13690.8043               0.929970   \n",
       "\n",
       "                    phy_spec    IP_pct  \n",
       "0   ORTHOPEDIC SURGERY (ORS)  0.542798  \n",
       "1  NEUROLOGICAL SURGERY (NS)  0.575495  \n",
       "2   ORTHOPEDIC SURGERY (ORS)  0.983543  \n",
       "3       GENERAL SURGERY (GS)  0.911311  \n",
       "4       PLASTIC SURGERY (PS)  0.246127  "
      ]
     },
     "execution_count": 3,
     "metadata": {},
     "output_type": "execute_result"
    }
   ],
   "source": [
    "cost_discharge_df.head()"
   ]
  },
  {
   "cell_type": "code",
   "execution_count": null,
   "metadata": {
    "colab": {
     "base_uri": "https://localhost:8080/",
     "height": 143
    },
    "id": "OUa9HcX7ga5f",
    "outputId": "69f186dc-030a-4f91-a283-a6e219822321"
   },
   "outputs": [
    {
     "data": {
      "text/html": [
       "\n",
       "  <div id=\"df-4cc9b1a1-4c78-4dd2-90ec-8ff2664c3081\">\n",
       "    <div class=\"colab-df-container\">\n",
       "      <div>\n",
       "<style scoped>\n",
       "    .dataframe tbody tr th:only-of-type {\n",
       "        vertical-align: middle;\n",
       "    }\n",
       "\n",
       "    .dataframe tbody tr th {\n",
       "        vertical-align: top;\n",
       "    }\n",
       "\n",
       "    .dataframe thead th {\n",
       "        text-align: right;\n",
       "    }\n",
       "</style>\n",
       "<table border=\"1\" class=\"dataframe\">\n",
       "  <thead>\n",
       "    <tr style=\"text-align: right;\">\n",
       "      <th></th>\n",
       "      <th>pat_cost</th>\n",
       "      <th>discharge_to_home_pct</th>\n",
       "      <th>IP_pct</th>\n",
       "    </tr>\n",
       "  </thead>\n",
       "  <tbody>\n",
       "    <tr>\n",
       "      <th>pat_cost</th>\n",
       "      <td>1.000000</td>\n",
       "      <td>-0.578340</td>\n",
       "      <td>0.669526</td>\n",
       "    </tr>\n",
       "    <tr>\n",
       "      <th>discharge_to_home_pct</th>\n",
       "      <td>-0.578340</td>\n",
       "      <td>1.000000</td>\n",
       "      <td>-0.791021</td>\n",
       "    </tr>\n",
       "    <tr>\n",
       "      <th>IP_pct</th>\n",
       "      <td>0.669526</td>\n",
       "      <td>-0.791021</td>\n",
       "      <td>1.000000</td>\n",
       "    </tr>\n",
       "  </tbody>\n",
       "</table>\n",
       "</div>\n",
       "      <button class=\"colab-df-convert\" onclick=\"convertToInteractive('df-4cc9b1a1-4c78-4dd2-90ec-8ff2664c3081')\"\n",
       "              title=\"Convert this dataframe to an interactive table.\"\n",
       "              style=\"display:none;\">\n",
       "        \n",
       "  <svg xmlns=\"http://www.w3.org/2000/svg\" height=\"24px\"viewBox=\"0 0 24 24\"\n",
       "       width=\"24px\">\n",
       "    <path d=\"M0 0h24v24H0V0z\" fill=\"none\"/>\n",
       "    <path d=\"M18.56 5.44l.94 2.06.94-2.06 2.06-.94-2.06-.94-.94-2.06-.94 2.06-2.06.94zm-11 1L8.5 8.5l.94-2.06 2.06-.94-2.06-.94L8.5 2.5l-.94 2.06-2.06.94zm10 10l.94 2.06.94-2.06 2.06-.94-2.06-.94-.94-2.06-.94 2.06-2.06.94z\"/><path d=\"M17.41 7.96l-1.37-1.37c-.4-.4-.92-.59-1.43-.59-.52 0-1.04.2-1.43.59L10.3 9.45l-7.72 7.72c-.78.78-.78 2.05 0 2.83L4 21.41c.39.39.9.59 1.41.59.51 0 1.02-.2 1.41-.59l7.78-7.78 2.81-2.81c.8-.78.8-2.07 0-2.86zM5.41 20L4 18.59l7.72-7.72 1.47 1.35L5.41 20z\"/>\n",
       "  </svg>\n",
       "      </button>\n",
       "      \n",
       "  <style>\n",
       "    .colab-df-container {\n",
       "      display:flex;\n",
       "      flex-wrap:wrap;\n",
       "      gap: 12px;\n",
       "    }\n",
       "\n",
       "    .colab-df-convert {\n",
       "      background-color: #E8F0FE;\n",
       "      border: none;\n",
       "      border-radius: 50%;\n",
       "      cursor: pointer;\n",
       "      display: none;\n",
       "      fill: #1967D2;\n",
       "      height: 32px;\n",
       "      padding: 0 0 0 0;\n",
       "      width: 32px;\n",
       "    }\n",
       "\n",
       "    .colab-df-convert:hover {\n",
       "      background-color: #E2EBFA;\n",
       "      box-shadow: 0px 1px 2px rgba(60, 64, 67, 0.3), 0px 1px 3px 1px rgba(60, 64, 67, 0.15);\n",
       "      fill: #174EA6;\n",
       "    }\n",
       "\n",
       "    [theme=dark] .colab-df-convert {\n",
       "      background-color: #3B4455;\n",
       "      fill: #D2E3FC;\n",
       "    }\n",
       "\n",
       "    [theme=dark] .colab-df-convert:hover {\n",
       "      background-color: #434B5C;\n",
       "      box-shadow: 0px 1px 3px 1px rgba(0, 0, 0, 0.15);\n",
       "      filter: drop-shadow(0px 1px 2px rgba(0, 0, 0, 0.3));\n",
       "      fill: #FFFFFF;\n",
       "    }\n",
       "  </style>\n",
       "\n",
       "      <script>\n",
       "        const buttonEl =\n",
       "          document.querySelector('#df-4cc9b1a1-4c78-4dd2-90ec-8ff2664c3081 button.colab-df-convert');\n",
       "        buttonEl.style.display =\n",
       "          google.colab.kernel.accessAllowed ? 'block' : 'none';\n",
       "\n",
       "        async function convertToInteractive(key) {\n",
       "          const element = document.querySelector('#df-4cc9b1a1-4c78-4dd2-90ec-8ff2664c3081');\n",
       "          const dataTable =\n",
       "            await google.colab.kernel.invokeFunction('convertToInteractive',\n",
       "                                                     [key], {});\n",
       "          if (!dataTable) return;\n",
       "\n",
       "          const docLinkHtml = 'Like what you see? Visit the ' +\n",
       "            '<a target=\"_blank\" href=https://colab.research.google.com/notebooks/data_table.ipynb>data table notebook</a>'\n",
       "            + ' to learn more about interactive tables.';\n",
       "          element.innerHTML = '';\n",
       "          dataTable['output_type'] = 'display_data';\n",
       "          await google.colab.output.renderOutput(dataTable, element);\n",
       "          const docLink = document.createElement('div');\n",
       "          docLink.innerHTML = docLinkHtml;\n",
       "          element.appendChild(docLink);\n",
       "        }\n",
       "      </script>\n",
       "    </div>\n",
       "  </div>\n",
       "  "
      ],
      "text/plain": [
       "                       pat_cost  discharge_to_home_pct    IP_pct\n",
       "pat_cost               1.000000              -0.578340  0.669526\n",
       "discharge_to_home_pct -0.578340               1.000000 -0.791021\n",
       "IP_pct                 0.669526              -0.791021  1.000000"
      ]
     },
     "execution_count": 8,
     "metadata": {},
     "output_type": "execute_result"
    }
   ],
   "source": [
    "cost_discharge_df.corr()"
   ]
  },
  {
   "cell_type": "code",
   "execution_count": null,
   "metadata": {
    "id": "7TwKcJgaU71s"
   },
   "outputs": [],
   "source": [
    "# Fix group col with break characters\n",
    "cost_discharge_df.group = cost_discharge_df.group.apply(lambda x: x.replace(u'\\xa0', u' '))"
   ]
  },
  {
   "cell_type": "code",
   "execution_count": null,
   "metadata": {
    "colab": {
     "base_uri": "https://localhost:8080/"
    },
    "id": "9fuV2u_-2ULW",
    "outputId": "037ee435-5c1b-4915-f38c-e555e3c57f33"
   },
   "outputs": [
    {
     "name": "stdout",
     "output_type": "stream",
     "text": [
      "Possible Phy Spec categories: 13\n",
      "Unique groups: 49\n"
     ]
    }
   ],
   "source": [
    "print(f\"Possible Phy Spec categories: {len(set(cost_discharge_df['phy_spec']))}\")\n",
    "print(f\"Unique groups: {len(set(cost_discharge_df['group']))}\")"
   ]
  },
  {
   "cell_type": "code",
   "execution_count": null,
   "metadata": {
    "id": "1DIwroAq5HDs"
   },
   "outputs": [],
   "source": [
    "# Compute gower dist matrix for all numerical, cat and ord cols\n",
    "dist_matrix = gower.gower_matrix(cost_discharge_df)"
   ]
  },
  {
   "cell_type": "code",
   "execution_count": null,
   "metadata": {
    "colab": {
     "base_uri": "https://localhost:8080/"
    },
    "id": "lgxu65OQ5LKd",
    "outputId": "ad802465-60b3-47d5-f9d2-5b20e7277e73"
   },
   "outputs": [
    {
     "data": {
      "text/plain": [
       "(50, 50)"
      ]
     },
     "execution_count": 12,
     "metadata": {},
     "output_type": "execute_result"
    }
   ],
   "source": [
    "dist_matrix.shape"
   ]
  },
  {
   "cell_type": "markdown",
   "metadata": {
    "id": "CZ8n3Ts0omRo"
   },
   "source": [
    "### Using *DBScan*"
   ]
  },
  {
   "cell_type": "code",
   "execution_count": null,
   "metadata": {
    "colab": {
     "base_uri": "https://localhost:8080/"
    },
    "id": "s4Lu6cD_5MAX",
    "outputId": "f6b50fdd-a4e7-4a64-b210-6202e5255025"
   },
   "outputs": [
    {
     "data": {
      "text/plain": [
       "DBSCAN(eps=0.4, metric='precomputed', min_samples=2)"
      ]
     },
     "execution_count": 13,
     "metadata": {},
     "output_type": "execute_result"
    }
   ],
   "source": [
    "from sklearn.cluster import DBSCAN\n",
    "\n",
    "# Configuring the parameters of the clustering algorithm\n",
    "dbscan_cluster = DBSCAN(eps=0.4, \n",
    "                        min_samples=2, \n",
    "                        metric=\"precomputed\")\n",
    "\n",
    "# Fitting the clustering algorithm\n",
    "dbscan_cluster.fit(dist_matrix)"
   ]
  },
  {
   "cell_type": "code",
   "execution_count": null,
   "metadata": {
    "id": "LKaD7AhSafUI"
   },
   "outputs": [],
   "source": [
    "cost_discharge_df['discharge_category_dbscan'] = dbscan_cluster.labels_"
   ]
  },
  {
   "cell_type": "code",
   "execution_count": null,
   "metadata": {
    "colab": {
     "base_uri": "https://localhost:8080/"
    },
    "id": "HC5NFkEihYxg",
    "outputId": "74805dc4-d5fa-4d3c-dc72-05e594ad5b9e"
   },
   "outputs": [
    {
     "data": {
      "text/plain": [
       "array([ 0, -1,  0,  1, -1,  2, -1,  3,  3,  3, -1,  3,  0,  1,  0,  2,  1,\n",
       "        1, -1, -1,  4,  5,  3,  1,  1,  4,  4,  1,  0,  0,  0,  0,  2,  6,\n",
       "        6,  5,  0,  0,  0,  0,  0,  1,  0,  2,  3,  0, -1,  0,  4,  0])"
      ]
     },
     "execution_count": 15,
     "metadata": {},
     "output_type": "execute_result"
    }
   ],
   "source": [
    "dbscan_cluster.labels_"
   ]
  },
  {
   "cell_type": "code",
   "execution_count": null,
   "metadata": {
    "id": "NN7lsJvdwexY"
   },
   "outputs": [],
   "source": [
    "dbscan_cluster.metric_params"
   ]
  },
  {
   "cell_type": "code",
   "execution_count": null,
   "metadata": {
    "colab": {
     "base_uri": "https://localhost:8080/",
     "height": 238
    },
    "id": "744HDXCKbL7w",
    "outputId": "48c2c8f6-adca-49f7-d975-b99a00c05aa1"
   },
   "outputs": [
    {
     "data": {
      "text/html": [
       "\n",
       "  <div id=\"df-156f971e-4390-4dd4-933f-956ed807f9bc\">\n",
       "    <div class=\"colab-df-container\">\n",
       "      <div>\n",
       "<style scoped>\n",
       "    .dataframe tbody tr th:only-of-type {\n",
       "        vertical-align: middle;\n",
       "    }\n",
       "\n",
       "    .dataframe tbody tr th {\n",
       "        vertical-align: top;\n",
       "    }\n",
       "\n",
       "    .dataframe thead th {\n",
       "        text-align: right;\n",
       "    }\n",
       "</style>\n",
       "<table border=\"1\" class=\"dataframe\">\n",
       "  <thead>\n",
       "    <tr style=\"text-align: right;\">\n",
       "      <th></th>\n",
       "      <th>group</th>\n",
       "      <th>pat_cost</th>\n",
       "      <th>discharge_to_home_pct</th>\n",
       "      <th>phy_spec</th>\n",
       "      <th>IP_pct</th>\n",
       "      <th>discharge_category_dbscan</th>\n",
       "    </tr>\n",
       "  </thead>\n",
       "  <tbody>\n",
       "    <tr>\n",
       "      <th>7</th>\n",
       "      <td>cardiac ablation</td>\n",
       "      <td>22307.6292</td>\n",
       "      <td>0.926094</td>\n",
       "      <td>CARDIOVASCULAR DISEASES (CD)</td>\n",
       "      <td>0.279960</td>\n",
       "      <td>3</td>\n",
       "    </tr>\n",
       "    <tr>\n",
       "      <th>8</th>\n",
       "      <td>cardiac ablation_additional_discrete</td>\n",
       "      <td>23310.1182</td>\n",
       "      <td>0.992888</td>\n",
       "      <td>CARDIOVASCULAR DISEASES (CD)</td>\n",
       "      <td>0.000000</td>\n",
       "      <td>3</td>\n",
       "    </tr>\n",
       "    <tr>\n",
       "      <th>9</th>\n",
       "      <td>cardiac ablation_linear_focal</td>\n",
       "      <td>23227.2749</td>\n",
       "      <td>0.994481</td>\n",
       "      <td>CARDIOVASCULAR DISEASES (CD)</td>\n",
       "      <td>0.000000</td>\n",
       "      <td>3</td>\n",
       "    </tr>\n",
       "    <tr>\n",
       "      <th>11</th>\n",
       "      <td>cardiac_ablaton_ice</td>\n",
       "      <td>21564.2802</td>\n",
       "      <td>0.992072</td>\n",
       "      <td>CARDIOVASCULAR DISEASES (CD)</td>\n",
       "      <td>0.000000</td>\n",
       "      <td>3</td>\n",
       "    </tr>\n",
       "    <tr>\n",
       "      <th>22</th>\n",
       "      <td>laac</td>\n",
       "      <td>26641.5200</td>\n",
       "      <td>0.919479</td>\n",
       "      <td>CARDIOVASCULAR DISEASES (CD)</td>\n",
       "      <td>0.972062</td>\n",
       "      <td>3</td>\n",
       "    </tr>\n",
       "    <tr>\n",
       "      <th>44</th>\n",
       "      <td>tavr</td>\n",
       "      <td>29582.2368</td>\n",
       "      <td>0.877698</td>\n",
       "      <td>CARDIOVASCULAR DISEASES (CD)</td>\n",
       "      <td>0.000000</td>\n",
       "      <td>3</td>\n",
       "    </tr>\n",
       "  </tbody>\n",
       "</table>\n",
       "</div>\n",
       "      <button class=\"colab-df-convert\" onclick=\"convertToInteractive('df-156f971e-4390-4dd4-933f-956ed807f9bc')\"\n",
       "              title=\"Convert this dataframe to an interactive table.\"\n",
       "              style=\"display:none;\">\n",
       "        \n",
       "  <svg xmlns=\"http://www.w3.org/2000/svg\" height=\"24px\"viewBox=\"0 0 24 24\"\n",
       "       width=\"24px\">\n",
       "    <path d=\"M0 0h24v24H0V0z\" fill=\"none\"/>\n",
       "    <path d=\"M18.56 5.44l.94 2.06.94-2.06 2.06-.94-2.06-.94-.94-2.06-.94 2.06-2.06.94zm-11 1L8.5 8.5l.94-2.06 2.06-.94-2.06-.94L8.5 2.5l-.94 2.06-2.06.94zm10 10l.94 2.06.94-2.06 2.06-.94-2.06-.94-.94-2.06-.94 2.06-2.06.94z\"/><path d=\"M17.41 7.96l-1.37-1.37c-.4-.4-.92-.59-1.43-.59-.52 0-1.04.2-1.43.59L10.3 9.45l-7.72 7.72c-.78.78-.78 2.05 0 2.83L4 21.41c.39.39.9.59 1.41.59.51 0 1.02-.2 1.41-.59l7.78-7.78 2.81-2.81c.8-.78.8-2.07 0-2.86zM5.41 20L4 18.59l7.72-7.72 1.47 1.35L5.41 20z\"/>\n",
       "  </svg>\n",
       "      </button>\n",
       "      \n",
       "  <style>\n",
       "    .colab-df-container {\n",
       "      display:flex;\n",
       "      flex-wrap:wrap;\n",
       "      gap: 12px;\n",
       "    }\n",
       "\n",
       "    .colab-df-convert {\n",
       "      background-color: #E8F0FE;\n",
       "      border: none;\n",
       "      border-radius: 50%;\n",
       "      cursor: pointer;\n",
       "      display: none;\n",
       "      fill: #1967D2;\n",
       "      height: 32px;\n",
       "      padding: 0 0 0 0;\n",
       "      width: 32px;\n",
       "    }\n",
       "\n",
       "    .colab-df-convert:hover {\n",
       "      background-color: #E2EBFA;\n",
       "      box-shadow: 0px 1px 2px rgba(60, 64, 67, 0.3), 0px 1px 3px 1px rgba(60, 64, 67, 0.15);\n",
       "      fill: #174EA6;\n",
       "    }\n",
       "\n",
       "    [theme=dark] .colab-df-convert {\n",
       "      background-color: #3B4455;\n",
       "      fill: #D2E3FC;\n",
       "    }\n",
       "\n",
       "    [theme=dark] .colab-df-convert:hover {\n",
       "      background-color: #434B5C;\n",
       "      box-shadow: 0px 1px 3px 1px rgba(0, 0, 0, 0.15);\n",
       "      filter: drop-shadow(0px 1px 2px rgba(0, 0, 0, 0.3));\n",
       "      fill: #FFFFFF;\n",
       "    }\n",
       "  </style>\n",
       "\n",
       "      <script>\n",
       "        const buttonEl =\n",
       "          document.querySelector('#df-156f971e-4390-4dd4-933f-956ed807f9bc button.colab-df-convert');\n",
       "        buttonEl.style.display =\n",
       "          google.colab.kernel.accessAllowed ? 'block' : 'none';\n",
       "\n",
       "        async function convertToInteractive(key) {\n",
       "          const element = document.querySelector('#df-156f971e-4390-4dd4-933f-956ed807f9bc');\n",
       "          const dataTable =\n",
       "            await google.colab.kernel.invokeFunction('convertToInteractive',\n",
       "                                                     [key], {});\n",
       "          if (!dataTable) return;\n",
       "\n",
       "          const docLinkHtml = 'Like what you see? Visit the ' +\n",
       "            '<a target=\"_blank\" href=https://colab.research.google.com/notebooks/data_table.ipynb>data table notebook</a>'\n",
       "            + ' to learn more about interactive tables.';\n",
       "          element.innerHTML = '';\n",
       "          dataTable['output_type'] = 'display_data';\n",
       "          await google.colab.output.renderOutput(dataTable, element);\n",
       "          const docLink = document.createElement('div');\n",
       "          docLink.innerHTML = docLinkHtml;\n",
       "          element.appendChild(docLink);\n",
       "        }\n",
       "      </script>\n",
       "    </div>\n",
       "  </div>\n",
       "  "
      ],
      "text/plain": [
       "                                   group    pat_cost  discharge_to_home_pct  \\\n",
       "7                       cardiac ablation  22307.6292               0.926094   \n",
       "8   cardiac ablation_additional_discrete  23310.1182               0.992888   \n",
       "9          cardiac ablation_linear_focal  23227.2749               0.994481   \n",
       "11                   cardiac_ablaton_ice  21564.2802               0.992072   \n",
       "22                                  laac  26641.5200               0.919479   \n",
       "44                                  tavr  29582.2368               0.877698   \n",
       "\n",
       "                        phy_spec    IP_pct  discharge_category_dbscan  \n",
       "7   CARDIOVASCULAR DISEASES (CD)  0.279960                          3  \n",
       "8   CARDIOVASCULAR DISEASES (CD)  0.000000                          3  \n",
       "9   CARDIOVASCULAR DISEASES (CD)  0.000000                          3  \n",
       "11  CARDIOVASCULAR DISEASES (CD)  0.000000                          3  \n",
       "22  CARDIOVASCULAR DISEASES (CD)  0.972062                          3  \n",
       "44  CARDIOVASCULAR DISEASES (CD)  0.000000                          3  "
      ]
     },
     "execution_count": 17,
     "metadata": {},
     "output_type": "execute_result"
    }
   ],
   "source": [
    "cost_discharge_df[cost_discharge_df.discharge_category_dbscan == 3]"
   ]
  },
  {
   "cell_type": "code",
   "execution_count": null,
   "metadata": {
    "colab": {
     "base_uri": "https://localhost:8080/",
     "height": 175
    },
    "id": "bp3haMhfkOnF",
    "outputId": "656dd26d-017d-404d-e90c-5304af2b3b08"
   },
   "outputs": [
    {
     "data": {
      "text/html": [
       "\n",
       "  <div id=\"df-b2354c7e-d702-4c15-b0f9-72cc9435ec17\">\n",
       "    <div class=\"colab-df-container\">\n",
       "      <div>\n",
       "<style scoped>\n",
       "    .dataframe tbody tr th:only-of-type {\n",
       "        vertical-align: middle;\n",
       "    }\n",
       "\n",
       "    .dataframe tbody tr th {\n",
       "        vertical-align: top;\n",
       "    }\n",
       "\n",
       "    .dataframe thead th {\n",
       "        text-align: right;\n",
       "    }\n",
       "</style>\n",
       "<table border=\"1\" class=\"dataframe\">\n",
       "  <thead>\n",
       "    <tr style=\"text-align: right;\">\n",
       "      <th></th>\n",
       "      <th>group</th>\n",
       "      <th>pat_cost</th>\n",
       "      <th>discharge_to_home_pct</th>\n",
       "      <th>phy_spec</th>\n",
       "      <th>IP_pct</th>\n",
       "      <th>discharge_category_dbscan</th>\n",
       "    </tr>\n",
       "  </thead>\n",
       "  <tbody>\n",
       "    <tr>\n",
       "      <th>20</th>\n",
       "      <td>intracranial_thromb</td>\n",
       "      <td>41302.4483</td>\n",
       "      <td>0.247098</td>\n",
       "      <td>INTERNAL MEDICINE (IM)</td>\n",
       "      <td>0.996995</td>\n",
       "      <td>4</td>\n",
       "    </tr>\n",
       "    <tr>\n",
       "      <th>25</th>\n",
       "      <td>lung ablation</td>\n",
       "      <td>18846.2792</td>\n",
       "      <td>0.766509</td>\n",
       "      <td>HOSPITALIST (HOS)</td>\n",
       "      <td>0.536557</td>\n",
       "      <td>4</td>\n",
       "    </tr>\n",
       "    <tr>\n",
       "      <th>26</th>\n",
       "      <td>lung ablation</td>\n",
       "      <td>18846.2792</td>\n",
       "      <td>0.766509</td>\n",
       "      <td>INTERNAL MEDICINE (IM)</td>\n",
       "      <td>0.536557</td>\n",
       "      <td>4</td>\n",
       "    </tr>\n",
       "    <tr>\n",
       "      <th>48</th>\n",
       "      <td>tpa</td>\n",
       "      <td>28537.1330</td>\n",
       "      <td>0.472749</td>\n",
       "      <td>INTERNAL MEDICINE (IM)</td>\n",
       "      <td>1.000000</td>\n",
       "      <td>4</td>\n",
       "    </tr>\n",
       "  </tbody>\n",
       "</table>\n",
       "</div>\n",
       "      <button class=\"colab-df-convert\" onclick=\"convertToInteractive('df-b2354c7e-d702-4c15-b0f9-72cc9435ec17')\"\n",
       "              title=\"Convert this dataframe to an interactive table.\"\n",
       "              style=\"display:none;\">\n",
       "        \n",
       "  <svg xmlns=\"http://www.w3.org/2000/svg\" height=\"24px\"viewBox=\"0 0 24 24\"\n",
       "       width=\"24px\">\n",
       "    <path d=\"M0 0h24v24H0V0z\" fill=\"none\"/>\n",
       "    <path d=\"M18.56 5.44l.94 2.06.94-2.06 2.06-.94-2.06-.94-.94-2.06-.94 2.06-2.06.94zm-11 1L8.5 8.5l.94-2.06 2.06-.94-2.06-.94L8.5 2.5l-.94 2.06-2.06.94zm10 10l.94 2.06.94-2.06 2.06-.94-2.06-.94-.94-2.06-.94 2.06-2.06.94z\"/><path d=\"M17.41 7.96l-1.37-1.37c-.4-.4-.92-.59-1.43-.59-.52 0-1.04.2-1.43.59L10.3 9.45l-7.72 7.72c-.78.78-.78 2.05 0 2.83L4 21.41c.39.39.9.59 1.41.59.51 0 1.02-.2 1.41-.59l7.78-7.78 2.81-2.81c.8-.78.8-2.07 0-2.86zM5.41 20L4 18.59l7.72-7.72 1.47 1.35L5.41 20z\"/>\n",
       "  </svg>\n",
       "      </button>\n",
       "      \n",
       "  <style>\n",
       "    .colab-df-container {\n",
       "      display:flex;\n",
       "      flex-wrap:wrap;\n",
       "      gap: 12px;\n",
       "    }\n",
       "\n",
       "    .colab-df-convert {\n",
       "      background-color: #E8F0FE;\n",
       "      border: none;\n",
       "      border-radius: 50%;\n",
       "      cursor: pointer;\n",
       "      display: none;\n",
       "      fill: #1967D2;\n",
       "      height: 32px;\n",
       "      padding: 0 0 0 0;\n",
       "      width: 32px;\n",
       "    }\n",
       "\n",
       "    .colab-df-convert:hover {\n",
       "      background-color: #E2EBFA;\n",
       "      box-shadow: 0px 1px 2px rgba(60, 64, 67, 0.3), 0px 1px 3px 1px rgba(60, 64, 67, 0.15);\n",
       "      fill: #174EA6;\n",
       "    }\n",
       "\n",
       "    [theme=dark] .colab-df-convert {\n",
       "      background-color: #3B4455;\n",
       "      fill: #D2E3FC;\n",
       "    }\n",
       "\n",
       "    [theme=dark] .colab-df-convert:hover {\n",
       "      background-color: #434B5C;\n",
       "      box-shadow: 0px 1px 3px 1px rgba(0, 0, 0, 0.15);\n",
       "      filter: drop-shadow(0px 1px 2px rgba(0, 0, 0, 0.3));\n",
       "      fill: #FFFFFF;\n",
       "    }\n",
       "  </style>\n",
       "\n",
       "      <script>\n",
       "        const buttonEl =\n",
       "          document.querySelector('#df-b2354c7e-d702-4c15-b0f9-72cc9435ec17 button.colab-df-convert');\n",
       "        buttonEl.style.display =\n",
       "          google.colab.kernel.accessAllowed ? 'block' : 'none';\n",
       "\n",
       "        async function convertToInteractive(key) {\n",
       "          const element = document.querySelector('#df-b2354c7e-d702-4c15-b0f9-72cc9435ec17');\n",
       "          const dataTable =\n",
       "            await google.colab.kernel.invokeFunction('convertToInteractive',\n",
       "                                                     [key], {});\n",
       "          if (!dataTable) return;\n",
       "\n",
       "          const docLinkHtml = 'Like what you see? Visit the ' +\n",
       "            '<a target=\"_blank\" href=https://colab.research.google.com/notebooks/data_table.ipynb>data table notebook</a>'\n",
       "            + ' to learn more about interactive tables.';\n",
       "          element.innerHTML = '';\n",
       "          dataTable['output_type'] = 'display_data';\n",
       "          await google.colab.output.renderOutput(dataTable, element);\n",
       "          const docLink = document.createElement('div');\n",
       "          docLink.innerHTML = docLinkHtml;\n",
       "          element.appendChild(docLink);\n",
       "        }\n",
       "      </script>\n",
       "    </div>\n",
       "  </div>\n",
       "  "
      ],
      "text/plain": [
       "                  group    pat_cost  discharge_to_home_pct  \\\n",
       "20  intracranial_thromb  41302.4483               0.247098   \n",
       "25        lung ablation  18846.2792               0.766509   \n",
       "26        lung ablation  18846.2792               0.766509   \n",
       "48                  tpa  28537.1330               0.472749   \n",
       "\n",
       "                  phy_spec    IP_pct  discharge_category_dbscan  \n",
       "20  INTERNAL MEDICINE (IM)  0.996995                          4  \n",
       "25       HOSPITALIST (HOS)  0.536557                          4  \n",
       "26  INTERNAL MEDICINE (IM)  0.536557                          4  \n",
       "48  INTERNAL MEDICINE (IM)  1.000000                          4  "
      ]
     },
     "execution_count": 18,
     "metadata": {},
     "output_type": "execute_result"
    }
   ],
   "source": [
    "cost_discharge_df[cost_discharge_df.discharge_category_dbscan == 4]"
   ]
  },
  {
   "cell_type": "code",
   "execution_count": null,
   "metadata": {
    "colab": {
     "base_uri": "https://localhost:8080/",
     "height": 269
    },
    "id": "XKPDF0WmhEb9",
    "outputId": "a11fde19-fecd-4f2a-b779-9e71286de677"
   },
   "outputs": [
    {
     "data": {
      "text/html": [
       "\n",
       "  <div id=\"df-1622dcb5-e2c5-4097-934f-1228b5496a40\">\n",
       "    <div class=\"colab-df-container\">\n",
       "      <div>\n",
       "<style scoped>\n",
       "    .dataframe tbody tr th:only-of-type {\n",
       "        vertical-align: middle;\n",
       "    }\n",
       "\n",
       "    .dataframe tbody tr th {\n",
       "        vertical-align: top;\n",
       "    }\n",
       "\n",
       "    .dataframe thead th {\n",
       "        text-align: right;\n",
       "    }\n",
       "</style>\n",
       "<table border=\"1\" class=\"dataframe\">\n",
       "  <thead>\n",
       "    <tr style=\"text-align: right;\">\n",
       "      <th></th>\n",
       "      <th>group</th>\n",
       "      <th>pat_cost</th>\n",
       "      <th>discharge_to_home_pct</th>\n",
       "      <th>phy_spec</th>\n",
       "      <th>IP_pct</th>\n",
       "      <th>discharge_category_dbscan</th>\n",
       "    </tr>\n",
       "  </thead>\n",
       "  <tbody>\n",
       "    <tr>\n",
       "      <th>1</th>\n",
       "      <td>ant_cerv_fusion</td>\n",
       "      <td>18848.1697</td>\n",
       "      <td>0.846973</td>\n",
       "      <td>NEUROLOGICAL SURGERY (NS)</td>\n",
       "      <td>0.575495</td>\n",
       "      <td>-1</td>\n",
       "    </tr>\n",
       "    <tr>\n",
       "      <th>4</th>\n",
       "      <td>breast reconstruction</td>\n",
       "      <td>13690.8043</td>\n",
       "      <td>0.929970</td>\n",
       "      <td>PLASTIC SURGERY (PS)</td>\n",
       "      <td>0.246127</td>\n",
       "      <td>-1</td>\n",
       "    </tr>\n",
       "    <tr>\n",
       "      <th>6</th>\n",
       "      <td>bunionectomy</td>\n",
       "      <td>6344.0255</td>\n",
       "      <td>0.977562</td>\n",
       "      <td>PODIATRY (POD)</td>\n",
       "      <td>0.000000</td>\n",
       "      <td>-1</td>\n",
       "    </tr>\n",
       "    <tr>\n",
       "      <th>10</th>\n",
       "      <td>cardiac_ablaton_anesthesia</td>\n",
       "      <td>17757.4340</td>\n",
       "      <td>0.992291</td>\n",
       "      <td>CARDIAC ELECTROPHYSIOLOGY (ICE)</td>\n",
       "      <td>0.000000</td>\n",
       "      <td>-1</td>\n",
       "    </tr>\n",
       "    <tr>\n",
       "      <th>18</th>\n",
       "      <td>hip_fracture_fixation</td>\n",
       "      <td>20244.9977</td>\n",
       "      <td>0.085826</td>\n",
       "      <td>HOSPITALIST (HOS)</td>\n",
       "      <td>0.992639</td>\n",
       "      <td>-1</td>\n",
       "    </tr>\n",
       "    <tr>\n",
       "      <th>19</th>\n",
       "      <td>hysterect</td>\n",
       "      <td>10254.5665</td>\n",
       "      <td>0.966278</td>\n",
       "      <td>OBSTETRICS/GYNECOLOGY (OBG)</td>\n",
       "      <td>0.360516</td>\n",
       "      <td>-1</td>\n",
       "    </tr>\n",
       "    <tr>\n",
       "      <th>46</th>\n",
       "      <td>thoracic</td>\n",
       "      <td>26456.1815</td>\n",
       "      <td>0.685308</td>\n",
       "      <td>THORACIC SURGERY (TS)</td>\n",
       "      <td>0.917489</td>\n",
       "      <td>-1</td>\n",
       "    </tr>\n",
       "  </tbody>\n",
       "</table>\n",
       "</div>\n",
       "      <button class=\"colab-df-convert\" onclick=\"convertToInteractive('df-1622dcb5-e2c5-4097-934f-1228b5496a40')\"\n",
       "              title=\"Convert this dataframe to an interactive table.\"\n",
       "              style=\"display:none;\">\n",
       "        \n",
       "  <svg xmlns=\"http://www.w3.org/2000/svg\" height=\"24px\"viewBox=\"0 0 24 24\"\n",
       "       width=\"24px\">\n",
       "    <path d=\"M0 0h24v24H0V0z\" fill=\"none\"/>\n",
       "    <path d=\"M18.56 5.44l.94 2.06.94-2.06 2.06-.94-2.06-.94-.94-2.06-.94 2.06-2.06.94zm-11 1L8.5 8.5l.94-2.06 2.06-.94-2.06-.94L8.5 2.5l-.94 2.06-2.06.94zm10 10l.94 2.06.94-2.06 2.06-.94-2.06-.94-.94-2.06-.94 2.06-2.06.94z\"/><path d=\"M17.41 7.96l-1.37-1.37c-.4-.4-.92-.59-1.43-.59-.52 0-1.04.2-1.43.59L10.3 9.45l-7.72 7.72c-.78.78-.78 2.05 0 2.83L4 21.41c.39.39.9.59 1.41.59.51 0 1.02-.2 1.41-.59l7.78-7.78 2.81-2.81c.8-.78.8-2.07 0-2.86zM5.41 20L4 18.59l7.72-7.72 1.47 1.35L5.41 20z\"/>\n",
       "  </svg>\n",
       "      </button>\n",
       "      \n",
       "  <style>\n",
       "    .colab-df-container {\n",
       "      display:flex;\n",
       "      flex-wrap:wrap;\n",
       "      gap: 12px;\n",
       "    }\n",
       "\n",
       "    .colab-df-convert {\n",
       "      background-color: #E8F0FE;\n",
       "      border: none;\n",
       "      border-radius: 50%;\n",
       "      cursor: pointer;\n",
       "      display: none;\n",
       "      fill: #1967D2;\n",
       "      height: 32px;\n",
       "      padding: 0 0 0 0;\n",
       "      width: 32px;\n",
       "    }\n",
       "\n",
       "    .colab-df-convert:hover {\n",
       "      background-color: #E2EBFA;\n",
       "      box-shadow: 0px 1px 2px rgba(60, 64, 67, 0.3), 0px 1px 3px 1px rgba(60, 64, 67, 0.15);\n",
       "      fill: #174EA6;\n",
       "    }\n",
       "\n",
       "    [theme=dark] .colab-df-convert {\n",
       "      background-color: #3B4455;\n",
       "      fill: #D2E3FC;\n",
       "    }\n",
       "\n",
       "    [theme=dark] .colab-df-convert:hover {\n",
       "      background-color: #434B5C;\n",
       "      box-shadow: 0px 1px 3px 1px rgba(0, 0, 0, 0.15);\n",
       "      filter: drop-shadow(0px 1px 2px rgba(0, 0, 0, 0.3));\n",
       "      fill: #FFFFFF;\n",
       "    }\n",
       "  </style>\n",
       "\n",
       "      <script>\n",
       "        const buttonEl =\n",
       "          document.querySelector('#df-1622dcb5-e2c5-4097-934f-1228b5496a40 button.colab-df-convert');\n",
       "        buttonEl.style.display =\n",
       "          google.colab.kernel.accessAllowed ? 'block' : 'none';\n",
       "\n",
       "        async function convertToInteractive(key) {\n",
       "          const element = document.querySelector('#df-1622dcb5-e2c5-4097-934f-1228b5496a40');\n",
       "          const dataTable =\n",
       "            await google.colab.kernel.invokeFunction('convertToInteractive',\n",
       "                                                     [key], {});\n",
       "          if (!dataTable) return;\n",
       "\n",
       "          const docLinkHtml = 'Like what you see? Visit the ' +\n",
       "            '<a target=\"_blank\" href=https://colab.research.google.com/notebooks/data_table.ipynb>data table notebook</a>'\n",
       "            + ' to learn more about interactive tables.';\n",
       "          element.innerHTML = '';\n",
       "          dataTable['output_type'] = 'display_data';\n",
       "          await google.colab.output.renderOutput(dataTable, element);\n",
       "          const docLink = document.createElement('div');\n",
       "          docLink.innerHTML = docLinkHtml;\n",
       "          element.appendChild(docLink);\n",
       "        }\n",
       "      </script>\n",
       "    </div>\n",
       "  </div>\n",
       "  "
      ],
      "text/plain": [
       "                         group    pat_cost  discharge_to_home_pct  \\\n",
       "1              ant_cerv_fusion  18848.1697               0.846973   \n",
       "4        breast reconstruction  13690.8043               0.929970   \n",
       "6                 bunionectomy   6344.0255               0.977562   \n",
       "10  cardiac_ablaton_anesthesia  17757.4340               0.992291   \n",
       "18       hip_fracture_fixation  20244.9977               0.085826   \n",
       "19                   hysterect  10254.5665               0.966278   \n",
       "46                    thoracic  26456.1815               0.685308   \n",
       "\n",
       "                           phy_spec    IP_pct  discharge_category_dbscan  \n",
       "1         NEUROLOGICAL SURGERY (NS)  0.575495                         -1  \n",
       "4              PLASTIC SURGERY (PS)  0.246127                         -1  \n",
       "6                    PODIATRY (POD)  0.000000                         -1  \n",
       "10  CARDIAC ELECTROPHYSIOLOGY (ICE)  0.000000                         -1  \n",
       "18                HOSPITALIST (HOS)  0.992639                         -1  \n",
       "19      OBSTETRICS/GYNECOLOGY (OBG)  0.360516                         -1  \n",
       "46            THORACIC SURGERY (TS)  0.917489                         -1  "
      ]
     },
     "execution_count": 19,
     "metadata": {},
     "output_type": "execute_result"
    }
   ],
   "source": [
    "cost_discharge_df[cost_discharge_df.discharge_category_dbscan == -1]"
   ]
  },
  {
   "cell_type": "markdown",
   "metadata": {
    "id": "lHvoeJe0oeDv"
   },
   "source": [
    "### Using *KMedoids*"
   ]
  },
  {
   "cell_type": "code",
   "execution_count": null,
   "metadata": {
    "id": "Izc9bm7T5gOQ"
   },
   "outputs": [],
   "source": [
    "from sklearn_extra.cluster import KMedoids"
   ]
  },
  {
   "cell_type": "code",
   "execution_count": null,
   "metadata": {
    "id": "MJAabl-BaSNa"
   },
   "outputs": [],
   "source": [
    "num_clusters = 4\n",
    "\n",
    "num_clusters = [i for i in range(2,8)]\n",
    "inertias = []\n",
    "for n_cluster in num_clusters:\n",
    "  kmedoids = (KMedoids(n_clusters=n_cluster, \n",
    "                            metric='precomputed',\n",
    "                            method='pam', init='build', \n",
    "                            max_iter=300, \n",
    "                            random_state=42)\n",
    "              .fit(dist_matrix))\n",
    "  inertias.append(kmedoids.inertia_)\n"
   ]
  },
  {
   "cell_type": "code",
   "execution_count": null,
   "metadata": {
    "id": "J2J-xQZ9wMrU"
   },
   "outputs": [],
   "source": [
    "\n"
   ]
  },
  {
   "cell_type": "code",
   "execution_count": null,
   "metadata": {
    "colab": {
     "base_uri": "https://localhost:8080/",
     "height": 295
    },
    "id": "3vTf0l8SvVTp",
    "outputId": "97fa9273-95ce-4b60-d3db-2686ba281b25"
   },
   "outputs": [
    {
     "data": {
      "image/png": "[encoded data removed]",
      "text/plain": [
       "<Figure size 432x288 with 1 Axes>"
      ]
     },
     "metadata": {
      "needs_background": "light"
     },
     "output_type": "display_data"
    }
   ],
   "source": [
    "# Compare the intertis wrt diff num of clusters\n",
    "\n",
    "plt.plot(inertias,num_clusters)\n",
    "plt.xlabel('inertia')\n",
    "plt.ylabel('n_clusters')\n",
    "plt.title('Inertia vs Num Clusters for KMedoids')\n",
    "plt.show()"
   ]
  },
  {
   "cell_type": "markdown",
   "metadata": {
    "id": "sB7Gy1EXwRLf"
   },
   "source": [
    "As per the plot, 5 seems to be the optimal value."
   ]
  },
  {
   "cell_type": "code",
   "execution_count": null,
   "metadata": {
    "id": "li5rpu9cwOmG"
   },
   "outputs": [],
   "source": [
    "kmedoids = (KMedoids(n_clusters=5, \n",
    "                            metric='precomputed',\n",
    "                            method='pam', init='build', \n",
    "                            max_iter=300, \n",
    "                            random_state=42)\n",
    "              .fit(dist_matrix))"
   ]
  },
  {
   "cell_type": "code",
   "execution_count": null,
   "metadata": {
    "id": "ynBZ1eUq6hZZ"
   },
   "outputs": [],
   "source": [
    "cost_discharge_df[\"discharge_category_kmedoids\"] = kmedoids.labels_"
   ]
  },
  {
   "cell_type": "code",
   "execution_count": null,
   "metadata": {
    "colab": {
     "base_uri": "https://localhost:8080/"
    },
    "id": "BKdChnYc60kt",
    "outputId": "3f7b746c-5f4b-4044-8c0e-0ccc3b18d351"
   },
   "outputs": [
    {
     "data": {
      "text/plain": [
       "array([0, 3, 2, 3, 0, 4, 4, 1, 1, 1, 1, 1, 0, 3, 2, 4, 3, 3, 2, 0, 2, 0,\n",
       "       1, 3, 3, 3, 3, 3, 0, 0, 0, 0, 4, 2, 2, 3, 2, 0, 0, 2, 2, 3, 0, 4,\n",
       "       1, 2, 2, 2, 2, 2])"
      ]
     },
     "execution_count": 25,
     "metadata": {},
     "output_type": "execute_result"
    }
   ],
   "source": [
    "kmedoids.labels_"
   ]
  },
  {
   "cell_type": "code",
   "execution_count": null,
   "metadata": {
    "colab": {
     "base_uri": "https://localhost:8080/",
     "height": 206
    },
    "id": "_FnOoTOriZpj",
    "outputId": "7925ae0a-9e96-46b5-b9c3-a206c3c8c75f"
   },
   "outputs": [
    {
     "data": {
      "text/html": [
       "\n",
       "  <div id=\"df-9cbee702-c664-4ae3-a897-c80bce0d6056\">\n",
       "    <div class=\"colab-df-container\">\n",
       "      <div>\n",
       "<style scoped>\n",
       "    .dataframe tbody tr th:only-of-type {\n",
       "        vertical-align: middle;\n",
       "    }\n",
       "\n",
       "    .dataframe tbody tr th {\n",
       "        vertical-align: top;\n",
       "    }\n",
       "\n",
       "    .dataframe thead th {\n",
       "        text-align: right;\n",
       "    }\n",
       "</style>\n",
       "<table border=\"1\" class=\"dataframe\">\n",
       "  <thead>\n",
       "    <tr style=\"text-align: right;\">\n",
       "      <th></th>\n",
       "      <th>group</th>\n",
       "      <th>pat_cost</th>\n",
       "      <th>discharge_to_home_pct</th>\n",
       "      <th>phy_spec</th>\n",
       "      <th>IP_pct</th>\n",
       "      <th>discharge_category_dbscan</th>\n",
       "      <th>discharge_category_kmedoids</th>\n",
       "    </tr>\n",
       "  </thead>\n",
       "  <tbody>\n",
       "    <tr>\n",
       "      <th>5</th>\n",
       "      <td>bsp</td>\n",
       "      <td>7324.2300</td>\n",
       "      <td>0.983472</td>\n",
       "      <td>OTOLARYNGOLOGY (OTO)</td>\n",
       "      <td>0.0</td>\n",
       "      <td>2</td>\n",
       "      <td>4</td>\n",
       "    </tr>\n",
       "    <tr>\n",
       "      <th>6</th>\n",
       "      <td>bunionectomy</td>\n",
       "      <td>6344.0255</td>\n",
       "      <td>0.977562</td>\n",
       "      <td>PODIATRY (POD)</td>\n",
       "      <td>0.0</td>\n",
       "      <td>-1</td>\n",
       "      <td>4</td>\n",
       "    </tr>\n",
       "    <tr>\n",
       "      <th>15</th>\n",
       "      <td>fess</td>\n",
       "      <td>5896.7557</td>\n",
       "      <td>0.982442</td>\n",
       "      <td>OTOLARYNGOLOGY (OTO)</td>\n",
       "      <td>0.0</td>\n",
       "      <td>2</td>\n",
       "      <td>4</td>\n",
       "    </tr>\n",
       "    <tr>\n",
       "      <th>32</th>\n",
       "      <td>pnn</td>\n",
       "      <td>4324.9976</td>\n",
       "      <td>0.983992</td>\n",
       "      <td>OTOLARYNGOLOGY (OTO)</td>\n",
       "      <td>0.0</td>\n",
       "      <td>2</td>\n",
       "      <td>4</td>\n",
       "    </tr>\n",
       "    <tr>\n",
       "      <th>43</th>\n",
       "      <td>septoplasty</td>\n",
       "      <td>5136.1079</td>\n",
       "      <td>0.980543</td>\n",
       "      <td>OTOLARYNGOLOGY (OTO)</td>\n",
       "      <td>0.0</td>\n",
       "      <td>2</td>\n",
       "      <td>4</td>\n",
       "    </tr>\n",
       "  </tbody>\n",
       "</table>\n",
       "</div>\n",
       "      <button class=\"colab-df-convert\" onclick=\"convertToInteractive('df-9cbee702-c664-4ae3-a897-c80bce0d6056')\"\n",
       "              title=\"Convert this dataframe to an interactive table.\"\n",
       "              style=\"display:none;\">\n",
       "        \n",
       "  <svg xmlns=\"http://www.w3.org/2000/svg\" height=\"24px\"viewBox=\"0 0 24 24\"\n",
       "       width=\"24px\">\n",
       "    <path d=\"M0 0h24v24H0V0z\" fill=\"none\"/>\n",
       "    <path d=\"M18.56 5.44l.94 2.06.94-2.06 2.06-.94-2.06-.94-.94-2.06-.94 2.06-2.06.94zm-11 1L8.5 8.5l.94-2.06 2.06-.94-2.06-.94L8.5 2.5l-.94 2.06-2.06.94zm10 10l.94 2.06.94-2.06 2.06-.94-2.06-.94-.94-2.06-.94 2.06-2.06.94z\"/><path d=\"M17.41 7.96l-1.37-1.37c-.4-.4-.92-.59-1.43-.59-.52 0-1.04.2-1.43.59L10.3 9.45l-7.72 7.72c-.78.78-.78 2.05 0 2.83L4 21.41c.39.39.9.59 1.41.59.51 0 1.02-.2 1.41-.59l7.78-7.78 2.81-2.81c.8-.78.8-2.07 0-2.86zM5.41 20L4 18.59l7.72-7.72 1.47 1.35L5.41 20z\"/>\n",
       "  </svg>\n",
       "      </button>\n",
       "      \n",
       "  <style>\n",
       "    .colab-df-container {\n",
       "      display:flex;\n",
       "      flex-wrap:wrap;\n",
       "      gap: 12px;\n",
       "    }\n",
       "\n",
       "    .colab-df-convert {\n",
       "      background-color: #E8F0FE;\n",
       "      border: none;\n",
       "      border-radius: 50%;\n",
       "      cursor: pointer;\n",
       "      display: none;\n",
       "      fill: #1967D2;\n",
       "      height: 32px;\n",
       "      padding: 0 0 0 0;\n",
       "      width: 32px;\n",
       "    }\n",
       "\n",
       "    .colab-df-convert:hover {\n",
       "      background-color: #E2EBFA;\n",
       "      box-shadow: 0px 1px 2px rgba(60, 64, 67, 0.3), 0px 1px 3px 1px rgba(60, 64, 67, 0.15);\n",
       "      fill: #174EA6;\n",
       "    }\n",
       "\n",
       "    [theme=dark] .colab-df-convert {\n",
       "      background-color: #3B4455;\n",
       "      fill: #D2E3FC;\n",
       "    }\n",
       "\n",
       "    [theme=dark] .colab-df-convert:hover {\n",
       "      background-color: #434B5C;\n",
       "      box-shadow: 0px 1px 3px 1px rgba(0, 0, 0, 0.15);\n",
       "      filter: drop-shadow(0px 1px 2px rgba(0, 0, 0, 0.3));\n",
       "      fill: #FFFFFF;\n",
       "    }\n",
       "  </style>\n",
       "\n",
       "      <script>\n",
       "        const buttonEl =\n",
       "          document.querySelector('#df-9cbee702-c664-4ae3-a897-c80bce0d6056 button.colab-df-convert');\n",
       "        buttonEl.style.display =\n",
       "          google.colab.kernel.accessAllowed ? 'block' : 'none';\n",
       "\n",
       "        async function convertToInteractive(key) {\n",
       "          const element = document.querySelector('#df-9cbee702-c664-4ae3-a897-c80bce0d6056');\n",
       "          const dataTable =\n",
       "            await google.colab.kernel.invokeFunction('convertToInteractive',\n",
       "                                                     [key], {});\n",
       "          if (!dataTable) return;\n",
       "\n",
       "          const docLinkHtml = 'Like what you see? Visit the ' +\n",
       "            '<a target=\"_blank\" href=https://colab.research.google.com/notebooks/data_table.ipynb>data table notebook</a>'\n",
       "            + ' to learn more about interactive tables.';\n",
       "          element.innerHTML = '';\n",
       "          dataTable['output_type'] = 'display_data';\n",
       "          await google.colab.output.renderOutput(dataTable, element);\n",
       "          const docLink = document.createElement('div');\n",
       "          docLink.innerHTML = docLinkHtml;\n",
       "          element.appendChild(docLink);\n",
       "        }\n",
       "      </script>\n",
       "    </div>\n",
       "  </div>\n",
       "  "
      ],
      "text/plain": [
       "           group   pat_cost  discharge_to_home_pct              phy_spec  \\\n",
       "5            bsp  7324.2300               0.983472  OTOLARYNGOLOGY (OTO)   \n",
       "6   bunionectomy  6344.0255               0.977562        PODIATRY (POD)   \n",
       "15          fess  5896.7557               0.982442  OTOLARYNGOLOGY (OTO)   \n",
       "32           pnn  4324.9976               0.983992  OTOLARYNGOLOGY (OTO)   \n",
       "43   septoplasty  5136.1079               0.980543  OTOLARYNGOLOGY (OTO)   \n",
       "\n",
       "    IP_pct  discharge_category_dbscan  discharge_category_kmedoids  \n",
       "5      0.0                          2                            4  \n",
       "6      0.0                         -1                            4  \n",
       "15     0.0                          2                            4  \n",
       "32     0.0                          2                            4  \n",
       "43     0.0                          2                            4  "
      ]
     },
     "execution_count": 26,
     "metadata": {},
     "output_type": "execute_result"
    }
   ],
   "source": [
    "cost_discharge_df[cost_discharge_df[\"discharge_category_kmedoids\"] == 4]"
   ]
  },
  {
   "cell_type": "code",
   "execution_count": null,
   "metadata": {
    "colab": {
     "base_uri": "https://localhost:8080/",
     "height": 313
    },
    "id": "1uPxv5LXorWv",
    "outputId": "0e3a8729-79a4-469d-f6ea-5c0925d44eff"
   },
   "outputs": [
    {
     "data": {
      "text/html": [
       "\n",
       "  <div id=\"df-ad08086e-e80d-4382-ad7e-513e5b0aaa39\">\n",
       "    <div class=\"colab-df-container\">\n",
       "      <div>\n",
       "<style scoped>\n",
       "    .dataframe tbody tr th:only-of-type {\n",
       "        vertical-align: middle;\n",
       "    }\n",
       "\n",
       "    .dataframe tbody tr th {\n",
       "        vertical-align: top;\n",
       "    }\n",
       "\n",
       "    .dataframe thead th {\n",
       "        text-align: right;\n",
       "    }\n",
       "</style>\n",
       "<table border=\"1\" class=\"dataframe\">\n",
       "  <thead>\n",
       "    <tr style=\"text-align: right;\">\n",
       "      <th></th>\n",
       "      <th>group</th>\n",
       "      <th>pat_cost</th>\n",
       "      <th>discharge_to_home_pct</th>\n",
       "      <th>phy_spec</th>\n",
       "      <th>IP_pct</th>\n",
       "      <th>discharge_category_dbscan</th>\n",
       "      <th>discharge_category_kmedoids</th>\n",
       "    </tr>\n",
       "  </thead>\n",
       "  <tbody>\n",
       "    <tr>\n",
       "      <th>7</th>\n",
       "      <td>cardiac ablation</td>\n",
       "      <td>22307.6292</td>\n",
       "      <td>0.926094</td>\n",
       "      <td>CARDIOVASCULAR DISEASES (CD)</td>\n",
       "      <td>0.279960</td>\n",
       "      <td>3</td>\n",
       "      <td>1</td>\n",
       "    </tr>\n",
       "    <tr>\n",
       "      <th>8</th>\n",
       "      <td>cardiac ablation_additional_discrete</td>\n",
       "      <td>23310.1182</td>\n",
       "      <td>0.992888</td>\n",
       "      <td>CARDIOVASCULAR DISEASES (CD)</td>\n",
       "      <td>0.000000</td>\n",
       "      <td>3</td>\n",
       "      <td>1</td>\n",
       "    </tr>\n",
       "    <tr>\n",
       "      <th>9</th>\n",
       "      <td>cardiac ablation_linear_focal</td>\n",
       "      <td>23227.2749</td>\n",
       "      <td>0.994481</td>\n",
       "      <td>CARDIOVASCULAR DISEASES (CD)</td>\n",
       "      <td>0.000000</td>\n",
       "      <td>3</td>\n",
       "      <td>1</td>\n",
       "    </tr>\n",
       "    <tr>\n",
       "      <th>10</th>\n",
       "      <td>cardiac_ablaton_anesthesia</td>\n",
       "      <td>17757.4340</td>\n",
       "      <td>0.992291</td>\n",
       "      <td>CARDIAC ELECTROPHYSIOLOGY (ICE)</td>\n",
       "      <td>0.000000</td>\n",
       "      <td>-1</td>\n",
       "      <td>1</td>\n",
       "    </tr>\n",
       "    <tr>\n",
       "      <th>11</th>\n",
       "      <td>cardiac_ablaton_ice</td>\n",
       "      <td>21564.2802</td>\n",
       "      <td>0.992072</td>\n",
       "      <td>CARDIOVASCULAR DISEASES (CD)</td>\n",
       "      <td>0.000000</td>\n",
       "      <td>3</td>\n",
       "      <td>1</td>\n",
       "    </tr>\n",
       "    <tr>\n",
       "      <th>22</th>\n",
       "      <td>laac</td>\n",
       "      <td>26641.5200</td>\n",
       "      <td>0.919479</td>\n",
       "      <td>CARDIOVASCULAR DISEASES (CD)</td>\n",
       "      <td>0.972062</td>\n",
       "      <td>3</td>\n",
       "      <td>1</td>\n",
       "    </tr>\n",
       "    <tr>\n",
       "      <th>44</th>\n",
       "      <td>tavr</td>\n",
       "      <td>29582.2368</td>\n",
       "      <td>0.877698</td>\n",
       "      <td>CARDIOVASCULAR DISEASES (CD)</td>\n",
       "      <td>0.000000</td>\n",
       "      <td>3</td>\n",
       "      <td>1</td>\n",
       "    </tr>\n",
       "  </tbody>\n",
       "</table>\n",
       "</div>\n",
       "      <button class=\"colab-df-convert\" onclick=\"convertToInteractive('df-ad08086e-e80d-4382-ad7e-513e5b0aaa39')\"\n",
       "              title=\"Convert this dataframe to an interactive table.\"\n",
       "              style=\"display:none;\">\n",
       "        \n",
       "  <svg xmlns=\"http://www.w3.org/2000/svg\" height=\"24px\"viewBox=\"0 0 24 24\"\n",
       "       width=\"24px\">\n",
       "    <path d=\"M0 0h24v24H0V0z\" fill=\"none\"/>\n",
       "    <path d=\"M18.56 5.44l.94 2.06.94-2.06 2.06-.94-2.06-.94-.94-2.06-.94 2.06-2.06.94zm-11 1L8.5 8.5l.94-2.06 2.06-.94-2.06-.94L8.5 2.5l-.94 2.06-2.06.94zm10 10l.94 2.06.94-2.06 2.06-.94-2.06-.94-.94-2.06-.94 2.06-2.06.94z\"/><path d=\"M17.41 7.96l-1.37-1.37c-.4-.4-.92-.59-1.43-.59-.52 0-1.04.2-1.43.59L10.3 9.45l-7.72 7.72c-.78.78-.78 2.05 0 2.83L4 21.41c.39.39.9.59 1.41.59.51 0 1.02-.2 1.41-.59l7.78-7.78 2.81-2.81c.8-.78.8-2.07 0-2.86zM5.41 20L4 18.59l7.72-7.72 1.47 1.35L5.41 20z\"/>\n",
       "  </svg>\n",
       "      </button>\n",
       "      \n",
       "  <style>\n",
       "    .colab-df-container {\n",
       "      display:flex;\n",
       "      flex-wrap:wrap;\n",
       "      gap: 12px;\n",
       "    }\n",
       "\n",
       "    .colab-df-convert {\n",
       "      background-color: #E8F0FE;\n",
       "      border: none;\n",
       "      border-radius: 50%;\n",
       "      cursor: pointer;\n",
       "      display: none;\n",
       "      fill: #1967D2;\n",
       "      height: 32px;\n",
       "      padding: 0 0 0 0;\n",
       "      width: 32px;\n",
       "    }\n",
       "\n",
       "    .colab-df-convert:hover {\n",
       "      background-color: #E2EBFA;\n",
       "      box-shadow: 0px 1px 2px rgba(60, 64, 67, 0.3), 0px 1px 3px 1px rgba(60, 64, 67, 0.15);\n",
       "      fill: #174EA6;\n",
       "    }\n",
       "\n",
       "    [theme=dark] .colab-df-convert {\n",
       "      background-color: #3B4455;\n",
       "      fill: #D2E3FC;\n",
       "    }\n",
       "\n",
       "    [theme=dark] .colab-df-convert:hover {\n",
       "      background-color: #434B5C;\n",
       "      box-shadow: 0px 1px 3px 1px rgba(0, 0, 0, 0.15);\n",
       "      filter: drop-shadow(0px 1px 2px rgba(0, 0, 0, 0.3));\n",
       "      fill: #FFFFFF;\n",
       "    }\n",
       "  </style>\n",
       "\n",
       "      <script>\n",
       "        const buttonEl =\n",
       "          document.querySelector('#df-ad08086e-e80d-4382-ad7e-513e5b0aaa39 button.colab-df-convert');\n",
       "        buttonEl.style.display =\n",
       "          google.colab.kernel.accessAllowed ? 'block' : 'none';\n",
       "\n",
       "        async function convertToInteractive(key) {\n",
       "          const element = document.querySelector('#df-ad08086e-e80d-4382-ad7e-513e5b0aaa39');\n",
       "          const dataTable =\n",
       "            await google.colab.kernel.invokeFunction('convertToInteractive',\n",
       "                                                     [key], {});\n",
       "          if (!dataTable) return;\n",
       "\n",
       "          const docLinkHtml = 'Like what you see? Visit the ' +\n",
       "            '<a target=\"_blank\" href=https://colab.research.google.com/notebooks/data_table.ipynb>data table notebook</a>'\n",
       "            + ' to learn more about interactive tables.';\n",
       "          element.innerHTML = '';\n",
       "          dataTable['output_type'] = 'display_data';\n",
       "          await google.colab.output.renderOutput(dataTable, element);\n",
       "          const docLink = document.createElement('div');\n",
       "          docLink.innerHTML = docLinkHtml;\n",
       "          element.appendChild(docLink);\n",
       "        }\n",
       "      </script>\n",
       "    </div>\n",
       "  </div>\n",
       "  "
      ],
      "text/plain": [
       "                                   group    pat_cost  discharge_to_home_pct  \\\n",
       "7                       cardiac ablation  22307.6292               0.926094   \n",
       "8   cardiac ablation_additional_discrete  23310.1182               0.992888   \n",
       "9          cardiac ablation_linear_focal  23227.2749               0.994481   \n",
       "10            cardiac_ablaton_anesthesia  17757.4340               0.992291   \n",
       "11                   cardiac_ablaton_ice  21564.2802               0.992072   \n",
       "22                                  laac  26641.5200               0.919479   \n",
       "44                                  tavr  29582.2368               0.877698   \n",
       "\n",
       "                           phy_spec    IP_pct  discharge_category_dbscan  \\\n",
       "7      CARDIOVASCULAR DISEASES (CD)  0.279960                          3   \n",
       "8      CARDIOVASCULAR DISEASES (CD)  0.000000                          3   \n",
       "9      CARDIOVASCULAR DISEASES (CD)  0.000000                          3   \n",
       "10  CARDIAC ELECTROPHYSIOLOGY (ICE)  0.000000                         -1   \n",
       "11     CARDIOVASCULAR DISEASES (CD)  0.000000                          3   \n",
       "22     CARDIOVASCULAR DISEASES (CD)  0.972062                          3   \n",
       "44     CARDIOVASCULAR DISEASES (CD)  0.000000                          3   \n",
       "\n",
       "    discharge_category_kmedoids  \n",
       "7                             1  \n",
       "8                             1  \n",
       "9                             1  \n",
       "10                            1  \n",
       "11                            1  \n",
       "22                            1  \n",
       "44                            1  "
      ]
     },
     "execution_count": 27,
     "metadata": {},
     "output_type": "execute_result"
    }
   ],
   "source": [
    "cost_discharge_df[cost_discharge_df[\"discharge_category_kmedoids\"] == 1]"
   ]
  },
  {
   "cell_type": "code",
   "execution_count": null,
   "metadata": {
    "colab": {
     "base_uri": "https://localhost:8080/"
    },
    "id": "7Wy-N9x0urv-",
    "outputId": "743c63d1-292d-43d4-a0fb-0ae859fa10a9"
   },
   "outputs": [
    {
     "data": {
      "text/plain": [
       "15.6278"
      ]
     },
     "execution_count": 28,
     "metadata": {},
     "output_type": "execute_result"
    }
   ],
   "source": [
    "kmedoids.inertia_"
   ]
  },
  {
   "cell_type": "code",
   "execution_count": null,
   "metadata": {
    "id": "CMbfXQuqnKda"
   },
   "outputs": [],
   "source": [
    "# Writing the data in preprocessed folder\n",
    "cost_discharge_df.to_csv('../data/preprocessed/discharge_physpec_categorised.csv', index=False)"
   ]
  }
 ],
 "metadata": {
  "colab": {
   "collapsed_sections": [],
   "provenance": []
  },
  "kernelspec": {
   "display_name": "venv",
   "language": "python",
   "name": "venv"
  },
  "language_info": {
   "codemirror_mode": {
    "name": "ipython",
    "version": 3
   },
   "file_extension": ".py",
   "mimetype": "text/x-python",
   "name": "python",
   "nbconvert_exporter": "python",
   "pygments_lexer": "ipython3",
   "version": "3.7.6"
  }
 },
 "nbformat": 4,
 "nbformat_minor": 4
}
